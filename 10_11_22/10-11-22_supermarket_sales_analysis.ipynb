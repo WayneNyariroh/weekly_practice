{
 "cells": [
  {
   "cell_type": "markdown",
   "id": "0283ffc1-82ce-4687-bd59-aaa2660afcb4",
   "metadata": {},
   "source": [
    "_\"practice makes better\"_"
   ]
  },
  {
   "cell_type": "markdown",
   "id": "35957f4f-c3e7-4026-8d1d-385f785a0c3e",
   "metadata": {},
   "source": [
    "#### Imports and settings"
   ]
  },
  {
   "cell_type": "code",
   "execution_count": 2,
   "id": "8786188f-6c28-4e1c-a807-7665e0824d21",
   "metadata": {
    "tags": []
   },
   "outputs": [],
   "source": [
    "import pandas as pd\n",
    "import numpy as np\n",
    "import datetime as dt\n",
    "\n",
    "import warnings\n",
    "warnings.filterwarnings(\"ignore\")"
   ]
  },
  {
   "cell_type": "markdown",
   "id": "94171d4d-51c1-4e3b-aeb7-5a97e14d7e14",
   "metadata": {},
   "source": [
    "#### Loading the Data"
   ]
  },
  {
   "cell_type": "code",
   "execution_count": 3,
   "id": "3fed799c-264f-4966-9026-5be08e9a0f02",
   "metadata": {},
   "outputs": [],
   "source": [
    "df = pd.read_csv('supermarket_sales - Sheet1.csv')"
   ]
  },
  {
   "cell_type": "code",
   "execution_count": 4,
   "id": "8c0c93e4-85be-4739-86ca-9be58bacba43",
   "metadata": {},
   "outputs": [
    {
     "data": {
      "text/html": [
       "<div>\n",
       "<style scoped>\n",
       "    .dataframe tbody tr th:only-of-type {\n",
       "        vertical-align: middle;\n",
       "    }\n",
       "\n",
       "    .dataframe tbody tr th {\n",
       "        vertical-align: top;\n",
       "    }\n",
       "\n",
       "    .dataframe thead th {\n",
       "        text-align: right;\n",
       "    }\n",
       "</style>\n",
       "<table border=\"1\" class=\"dataframe\">\n",
       "  <thead>\n",
       "    <tr style=\"text-align: right;\">\n",
       "      <th></th>\n",
       "      <th>Invoice ID</th>\n",
       "      <th>Branch</th>\n",
       "      <th>City</th>\n",
       "      <th>Customer type</th>\n",
       "      <th>Gender</th>\n",
       "      <th>Product line</th>\n",
       "      <th>Unit price</th>\n",
       "      <th>Quantity</th>\n",
       "      <th>Tax 5%</th>\n",
       "      <th>Total</th>\n",
       "      <th>Date</th>\n",
       "      <th>Time</th>\n",
       "      <th>Payment</th>\n",
       "      <th>cogs</th>\n",
       "      <th>gross margin percentage</th>\n",
       "      <th>gross income</th>\n",
       "      <th>Rating</th>\n",
       "    </tr>\n",
       "  </thead>\n",
       "  <tbody>\n",
       "    <tr>\n",
       "      <th>0</th>\n",
       "      <td>750-67-8428</td>\n",
       "      <td>A</td>\n",
       "      <td>Yangon</td>\n",
       "      <td>Member</td>\n",
       "      <td>Female</td>\n",
       "      <td>Health and beauty</td>\n",
       "      <td>74.69</td>\n",
       "      <td>7</td>\n",
       "      <td>26.1415</td>\n",
       "      <td>548.9715</td>\n",
       "      <td>1/5/2019</td>\n",
       "      <td>13:08</td>\n",
       "      <td>Ewallet</td>\n",
       "      <td>522.83</td>\n",
       "      <td>4.761905</td>\n",
       "      <td>26.1415</td>\n",
       "      <td>9.1</td>\n",
       "    </tr>\n",
       "    <tr>\n",
       "      <th>1</th>\n",
       "      <td>226-31-3081</td>\n",
       "      <td>C</td>\n",
       "      <td>Naypyitaw</td>\n",
       "      <td>Normal</td>\n",
       "      <td>Female</td>\n",
       "      <td>Electronic accessories</td>\n",
       "      <td>15.28</td>\n",
       "      <td>5</td>\n",
       "      <td>3.8200</td>\n",
       "      <td>80.2200</td>\n",
       "      <td>3/8/2019</td>\n",
       "      <td>10:29</td>\n",
       "      <td>Cash</td>\n",
       "      <td>76.40</td>\n",
       "      <td>4.761905</td>\n",
       "      <td>3.8200</td>\n",
       "      <td>9.6</td>\n",
       "    </tr>\n",
       "  </tbody>\n",
       "</table>\n",
       "</div>"
      ],
      "text/plain": [
       "    Invoice ID Branch       City Customer type  Gender  \\\n",
       "0  750-67-8428      A     Yangon        Member  Female   \n",
       "1  226-31-3081      C  Naypyitaw        Normal  Female   \n",
       "\n",
       "             Product line  Unit price  Quantity   Tax 5%     Total      Date  \\\n",
       "0       Health and beauty       74.69         7  26.1415  548.9715  1/5/2019   \n",
       "1  Electronic accessories       15.28         5   3.8200   80.2200  3/8/2019   \n",
       "\n",
       "    Time  Payment    cogs  gross margin percentage  gross income  Rating  \n",
       "0  13:08  Ewallet  522.83                 4.761905       26.1415     9.1  \n",
       "1  10:29     Cash   76.40                 4.761905        3.8200     9.6  "
      ]
     },
     "execution_count": 4,
     "metadata": {},
     "output_type": "execute_result"
    }
   ],
   "source": [
    "#first 2 rows\n",
    "df.head(2)"
   ]
  },
  {
   "cell_type": "markdown",
   "id": "c64b6f13-77eb-48c1-87e5-7b42a3e9e1a4",
   "metadata": {},
   "source": [
    "#### About the Data"
   ]
  },
  {
   "cell_type": "code",
   "execution_count": 5,
   "id": "e522079e-d4b1-4117-b3d3-8a1305c2efbd",
   "metadata": {},
   "outputs": [
    {
     "data": {
      "text/plain": [
       "(1000, 17)"
      ]
     },
     "execution_count": 5,
     "metadata": {},
     "output_type": "execute_result"
    }
   ],
   "source": [
    "#rows, cols\n",
    "df.shape"
   ]
  },
  {
   "cell_type": "code",
   "execution_count": 6,
   "id": "164d9654-bae6-4463-85b1-890d8ebb7294",
   "metadata": {
    "tags": []
   },
   "outputs": [
    {
     "name": "stdout",
     "output_type": "stream",
     "text": [
      "<class 'pandas.core.frame.DataFrame'>\n",
      "RangeIndex: 1000 entries, 0 to 999\n",
      "Data columns (total 17 columns):\n",
      " #   Column                   Non-Null Count  Dtype  \n",
      "---  ------                   --------------  -----  \n",
      " 0   Invoice ID               1000 non-null   object \n",
      " 1   Branch                   1000 non-null   object \n",
      " 2   City                     1000 non-null   object \n",
      " 3   Customer type            1000 non-null   object \n",
      " 4   Gender                   1000 non-null   object \n",
      " 5   Product line             1000 non-null   object \n",
      " 6   Unit price               1000 non-null   float64\n",
      " 7   Quantity                 1000 non-null   int64  \n",
      " 8   Tax 5%                   1000 non-null   float64\n",
      " 9   Total                    1000 non-null   float64\n",
      " 10  Date                     1000 non-null   object \n",
      " 11  Time                     1000 non-null   object \n",
      " 12  Payment                  1000 non-null   object \n",
      " 13  cogs                     1000 non-null   float64\n",
      " 14  gross margin percentage  1000 non-null   float64\n",
      " 15  gross income             1000 non-null   float64\n",
      " 16  Rating                   1000 non-null   float64\n",
      "dtypes: float64(7), int64(1), object(9)\n",
      "memory usage: 132.9+ KB\n"
     ]
    }
   ],
   "source": [
    "df.info()"
   ]
  },
  {
   "cell_type": "code",
   "execution_count": 7,
   "id": "6c252902-428d-476f-9065-72bcad65d28f",
   "metadata": {
    "tags": []
   },
   "outputs": [
    {
     "data": {
      "text/plain": [
       "Index                        128\n",
       "Invoice ID                 68000\n",
       "Branch                     58000\n",
       "City                       64648\n",
       "Customer type              63000\n",
       "Gender                     62002\n",
       "Product line               75540\n",
       "Unit price                  8000\n",
       "Quantity                    8000\n",
       "Tax 5%                      8000\n",
       "Total                       8000\n",
       "Date                       65677\n",
       "Time                       62000\n",
       "Payment                    64212\n",
       "cogs                        8000\n",
       "gross margin percentage     8000\n",
       "gross income                8000\n",
       "Rating                      8000\n",
       "dtype: int64"
      ]
     },
     "execution_count": 7,
     "metadata": {},
     "output_type": "execute_result"
    }
   ],
   "source": [
    "#mem used by i & each col\n",
    "df.memory_usage(deep=True)"
   ]
  },
  {
   "cell_type": "code",
   "execution_count": 8,
   "id": "f5a55529-ec5c-42af-a207-14e7885e051f",
   "metadata": {},
   "outputs": [
    {
     "data": {
      "text/plain": [
       "647207"
      ]
     },
     "execution_count": 8,
     "metadata": {},
     "output_type": "execute_result"
    }
   ],
   "source": [
    "#total mem used\n",
    "df.memory_usage(deep=True).sum()"
   ]
  },
  {
   "cell_type": "code",
   "execution_count": 9,
   "id": "76f54630-d83f-4877-ad62-e39be005bfc3",
   "metadata": {},
   "outputs": [
    {
     "data": {
      "text/html": [
       "<div>\n",
       "<style scoped>\n",
       "    .dataframe tbody tr th:only-of-type {\n",
       "        vertical-align: middle;\n",
       "    }\n",
       "\n",
       "    .dataframe tbody tr th {\n",
       "        vertical-align: top;\n",
       "    }\n",
       "\n",
       "    .dataframe thead th {\n",
       "        text-align: right;\n",
       "    }\n",
       "</style>\n",
       "<table border=\"1\" class=\"dataframe\">\n",
       "  <thead>\n",
       "    <tr style=\"text-align: right;\">\n",
       "      <th></th>\n",
       "      <th>count</th>\n",
       "      <th>mean</th>\n",
       "      <th>std</th>\n",
       "      <th>min</th>\n",
       "      <th>25%</th>\n",
       "      <th>50%</th>\n",
       "      <th>75%</th>\n",
       "      <th>max</th>\n",
       "    </tr>\n",
       "  </thead>\n",
       "  <tbody>\n",
       "    <tr>\n",
       "      <th>Unit price</th>\n",
       "      <td>1000.0</td>\n",
       "      <td>55.672130</td>\n",
       "      <td>26.494628</td>\n",
       "      <td>10.080000</td>\n",
       "      <td>32.875000</td>\n",
       "      <td>55.230000</td>\n",
       "      <td>77.935000</td>\n",
       "      <td>99.960000</td>\n",
       "    </tr>\n",
       "    <tr>\n",
       "      <th>Quantity</th>\n",
       "      <td>1000.0</td>\n",
       "      <td>5.510000</td>\n",
       "      <td>2.923431</td>\n",
       "      <td>1.000000</td>\n",
       "      <td>3.000000</td>\n",
       "      <td>5.000000</td>\n",
       "      <td>8.000000</td>\n",
       "      <td>10.000000</td>\n",
       "    </tr>\n",
       "    <tr>\n",
       "      <th>Tax 5%</th>\n",
       "      <td>1000.0</td>\n",
       "      <td>15.379369</td>\n",
       "      <td>11.708825</td>\n",
       "      <td>0.508500</td>\n",
       "      <td>5.924875</td>\n",
       "      <td>12.088000</td>\n",
       "      <td>22.445250</td>\n",
       "      <td>49.650000</td>\n",
       "    </tr>\n",
       "    <tr>\n",
       "      <th>Total</th>\n",
       "      <td>1000.0</td>\n",
       "      <td>322.966749</td>\n",
       "      <td>245.885335</td>\n",
       "      <td>10.678500</td>\n",
       "      <td>124.422375</td>\n",
       "      <td>253.848000</td>\n",
       "      <td>471.350250</td>\n",
       "      <td>1042.650000</td>\n",
       "    </tr>\n",
       "    <tr>\n",
       "      <th>cogs</th>\n",
       "      <td>1000.0</td>\n",
       "      <td>307.587380</td>\n",
       "      <td>234.176510</td>\n",
       "      <td>10.170000</td>\n",
       "      <td>118.497500</td>\n",
       "      <td>241.760000</td>\n",
       "      <td>448.905000</td>\n",
       "      <td>993.000000</td>\n",
       "    </tr>\n",
       "    <tr>\n",
       "      <th>gross margin percentage</th>\n",
       "      <td>1000.0</td>\n",
       "      <td>4.761905</td>\n",
       "      <td>0.000000</td>\n",
       "      <td>4.761905</td>\n",
       "      <td>4.761905</td>\n",
       "      <td>4.761905</td>\n",
       "      <td>4.761905</td>\n",
       "      <td>4.761905</td>\n",
       "    </tr>\n",
       "    <tr>\n",
       "      <th>gross income</th>\n",
       "      <td>1000.0</td>\n",
       "      <td>15.379369</td>\n",
       "      <td>11.708825</td>\n",
       "      <td>0.508500</td>\n",
       "      <td>5.924875</td>\n",
       "      <td>12.088000</td>\n",
       "      <td>22.445250</td>\n",
       "      <td>49.650000</td>\n",
       "    </tr>\n",
       "    <tr>\n",
       "      <th>Rating</th>\n",
       "      <td>1000.0</td>\n",
       "      <td>6.972700</td>\n",
       "      <td>1.718580</td>\n",
       "      <td>4.000000</td>\n",
       "      <td>5.500000</td>\n",
       "      <td>7.000000</td>\n",
       "      <td>8.500000</td>\n",
       "      <td>10.000000</td>\n",
       "    </tr>\n",
       "  </tbody>\n",
       "</table>\n",
       "</div>"
      ],
      "text/plain": [
       "                          count        mean         std        min  \\\n",
       "Unit price               1000.0   55.672130   26.494628  10.080000   \n",
       "Quantity                 1000.0    5.510000    2.923431   1.000000   \n",
       "Tax 5%                   1000.0   15.379369   11.708825   0.508500   \n",
       "Total                    1000.0  322.966749  245.885335  10.678500   \n",
       "cogs                     1000.0  307.587380  234.176510  10.170000   \n",
       "gross margin percentage  1000.0    4.761905    0.000000   4.761905   \n",
       "gross income             1000.0   15.379369   11.708825   0.508500   \n",
       "Rating                   1000.0    6.972700    1.718580   4.000000   \n",
       "\n",
       "                                25%         50%         75%          max  \n",
       "Unit price                32.875000   55.230000   77.935000    99.960000  \n",
       "Quantity                   3.000000    5.000000    8.000000    10.000000  \n",
       "Tax 5%                     5.924875   12.088000   22.445250    49.650000  \n",
       "Total                    124.422375  253.848000  471.350250  1042.650000  \n",
       "cogs                     118.497500  241.760000  448.905000   993.000000  \n",
       "gross margin percentage    4.761905    4.761905    4.761905     4.761905  \n",
       "gross income               5.924875   12.088000   22.445250    49.650000  \n",
       "Rating                     5.500000    7.000000    8.500000    10.000000  "
      ]
     },
     "execution_count": 9,
     "metadata": {},
     "output_type": "execute_result"
    }
   ],
   "source": [
    "#descriptive stat of numeric cols, transpose cols\n",
    "df.describe().T"
   ]
  },
  {
   "cell_type": "code",
   "execution_count": 10,
   "id": "44f2eb66-e9cc-420d-a1c9-2710a42f884a",
   "metadata": {
    "tags": []
   },
   "outputs": [
    {
     "data": {
      "text/html": [
       "<div>\n",
       "<style scoped>\n",
       "    .dataframe tbody tr th:only-of-type {\n",
       "        vertical-align: middle;\n",
       "    }\n",
       "\n",
       "    .dataframe tbody tr th {\n",
       "        vertical-align: top;\n",
       "    }\n",
       "\n",
       "    .dataframe thead th {\n",
       "        text-align: right;\n",
       "    }\n",
       "</style>\n",
       "<table border=\"1\" class=\"dataframe\">\n",
       "  <thead>\n",
       "    <tr style=\"text-align: right;\">\n",
       "      <th></th>\n",
       "      <th>Invoice ID</th>\n",
       "      <th>Branch</th>\n",
       "      <th>City</th>\n",
       "      <th>Customer type</th>\n",
       "      <th>Gender</th>\n",
       "      <th>Product line</th>\n",
       "      <th>Date</th>\n",
       "      <th>Time</th>\n",
       "      <th>Payment</th>\n",
       "    </tr>\n",
       "  </thead>\n",
       "  <tbody>\n",
       "    <tr>\n",
       "      <th>count</th>\n",
       "      <td>1000</td>\n",
       "      <td>1000</td>\n",
       "      <td>1000</td>\n",
       "      <td>1000</td>\n",
       "      <td>1000</td>\n",
       "      <td>1000</td>\n",
       "      <td>1000</td>\n",
       "      <td>1000</td>\n",
       "      <td>1000</td>\n",
       "    </tr>\n",
       "    <tr>\n",
       "      <th>unique</th>\n",
       "      <td>1000</td>\n",
       "      <td>3</td>\n",
       "      <td>3</td>\n",
       "      <td>2</td>\n",
       "      <td>2</td>\n",
       "      <td>6</td>\n",
       "      <td>89</td>\n",
       "      <td>506</td>\n",
       "      <td>3</td>\n",
       "    </tr>\n",
       "    <tr>\n",
       "      <th>top</th>\n",
       "      <td>750-67-8428</td>\n",
       "      <td>A</td>\n",
       "      <td>Yangon</td>\n",
       "      <td>Member</td>\n",
       "      <td>Female</td>\n",
       "      <td>Fashion accessories</td>\n",
       "      <td>2/7/2019</td>\n",
       "      <td>19:48</td>\n",
       "      <td>Ewallet</td>\n",
       "    </tr>\n",
       "    <tr>\n",
       "      <th>freq</th>\n",
       "      <td>1</td>\n",
       "      <td>340</td>\n",
       "      <td>340</td>\n",
       "      <td>501</td>\n",
       "      <td>501</td>\n",
       "      <td>178</td>\n",
       "      <td>20</td>\n",
       "      <td>7</td>\n",
       "      <td>345</td>\n",
       "    </tr>\n",
       "  </tbody>\n",
       "</table>\n",
       "</div>"
      ],
      "text/plain": [
       "         Invoice ID Branch    City Customer type  Gender         Product line  \\\n",
       "count          1000   1000    1000          1000    1000                 1000   \n",
       "unique         1000      3       3             2       2                    6   \n",
       "top     750-67-8428      A  Yangon        Member  Female  Fashion accessories   \n",
       "freq              1    340     340           501     501                  178   \n",
       "\n",
       "            Date   Time  Payment  \n",
       "count       1000   1000     1000  \n",
       "unique        89    506        3  \n",
       "top     2/7/2019  19:48  Ewallet  \n",
       "freq          20      7      345  "
      ]
     },
     "execution_count": 10,
     "metadata": {},
     "output_type": "execute_result"
    }
   ],
   "source": [
    "#descriptive stats of str cols\n",
    "df.describe(include='object')"
   ]
  },
  {
   "cell_type": "markdown",
   "id": "13e27b72-30db-4dda-b7a5-0634634ab174",
   "metadata": {},
   "source": [
    "#### Tidy up"
   ]
  },
  {
   "cell_type": "code",
   "execution_count": 11,
   "id": "30104312-e181-4740-a505-bb8f3a373657",
   "metadata": {
    "tags": []
   },
   "outputs": [
    {
     "data": {
      "text/plain": [
       "Invoice ID                 0\n",
       "Branch                     0\n",
       "City                       0\n",
       "Customer type              0\n",
       "Gender                     0\n",
       "Product line               0\n",
       "Unit price                 0\n",
       "Quantity                   0\n",
       "Tax 5%                     0\n",
       "Total                      0\n",
       "Date                       0\n",
       "Time                       0\n",
       "Payment                    0\n",
       "cogs                       0\n",
       "gross margin percentage    0\n",
       "gross income               0\n",
       "Rating                     0\n",
       "dtype: int64"
      ]
     },
     "execution_count": 11,
     "metadata": {},
     "output_type": "execute_result"
    }
   ],
   "source": [
    "#missing values\n",
    "df.isnull().sum()"
   ]
  },
  {
   "cell_type": "code",
   "execution_count": 12,
   "id": "724d5375",
   "metadata": {},
   "outputs": [],
   "source": [
    "pd.set_option('display.float_format', '{:.2f}'.format)"
   ]
  },
  {
   "cell_type": "code",
   "execution_count": 13,
   "id": "d7bc846d-e873-4fe4-aafb-79842af144cc",
   "metadata": {},
   "outputs": [],
   "source": [
    "#clean columns, change case and remove whitespace\n",
    "df.columns = [x.lower().replace(\" \",\"_\") for x in df.columns]"
   ]
  },
  {
   "cell_type": "code",
   "execution_count": 14,
   "id": "20b445d0-ec06-4be2-9543-88402eb29e86",
   "metadata": {},
   "outputs": [],
   "source": [
    "#convert date col from str\n",
    "df['date'] = pd.to_datetime(df['date'])"
   ]
  },
  {
   "cell_type": "code",
   "execution_count": 15,
   "id": "0925fb05-8b5a-4a54-a95f-de8b21edb574",
   "metadata": {},
   "outputs": [],
   "source": [
    "#sort by date, new index\n",
    "df.sort_values(by='date', inplace=True, ignore_index=True)"
   ]
  },
  {
   "cell_type": "markdown",
   "id": "b90ae8f8-860c-4981-a276-6c63467bcaf7",
   "metadata": {},
   "source": [
    "#### Values in Str cols"
   ]
  },
  {
   "cell_type": "code",
   "execution_count": 16,
   "id": "05e86a6b-36cc-47d9-a4b2-2b22fbe08df0",
   "metadata": {},
   "outputs": [
    {
     "data": {
      "text/plain": [
       "Index(['invoice_id', 'branch', 'city', 'customer_type', 'gender',\n",
       "       'product_line', 'unit_price', 'quantity', 'tax_5%', 'total', 'date',\n",
       "       'time', 'payment', 'cogs', 'gross_margin_percentage', 'gross_income',\n",
       "       'rating'],\n",
       "      dtype='object')"
      ]
     },
     "execution_count": 16,
     "metadata": {},
     "output_type": "execute_result"
    }
   ],
   "source": [
    "df.columns"
   ]
  },
  {
   "cell_type": "code",
   "execution_count": 17,
   "id": "6675f2ac-8029-44f0-a941-370512072599",
   "metadata": {
    "tags": []
   },
   "outputs": [
    {
     "data": {
      "text/plain": [
       "array(['Food and beverages', 'Fashion accessories', 'Home and lifestyle',\n",
       "       'Sports and travel', 'Health and beauty', 'Electronic accessories'],\n",
       "      dtype=object)"
      ]
     },
     "execution_count": 17,
     "metadata": {},
     "output_type": "execute_result"
    }
   ],
   "source": [
    "df.product_line.unique()"
   ]
  },
  {
   "cell_type": "code",
   "execution_count": 18,
   "id": "211a6f6e-797c-4709-b907-00c96db4d8bc",
   "metadata": {},
   "outputs": [
    {
     "data": {
      "text/plain": [
       "array(['Normal', 'Member'], dtype=object)"
      ]
     },
     "execution_count": 18,
     "metadata": {},
     "output_type": "execute_result"
    }
   ],
   "source": [
    "df.customer_type.unique()"
   ]
  },
  {
   "cell_type": "code",
   "execution_count": 19,
   "id": "b375b5d7-094d-4861-a8d0-e6e4cfca1f0d",
   "metadata": {},
   "outputs": [
    {
     "data": {
      "text/plain": [
       "array(['B', 'A', 'C'], dtype=object)"
      ]
     },
     "execution_count": 19,
     "metadata": {},
     "output_type": "execute_result"
    }
   ],
   "source": [
    "df.branch.unique()"
   ]
  },
  {
   "cell_type": "code",
   "execution_count": 20,
   "id": "54f32b4b-41e2-4adb-ae54-70eb4d6eb50a",
   "metadata": {},
   "outputs": [
    {
     "data": {
      "text/plain": [
       "array(['Mandalay', 'Yangon', 'Naypyitaw'], dtype=object)"
      ]
     },
     "execution_count": 20,
     "metadata": {},
     "output_type": "execute_result"
    }
   ],
   "source": [
    "df.city.unique()"
   ]
  },
  {
   "cell_type": "code",
   "execution_count": 21,
   "id": "67f0bf74-d869-4688-b029-1016e6972b12",
   "metadata": {},
   "outputs": [
    {
     "data": {
      "text/plain": [
       "array(['Cash', 'Ewallet', 'Credit card'], dtype=object)"
      ]
     },
     "execution_count": 21,
     "metadata": {},
     "output_type": "execute_result"
    }
   ],
   "source": [
    "df.payment.unique()"
   ]
  },
  {
   "cell_type": "markdown",
   "id": "f3443321-4f16-4717-83c5-ae73ece92d52",
   "metadata": {},
   "source": [
    "#### Sales Overview"
   ]
  },
  {
   "cell_type": "code",
   "execution_count": 22,
   "id": "1ef7250c-45c0-4363-abf7-69a29301c7b6",
   "metadata": {},
   "outputs": [
    {
     "data": {
      "text/html": [
       "<div>\n",
       "<style scoped>\n",
       "    .dataframe tbody tr th:only-of-type {\n",
       "        vertical-align: middle;\n",
       "    }\n",
       "\n",
       "    .dataframe tbody tr th {\n",
       "        vertical-align: top;\n",
       "    }\n",
       "\n",
       "    .dataframe thead th {\n",
       "        text-align: right;\n",
       "    }\n",
       "</style>\n",
       "<table border=\"1\" class=\"dataframe\">\n",
       "  <thead>\n",
       "    <tr style=\"text-align: right;\">\n",
       "      <th></th>\n",
       "      <th>invoice_id</th>\n",
       "      <th>total</th>\n",
       "    </tr>\n",
       "  </thead>\n",
       "  <tbody>\n",
       "    <tr>\n",
       "      <th>0</th>\n",
       "      <td>860-79-0874</td>\n",
       "      <td>1042.65</td>\n",
       "    </tr>\n",
       "    <tr>\n",
       "      <th>1</th>\n",
       "      <td>687-47-8271</td>\n",
       "      <td>1039.29</td>\n",
       "    </tr>\n",
       "    <tr>\n",
       "      <th>2</th>\n",
       "      <td>283-26-5248</td>\n",
       "      <td>1034.46</td>\n",
       "    </tr>\n",
       "    <tr>\n",
       "      <th>3</th>\n",
       "      <td>751-41-9720</td>\n",
       "      <td>1023.75</td>\n",
       "    </tr>\n",
       "    <tr>\n",
       "      <th>4</th>\n",
       "      <td>303-96-2227</td>\n",
       "      <td>1022.49</td>\n",
       "    </tr>\n",
       "  </tbody>\n",
       "</table>\n",
       "</div>"
      ],
      "text/plain": [
       "    invoice_id   total\n",
       "0  860-79-0874 1042.65\n",
       "1  687-47-8271 1039.29\n",
       "2  283-26-5248 1034.46\n",
       "3  751-41-9720 1023.75\n",
       "4  303-96-2227 1022.49"
      ]
     },
     "execution_count": 22,
     "metadata": {},
     "output_type": "execute_result"
    }
   ],
   "source": [
    "#5 transactions with highest totals\n",
    "(df\n",
    " .groupby('invoice_id')['total'].sum()\n",
    " .sort_values(ascending=False)\n",
    " .reset_index()\n",
    " .head(5)\n",
    ")"
   ]
  },
  {
   "cell_type": "code",
   "execution_count": 23,
   "id": "8c7725d2-d50c-471f-9eec-34c98f246cc0",
   "metadata": {},
   "outputs": [
    {
     "data": {
      "text/html": [
       "<style type=\"text/css\">\n",
       "#T_40d5e_row0_col2 {\n",
       "  background-color: #258d48;\n",
       "  color: #f1f1f1;\n",
       "}\n",
       "#T_40d5e_row1_col2 {\n",
       "  background-color: #268f4a;\n",
       "  color: #f1f1f1;\n",
       "}\n",
       "#T_40d5e_row2_col2 {\n",
       "  background-color: #00441b;\n",
       "  color: #f1f1f1;\n",
       "}\n",
       "#T_40d5e_row3_col2 {\n",
       "  background-color: #f7fcfd;\n",
       "  color: #000000;\n",
       "}\n",
       "#T_40d5e_row4_col2 {\n",
       "  background-color: #36a164;\n",
       "  color: #f1f1f1;\n",
       "}\n",
       "#T_40d5e_row5_col2 {\n",
       "  background-color: #067230;\n",
       "  color: #f1f1f1;\n",
       "}\n",
       "</style>\n",
       "<table id=\"T_40d5e\">\n",
       "  <caption>Units Sold and Total Revenue Made from Each Product Line</caption>\n",
       "  <thead>\n",
       "    <tr>\n",
       "      <th id=\"T_40d5e_level0_col0\" class=\"col_heading level0 col0\" >product_line</th>\n",
       "      <th id=\"T_40d5e_level0_col1\" class=\"col_heading level0 col1\" >units_sold</th>\n",
       "      <th id=\"T_40d5e_level0_col2\" class=\"col_heading level0 col2\" >sales_revenue</th>\n",
       "    </tr>\n",
       "  </thead>\n",
       "  <tbody>\n",
       "    <tr>\n",
       "      <td id=\"T_40d5e_row0_col0\" class=\"data row0 col0\" >Electronic accessories</td>\n",
       "      <td id=\"T_40d5e_row0_col1\" class=\"data row0 col1\" >971</td>\n",
       "      <td id=\"T_40d5e_row0_col2\" class=\"data row0 col2\" >$54,337.53</td>\n",
       "    </tr>\n",
       "    <tr>\n",
       "      <td id=\"T_40d5e_row1_col0\" class=\"data row1 col0\" >Fashion accessories</td>\n",
       "      <td id=\"T_40d5e_row1_col1\" class=\"data row1 col1\" >902</td>\n",
       "      <td id=\"T_40d5e_row1_col2\" class=\"data row1 col2\" >$54,305.89</td>\n",
       "    </tr>\n",
       "    <tr>\n",
       "      <td id=\"T_40d5e_row2_col0\" class=\"data row2 col0\" >Food and beverages</td>\n",
       "      <td id=\"T_40d5e_row2_col1\" class=\"data row2 col1\" >952</td>\n",
       "      <td id=\"T_40d5e_row2_col2\" class=\"data row2 col2\" >$56,144.84</td>\n",
       "    </tr>\n",
       "    <tr>\n",
       "      <td id=\"T_40d5e_row3_col0\" class=\"data row3 col0\" >Health and beauty</td>\n",
       "      <td id=\"T_40d5e_row3_col1\" class=\"data row3 col1\" >854</td>\n",
       "      <td id=\"T_40d5e_row3_col2\" class=\"data row3 col2\" >$49,193.74</td>\n",
       "    </tr>\n",
       "    <tr>\n",
       "      <td id=\"T_40d5e_row4_col0\" class=\"data row4 col0\" >Home and lifestyle</td>\n",
       "      <td id=\"T_40d5e_row4_col1\" class=\"data row4 col1\" >911</td>\n",
       "      <td id=\"T_40d5e_row4_col2\" class=\"data row4 col2\" >$53,861.91</td>\n",
       "    </tr>\n",
       "    <tr>\n",
       "      <td id=\"T_40d5e_row5_col0\" class=\"data row5 col0\" >Sports and travel</td>\n",
       "      <td id=\"T_40d5e_row5_col1\" class=\"data row5 col1\" >920</td>\n",
       "      <td id=\"T_40d5e_row5_col2\" class=\"data row5 col2\" >$55,122.83</td>\n",
       "    </tr>\n",
       "  </tbody>\n",
       "</table>\n"
      ],
      "text/plain": [
       "<pandas.io.formats.style.Styler at 0x26798af7ee0>"
      ]
     },
     "execution_count": 23,
     "metadata": {},
     "output_type": "execute_result"
    }
   ],
   "source": [
    "#units and revenue per product line\n",
    "(df\n",
    " .rename(columns={'quantity':'units_sold','total':'sales_revenue'})\n",
    " .groupby('product_line')[['units_sold','sales_revenue']].sum()\n",
    " .reset_index()\n",
    " .style.format({\"sales_revenue\":\"${:,.2f}\"})\n",
    " .set_caption('Units Sold and Total Revenue Made from Each Product Line')\n",
    " .background_gradient(subset='sales_revenue', cmap='BuGn')\n",
    " .hide_index()\n",
    ")"
   ]
  },
  {
   "cell_type": "code",
   "execution_count": 24,
   "id": "04fd5f8f-442f-48e8-88d3-61517ca51da3",
   "metadata": {},
   "outputs": [
    {
     "data": {
      "text/plain": [
       "product_line\n",
       "Electronic accessories   10.56\n",
       "Fashion accessories      10.18\n",
       "Food and beverages       10.13\n",
       "Health and beauty        10.08\n",
       "Home and lifestyle       10.53\n",
       "Sports and travel        10.17\n",
       "Name: unit_price, dtype: float64"
      ]
     },
     "execution_count": 24,
     "metadata": {},
     "output_type": "execute_result"
    }
   ],
   "source": [
    "df.groupby('product_line')['unit_price'].min()"
   ]
  },
  {
   "cell_type": "code",
   "execution_count": 25,
   "id": "da0fe51f-32a1-4fd7-96a1-494989d9a35f",
   "metadata": {},
   "outputs": [
    {
     "data": {
      "text/plain": [
       "product_line\n",
       "Electronic accessories   99.73\n",
       "Fashion accessories      99.89\n",
       "Food and beverages       99.79\n",
       "Health and beauty        99.96\n",
       "Home and lifestyle       99.92\n",
       "Sports and travel        99.96\n",
       "Name: unit_price, dtype: float64"
      ]
     },
     "execution_count": 25,
     "metadata": {},
     "output_type": "execute_result"
    }
   ],
   "source": [
    "df.groupby('product_line')['unit_price'].max()"
   ]
  },
  {
   "cell_type": "code",
   "execution_count": 26,
   "id": "6bf2169b-a860-420c-a021-b6effc63ce02",
   "metadata": {},
   "outputs": [
    {
     "data": {
      "text/html": [
       "<style type=\"text/css\">\n",
       "</style>\n",
       "<table id=\"T_feec2\">\n",
       "  <caption>Total Revenue in Each City</caption>\n",
       "  <thead>\n",
       "    <tr>\n",
       "      <th id=\"T_feec2_level0_col0\" class=\"col_heading level0 col0\" >city</th>\n",
       "      <th id=\"T_feec2_level0_col1\" class=\"col_heading level0 col1\" >total</th>\n",
       "    </tr>\n",
       "  </thead>\n",
       "  <tbody>\n",
       "    <tr>\n",
       "      <td id=\"T_feec2_row0_col0\" class=\"data row0 col0\" >Naypyitaw</td>\n",
       "      <td id=\"T_feec2_row0_col1\" class=\"data row0 col1\" >$110,568.71</td>\n",
       "    </tr>\n",
       "    <tr>\n",
       "      <td id=\"T_feec2_row1_col0\" class=\"data row1 col0\" >Yangon</td>\n",
       "      <td id=\"T_feec2_row1_col1\" class=\"data row1 col1\" >$106,200.37</td>\n",
       "    </tr>\n",
       "    <tr>\n",
       "      <td id=\"T_feec2_row2_col0\" class=\"data row2 col0\" >Mandalay</td>\n",
       "      <td id=\"T_feec2_row2_col1\" class=\"data row2 col1\" >$106,197.67</td>\n",
       "    </tr>\n",
       "  </tbody>\n",
       "</table>\n"
      ],
      "text/plain": [
       "<pandas.io.formats.style.Styler at 0x267f6a86410>"
      ]
     },
     "execution_count": 26,
     "metadata": {},
     "output_type": "execute_result"
    }
   ],
   "source": [
    "#Revenue from each city\n",
    "(df\n",
    " .groupby('city')['total'].sum()\n",
    " .reset_index()\n",
    " .sort_values(by='total', ascending=False, ignore_index=True)\n",
    " .style.format({\"total\":\"${:,.2f}\"})\n",
    " .set_caption('Total Revenue in Each City')\n",
    " .hide_index()\n",
    ")"
   ]
  },
  {
   "cell_type": "code",
   "execution_count": 27,
   "id": "24a74684-4f7d-441f-b731-6523b128a58c",
   "metadata": {},
   "outputs": [
    {
     "data": {
      "text/html": [
       "<style type=\"text/css\">\n",
       "</style>\n",
       "<table id=\"T_007c2\">\n",
       "  <caption>Total Revenue From Branches</caption>\n",
       "  <thead>\n",
       "    <tr>\n",
       "      <th id=\"T_007c2_level0_col0\" class=\"col_heading level0 col0\" >branch</th>\n",
       "      <th id=\"T_007c2_level0_col1\" class=\"col_heading level0 col1\" >total</th>\n",
       "    </tr>\n",
       "  </thead>\n",
       "  <tbody>\n",
       "    <tr>\n",
       "      <td id=\"T_007c2_row0_col0\" class=\"data row0 col0\" >C</td>\n",
       "      <td id=\"T_007c2_row0_col1\" class=\"data row0 col1\" >$110,568.71</td>\n",
       "    </tr>\n",
       "    <tr>\n",
       "      <td id=\"T_007c2_row1_col0\" class=\"data row1 col0\" >A</td>\n",
       "      <td id=\"T_007c2_row1_col1\" class=\"data row1 col1\" >$106,200.37</td>\n",
       "    </tr>\n",
       "    <tr>\n",
       "      <td id=\"T_007c2_row2_col0\" class=\"data row2 col0\" >B</td>\n",
       "      <td id=\"T_007c2_row2_col1\" class=\"data row2 col1\" >$106,197.67</td>\n",
       "    </tr>\n",
       "  </tbody>\n",
       "</table>\n"
      ],
      "text/plain": [
       "<pandas.io.formats.style.Styler at 0x2679a969d80>"
      ]
     },
     "execution_count": 27,
     "metadata": {},
     "output_type": "execute_result"
    }
   ],
   "source": [
    "#Revenue from branch\n",
    "(df\n",
    " .groupby('branch')['total'].sum()\n",
    " .reset_index()\n",
    " .sort_values(by='total', ascending=False, ignore_index=True)\n",
    " .style.format({\"total\":\"${:,.2f}\"})\n",
    " .set_caption('Total Revenue From Branches')\n",
    " .hide_index()\n",
    ")"
   ]
  },
  {
   "cell_type": "code",
   "execution_count": 28,
   "id": "130c62b7-e320-4882-8576-595663fed832",
   "metadata": {},
   "outputs": [
    {
     "data": {
      "text/plain": [
       "array([2019], dtype=int64)"
      ]
     },
     "execution_count": 28,
     "metadata": {},
     "output_type": "execute_result"
    }
   ],
   "source": [
    "#years in the df\n",
    "df['date'].dt.year.unique()"
   ]
  },
  {
   "cell_type": "code",
   "execution_count": 29,
   "id": "0f03a8a6-ca14-4907-8389-efc98dbc199e",
   "metadata": {},
   "outputs": [
    {
     "data": {
      "text/plain": [
       "array(['January', 'February', 'March'], dtype=object)"
      ]
     },
     "execution_count": 29,
     "metadata": {},
     "output_type": "execute_result"
    }
   ],
   "source": [
    "#months in the df\n",
    "df['date'].dt.month_name().unique()"
   ]
  },
  {
   "cell_type": "markdown",
   "id": "d2f17753-1085-4421-ad01-df821377eca9",
   "metadata": {},
   "source": [
    "The supermarket sales data covers transactions made in January 2019, February 2019 & March 2019"
   ]
  },
  {
   "cell_type": "code",
   "execution_count": 30,
   "id": "e01ab165-4915-4700-a960-cb3dd31360d3",
   "metadata": {},
   "outputs": [
    {
     "name": "stdout",
     "output_type": "stream",
     "text": [
      "The total revenue generated for the period is $322966.75\n"
     ]
    }
   ],
   "source": [
    "#total revenue generated\n",
    "print(f'The total revenue generated for the period is ${df.total.sum().round(2)}')"
   ]
  },
  {
   "cell_type": "code",
   "execution_count": 31,
   "id": "2a68a19f-56c2-4bb9-b7f9-c58bc1a3e09b",
   "metadata": {},
   "outputs": [
    {
     "data": {
      "text/html": [
       "<div>\n",
       "<style scoped>\n",
       "    .dataframe tbody tr th:only-of-type {\n",
       "        vertical-align: middle;\n",
       "    }\n",
       "\n",
       "    .dataframe tbody tr th {\n",
       "        vertical-align: top;\n",
       "    }\n",
       "\n",
       "    .dataframe thead th {\n",
       "        text-align: right;\n",
       "    }\n",
       "</style>\n",
       "<table border=\"1\" class=\"dataframe\">\n",
       "  <thead>\n",
       "    <tr style=\"text-align: right;\">\n",
       "      <th></th>\n",
       "      <th>date</th>\n",
       "      <th>total</th>\n",
       "    </tr>\n",
       "  </thead>\n",
       "  <tbody>\n",
       "    <tr>\n",
       "      <th>0</th>\n",
       "      <td>January</td>\n",
       "      <td>116291.87</td>\n",
       "    </tr>\n",
       "    <tr>\n",
       "      <th>1</th>\n",
       "      <td>March</td>\n",
       "      <td>109455.51</td>\n",
       "    </tr>\n",
       "    <tr>\n",
       "      <th>2</th>\n",
       "      <td>February</td>\n",
       "      <td>97219.37</td>\n",
       "    </tr>\n",
       "  </tbody>\n",
       "</table>\n",
       "</div>"
      ],
      "text/plain": [
       "       date     total\n",
       "0   January 116291.87\n",
       "1     March 109455.51\n",
       "2  February  97219.37"
      ]
     },
     "execution_count": 31,
     "metadata": {},
     "output_type": "execute_result"
    }
   ],
   "source": [
    "#monthly totals\n",
    "(df\n",
    " .groupby(df['date'].dt.month_name())['total'].sum()\n",
    " .sort_values(ascending=False)\n",
    " .reset_index()\n",
    ")"
   ]
  },
  {
   "cell_type": "code",
   "execution_count": 32,
   "id": "c9e5ea67-898a-42d7-ba9c-05e1efef1d9b",
   "metadata": {},
   "outputs": [
    {
     "data": {
      "text/plain": [
       "116291.87"
      ]
     },
     "execution_count": 32,
     "metadata": {},
     "output_type": "execute_result"
    }
   ],
   "source": [
    "#to isolate january sales\n",
    "(df\n",
    " .query('date.dt.month_name() == \"January\"')\n",
    " .total.sum().round(2)\n",
    ")"
   ]
  },
  {
   "cell_type": "code",
   "execution_count": 33,
   "id": "99ecd5f1-a2a8-468a-b13d-637aa46185b8",
   "metadata": {},
   "outputs": [
    {
     "data": {
      "text/html": [
       "<style type=\"text/css\">\n",
       "#T_0d93e_row3_col1 {\n",
       "  background-color: green;\n",
       "}\n",
       "#T_0d93e_row7_col1 {\n",
       "  background-color: red;\n",
       "}\n",
       "</style>\n",
       "<table id=\"T_0d93e\">\n",
       "  <caption>Weekly Sale Totals</caption>\n",
       "  <thead>\n",
       "    <tr>\n",
       "      <th class=\"blank level0\" >&nbsp;</th>\n",
       "      <th id=\"T_0d93e_level0_col0\" class=\"col_heading level0 col0\" >date</th>\n",
       "      <th id=\"T_0d93e_level0_col1\" class=\"col_heading level0 col1\" >total</th>\n",
       "    </tr>\n",
       "  </thead>\n",
       "  <tbody>\n",
       "    <tr>\n",
       "      <th id=\"T_0d93e_level0_row0\" class=\"row_heading level0 row0\" >0</th>\n",
       "      <td id=\"T_0d93e_row0_col0\" class=\"data row0 col0\" >2019-01-06 00:00:00</td>\n",
       "      <td id=\"T_0d93e_row0_col1\" class=\"data row0 col1\" >$17,543.39</td>\n",
       "    </tr>\n",
       "    <tr>\n",
       "      <th id=\"T_0d93e_level0_row1\" class=\"row_heading level0 row1\" >1</th>\n",
       "      <td id=\"T_0d93e_row1_col0\" class=\"data row1 col0\" >2019-01-13 00:00:00</td>\n",
       "      <td id=\"T_0d93e_row1_col1\" class=\"data row1 col1\" >$24,461.20</td>\n",
       "    </tr>\n",
       "    <tr>\n",
       "      <th id=\"T_0d93e_level0_row2\" class=\"row_heading level0 row2\" >2</th>\n",
       "      <td id=\"T_0d93e_row2_col0\" class=\"data row2 col0\" >2019-01-20 00:00:00</td>\n",
       "      <td id=\"T_0d93e_row2_col1\" class=\"data row2 col1\" >$28,693.36</td>\n",
       "    </tr>\n",
       "    <tr>\n",
       "      <th id=\"T_0d93e_level0_row3\" class=\"row_heading level0 row3\" >3</th>\n",
       "      <td id=\"T_0d93e_row3_col0\" class=\"data row3 col0\" >2019-01-27 00:00:00</td>\n",
       "      <td id=\"T_0d93e_row3_col1\" class=\"data row3 col1\" >$29,286.88</td>\n",
       "    </tr>\n",
       "    <tr>\n",
       "      <th id=\"T_0d93e_level0_row4\" class=\"row_heading level0 row4\" >4</th>\n",
       "      <td id=\"T_0d93e_row4_col0\" class=\"data row4 col0\" >2019-02-03 00:00:00</td>\n",
       "      <td id=\"T_0d93e_row4_col1\" class=\"data row4 col1\" >$28,360.45</td>\n",
       "    </tr>\n",
       "    <tr>\n",
       "      <th id=\"T_0d93e_level0_row5\" class=\"row_heading level0 row5\" >5</th>\n",
       "      <td id=\"T_0d93e_row5_col0\" class=\"data row5 col0\" >2019-02-10 00:00:00</td>\n",
       "      <td id=\"T_0d93e_row5_col1\" class=\"data row5 col1\" >$27,101.83</td>\n",
       "    </tr>\n",
       "    <tr>\n",
       "      <th id=\"T_0d93e_level0_row6\" class=\"row_heading level0 row6\" >6</th>\n",
       "      <td id=\"T_0d93e_row6_col0\" class=\"data row6 col0\" >2019-02-17 00:00:00</td>\n",
       "      <td id=\"T_0d93e_row6_col1\" class=\"data row6 col1\" >$25,563.59</td>\n",
       "    </tr>\n",
       "    <tr>\n",
       "      <th id=\"T_0d93e_level0_row7\" class=\"row_heading level0 row7\" >7</th>\n",
       "      <td id=\"T_0d93e_row7_col0\" class=\"data row7 col0\" >2019-02-24 00:00:00</td>\n",
       "      <td id=\"T_0d93e_row7_col1\" class=\"data row7 col1\" >$17,328.66</td>\n",
       "    </tr>\n",
       "    <tr>\n",
       "      <th id=\"T_0d93e_level0_row8\" class=\"row_heading level0 row8\" >8</th>\n",
       "      <td id=\"T_0d93e_row8_col0\" class=\"data row8 col0\" >2019-03-03 00:00:00</td>\n",
       "      <td id=\"T_0d93e_row8_col1\" class=\"data row8 col1\" >$29,219.72</td>\n",
       "    </tr>\n",
       "    <tr>\n",
       "      <th id=\"T_0d93e_level0_row9\" class=\"row_heading level0 row9\" >9</th>\n",
       "      <td id=\"T_0d93e_row9_col0\" class=\"data row9 col0\" >2019-03-10 00:00:00</td>\n",
       "      <td id=\"T_0d93e_row9_col1\" class=\"data row9 col1\" >$28,418.84</td>\n",
       "    </tr>\n",
       "    <tr>\n",
       "      <th id=\"T_0d93e_level0_row10\" class=\"row_heading level0 row10\" >10</th>\n",
       "      <td id=\"T_0d93e_row10_col0\" class=\"data row10 col0\" >2019-03-17 00:00:00</td>\n",
       "      <td id=\"T_0d93e_row10_col1\" class=\"data row10 col1\" >$23,990.22</td>\n",
       "    </tr>\n",
       "    <tr>\n",
       "      <th id=\"T_0d93e_level0_row11\" class=\"row_heading level0 row11\" >11</th>\n",
       "      <td id=\"T_0d93e_row11_col0\" class=\"data row11 col0\" >2019-03-24 00:00:00</td>\n",
       "      <td id=\"T_0d93e_row11_col1\" class=\"data row11 col1\" >$25,120.60</td>\n",
       "    </tr>\n",
       "    <tr>\n",
       "      <th id=\"T_0d93e_level0_row12\" class=\"row_heading level0 row12\" >12</th>\n",
       "      <td id=\"T_0d93e_row12_col0\" class=\"data row12 col0\" >2019-03-31 00:00:00</td>\n",
       "      <td id=\"T_0d93e_row12_col1\" class=\"data row12 col1\" >$17,878.00</td>\n",
       "    </tr>\n",
       "  </tbody>\n",
       "</table>\n"
      ],
      "text/plain": [
       "<pandas.io.formats.style.Styler at 0x2679a96b340>"
      ]
     },
     "execution_count": 33,
     "metadata": {},
     "output_type": "execute_result"
    }
   ],
   "source": [
    "#weekly totals with lowest and highest performing weeks highlighted\n",
    "(df\n",
    " .groupby(pd.Grouper(key='date', freq='1W'))['total'].sum()\n",
    " .reset_index()\n",
    " .style.format({\"total\":\"${:,.2f}\"})\n",
    " .highlight_min(subset='total',color='red')\n",
    " .highlight_max(subset='total',color='green')\n",
    " .set_caption('Weekly Sale Totals')\n",
    ")"
   ]
  },
  {
   "cell_type": "markdown",
   "id": "70a3b2dc-c26e-4493-9ede-6be0dd2372a5",
   "metadata": {},
   "source": [
    "_week 8 had the lowest totals while week 4 had the highest_"
   ]
  },
  {
   "cell_type": "code",
   "execution_count": 34,
   "id": "a0f71754-274d-44aa-aee3-27f2430b66a4",
   "metadata": {},
   "outputs": [
    {
     "data": {
      "text/html": [
       "<style type=\"text/css\">\n",
       "#T_ce0b0_row0_col1 {\n",
       "  background-color: #4f9bcb;\n",
       "  color: #f1f1f1;\n",
       "}\n",
       "#T_ce0b0_row1_col1 {\n",
       "  background-color: #d9e7f5;\n",
       "  color: #000000;\n",
       "}\n",
       "#T_ce0b0_row2_col1, #T_ce0b0_row71_col1 {\n",
       "  background-color: #d5e5f4;\n",
       "  color: #000000;\n",
       "}\n",
       "#T_ce0b0_row3_col1 {\n",
       "  background-color: #e3eef8;\n",
       "  color: #000000;\n",
       "}\n",
       "#T_ce0b0_row4_col1, #T_ce0b0_row28_col1 {\n",
       "  background-color: #95c5df;\n",
       "  color: #000000;\n",
       "}\n",
       "#T_ce0b0_row5_col1 {\n",
       "  background-color: #91c3de;\n",
       "  color: #000000;\n",
       "}\n",
       "#T_ce0b0_row6_col1 {\n",
       "  background-color: #b9d6ea;\n",
       "  color: #000000;\n",
       "}\n",
       "#T_ce0b0_row7_col1, #T_ce0b0_row47_col1 {\n",
       "  background-color: #3787c0;\n",
       "  color: #f1f1f1;\n",
       "}\n",
       "#T_ce0b0_row8_col1 {\n",
       "  background-color: #b0d2e7;\n",
       "  color: #000000;\n",
       "}\n",
       "#T_ce0b0_row9_col1 {\n",
       "  background-color: #94c4df;\n",
       "  color: #000000;\n",
       "}\n",
       "#T_ce0b0_row10_col1 {\n",
       "  background-color: #d3e4f3;\n",
       "  color: #000000;\n",
       "}\n",
       "#T_ce0b0_row11_col1 {\n",
       "  background-color: #3b8bc2;\n",
       "  color: #f1f1f1;\n",
       "}\n",
       "#T_ce0b0_row12_col1, #T_ce0b0_row31_col1, #T_ce0b0_row44_col1, #T_ce0b0_row52_col1 {\n",
       "  background-color: #caddf0;\n",
       "  color: #000000;\n",
       "}\n",
       "#T_ce0b0_row13_col1 {\n",
       "  background-color: #7ab6d9;\n",
       "  color: #000000;\n",
       "}\n",
       "#T_ce0b0_row14_col1 {\n",
       "  background-color: #1d6cb1;\n",
       "  color: #f1f1f1;\n",
       "}\n",
       "#T_ce0b0_row15_col1 {\n",
       "  background-color: #66abd4;\n",
       "  color: #f1f1f1;\n",
       "}\n",
       "#T_ce0b0_row16_col1, #T_ce0b0_row40_col1, #T_ce0b0_row74_col1 {\n",
       "  background-color: #aacfe5;\n",
       "  color: #000000;\n",
       "}\n",
       "#T_ce0b0_row17_col1 {\n",
       "  background-color: #bcd7eb;\n",
       "  color: #000000;\n",
       "}\n",
       "#T_ce0b0_row18_col1 {\n",
       "  background-color: #4896c8;\n",
       "  color: #f1f1f1;\n",
       "}\n",
       "#T_ce0b0_row19_col1 {\n",
       "  background-color: #8dc1dd;\n",
       "  color: #000000;\n",
       "}\n",
       "#T_ce0b0_row20_col1, #T_ce0b0_row56_col1 {\n",
       "  background-color: #cbdef1;\n",
       "  color: #000000;\n",
       "}\n",
       "#T_ce0b0_row21_col1 {\n",
       "  background-color: #dfecf7;\n",
       "  color: #000000;\n",
       "}\n",
       "#T_ce0b0_row22_col1 {\n",
       "  background-color: #1c6ab0;\n",
       "  color: #f1f1f1;\n",
       "}\n",
       "#T_ce0b0_row23_col1 {\n",
       "  background-color: #3383be;\n",
       "  color: #f1f1f1;\n",
       "}\n",
       "#T_ce0b0_row24_col1 {\n",
       "  background-color: #529dcc;\n",
       "  color: #f1f1f1;\n",
       "}\n",
       "#T_ce0b0_row25_col1 {\n",
       "  background-color: #5fa6d1;\n",
       "  color: #f1f1f1;\n",
       "}\n",
       "#T_ce0b0_row26_col1 {\n",
       "  background-color: #56a0ce;\n",
       "  color: #f1f1f1;\n",
       "}\n",
       "#T_ce0b0_row27_col1 {\n",
       "  background-color: #4292c6;\n",
       "  color: #f1f1f1;\n",
       "}\n",
       "#T_ce0b0_row29_col1 {\n",
       "  background-color: #c7dbef;\n",
       "  color: #000000;\n",
       "}\n",
       "#T_ce0b0_row30_col1 {\n",
       "  background-color: #3989c1;\n",
       "  color: #f1f1f1;\n",
       "}\n",
       "#T_ce0b0_row32_col1 {\n",
       "  background-color: #6fb0d7;\n",
       "  color: #f1f1f1;\n",
       "}\n",
       "#T_ce0b0_row33_col1, #T_ce0b0_row78_col1 {\n",
       "  background-color: #3080bd;\n",
       "  color: #f1f1f1;\n",
       "}\n",
       "#T_ce0b0_row34_col1 {\n",
       "  background-color: #cadef0;\n",
       "  color: #000000;\n",
       "}\n",
       "#T_ce0b0_row35_col1 {\n",
       "  background-color: #afd1e7;\n",
       "  color: #000000;\n",
       "}\n",
       "#T_ce0b0_row36_col1, #T_ce0b0_row85_col1 {\n",
       "  background-color: #b5d4e9;\n",
       "  color: #000000;\n",
       "}\n",
       "#T_ce0b0_row37_col1 {\n",
       "  background-color: #083979;\n",
       "  color: #f1f1f1;\n",
       "}\n",
       "#T_ce0b0_row38_col1 {\n",
       "  background-color: #3f8fc5;\n",
       "  color: #f1f1f1;\n",
       "}\n",
       "#T_ce0b0_row39_col1 {\n",
       "  background-color: #a4cce3;\n",
       "  color: #000000;\n",
       "}\n",
       "#T_ce0b0_row41_col1 {\n",
       "  background-color: #5aa2cf;\n",
       "  color: #f1f1f1;\n",
       "}\n",
       "#T_ce0b0_row42_col1 {\n",
       "  background-color: #b2d2e8;\n",
       "  color: #000000;\n",
       "}\n",
       "#T_ce0b0_row43_col1 {\n",
       "  background-color: #f7fbff;\n",
       "  color: #000000;\n",
       "}\n",
       "#T_ce0b0_row45_col1 {\n",
       "  background-color: #084a91;\n",
       "  color: #f1f1f1;\n",
       "}\n",
       "#T_ce0b0_row46_col1 {\n",
       "  background-color: #c8dcf0;\n",
       "  color: #000000;\n",
       "}\n",
       "#T_ce0b0_row48_col1 {\n",
       "  background-color: #e7f0fa;\n",
       "  color: #000000;\n",
       "}\n",
       "#T_ce0b0_row49_col1 {\n",
       "  background-color: #6aaed6;\n",
       "  color: #f1f1f1;\n",
       "}\n",
       "#T_ce0b0_row50_col1, #T_ce0b0_row54_col1 {\n",
       "  background-color: #bfd8ed;\n",
       "  color: #000000;\n",
       "}\n",
       "#T_ce0b0_row51_col1 {\n",
       "  background-color: #eaf2fb;\n",
       "  color: #000000;\n",
       "}\n",
       "#T_ce0b0_row53_col1 {\n",
       "  background-color: #cddff1;\n",
       "  color: #000000;\n",
       "}\n",
       "#T_ce0b0_row55_col1 {\n",
       "  background-color: #4d99ca;\n",
       "  color: #f1f1f1;\n",
       "}\n",
       "#T_ce0b0_row57_col1 {\n",
       "  background-color: #2070b4;\n",
       "  color: #f1f1f1;\n",
       "}\n",
       "#T_ce0b0_row58_col1 {\n",
       "  background-color: #d4e4f4;\n",
       "  color: #000000;\n",
       "}\n",
       "#T_ce0b0_row59_col1 {\n",
       "  background-color: #c3daee;\n",
       "  color: #000000;\n",
       "}\n",
       "#T_ce0b0_row60_col1 {\n",
       "  background-color: #0a549e;\n",
       "  color: #f1f1f1;\n",
       "}\n",
       "#T_ce0b0_row61_col1 {\n",
       "  background-color: #4a98c9;\n",
       "  color: #f1f1f1;\n",
       "}\n",
       "#T_ce0b0_row62_col1 {\n",
       "  background-color: #7fb9da;\n",
       "  color: #000000;\n",
       "}\n",
       "#T_ce0b0_row63_col1 {\n",
       "  background-color: #1561a9;\n",
       "  color: #f1f1f1;\n",
       "}\n",
       "#T_ce0b0_row64_col1 {\n",
       "  background-color: #add0e6;\n",
       "  color: #000000;\n",
       "}\n",
       "#T_ce0b0_row65_col1 {\n",
       "  background-color: #e8f1fa;\n",
       "  color: #000000;\n",
       "}\n",
       "#T_ce0b0_row66_col1 {\n",
       "  background-color: #abd0e6;\n",
       "  color: #000000;\n",
       "}\n",
       "#T_ce0b0_row67_col1 {\n",
       "  background-color: #08306b;\n",
       "  color: #f1f1f1;\n",
       "}\n",
       "#T_ce0b0_row68_col1, #T_ce0b0_row80_col1 {\n",
       "  background-color: #a9cfe5;\n",
       "  color: #000000;\n",
       "}\n",
       "#T_ce0b0_row69_col1 {\n",
       "  background-color: #b3d3e8;\n",
       "  color: #000000;\n",
       "}\n",
       "#T_ce0b0_row70_col1 {\n",
       "  background-color: #8cc0dd;\n",
       "  color: #000000;\n",
       "}\n",
       "#T_ce0b0_row72_col1 {\n",
       "  background-color: #083a7a;\n",
       "  color: #f1f1f1;\n",
       "}\n",
       "#T_ce0b0_row73_col1 {\n",
       "  background-color: #b4d3e9;\n",
       "  color: #000000;\n",
       "}\n",
       "#T_ce0b0_row75_col1, #T_ce0b0_row84_col1 {\n",
       "  background-color: #d8e7f5;\n",
       "  color: #000000;\n",
       "}\n",
       "#T_ce0b0_row76_col1 {\n",
       "  background-color: #ecf4fb;\n",
       "  color: #000000;\n",
       "}\n",
       "#T_ce0b0_row77_col1 {\n",
       "  background-color: #2474b7;\n",
       "  color: #f1f1f1;\n",
       "}\n",
       "#T_ce0b0_row79_col1 {\n",
       "  background-color: #dbe9f6;\n",
       "  color: #000000;\n",
       "}\n",
       "#T_ce0b0_row81_col1 {\n",
       "  background-color: #72b2d8;\n",
       "  color: #f1f1f1;\n",
       "}\n",
       "#T_ce0b0_row82_col1 {\n",
       "  background-color: #99c7e0;\n",
       "  color: #000000;\n",
       "}\n",
       "#T_ce0b0_row83_col1 {\n",
       "  background-color: #cfe1f2;\n",
       "  color: #000000;\n",
       "}\n",
       "#T_ce0b0_row86_col1 {\n",
       "  background-color: #d0e2f2;\n",
       "  color: #000000;\n",
       "}\n",
       "#T_ce0b0_row87_col1 {\n",
       "  background-color: #77b5d9;\n",
       "  color: #000000;\n",
       "}\n",
       "#T_ce0b0_row88_col1 {\n",
       "  background-color: #5ca4d0;\n",
       "  color: #f1f1f1;\n",
       "}\n",
       "</style>\n",
       "<table id=\"T_ce0b0\">\n",
       "  <caption>Daily Sale Totals</caption>\n",
       "  <thead>\n",
       "    <tr>\n",
       "      <th id=\"T_ce0b0_level0_col0\" class=\"col_heading level0 col0\" >date</th>\n",
       "      <th id=\"T_ce0b0_level0_col1\" class=\"col_heading level0 col1\" >total</th>\n",
       "    </tr>\n",
       "  </thead>\n",
       "  <tbody>\n",
       "    <tr>\n",
       "      <td id=\"T_ce0b0_row0_col0\" class=\"data row0 col0\" >2019-01-01 00:00:00</td>\n",
       "      <td id=\"T_ce0b0_row0_col1\" class=\"data row0 col1\" >$4,745.18</td>\n",
       "    </tr>\n",
       "    <tr>\n",
       "      <td id=\"T_ce0b0_row1_col0\" class=\"data row1 col0\" >2019-01-02 00:00:00</td>\n",
       "      <td id=\"T_ce0b0_row1_col1\" class=\"data row1 col1\" >$1,945.50</td>\n",
       "    </tr>\n",
       "    <tr>\n",
       "      <td id=\"T_ce0b0_row2_col0\" class=\"data row2 col0\" >2019-01-03 00:00:00</td>\n",
       "      <td id=\"T_ce0b0_row2_col1\" class=\"data row2 col1\" >$2,078.13</td>\n",
       "    </tr>\n",
       "    <tr>\n",
       "      <td id=\"T_ce0b0_row3_col0\" class=\"data row3 col0\" >2019-01-04 00:00:00</td>\n",
       "      <td id=\"T_ce0b0_row3_col1\" class=\"data row3 col1\" >$1,623.69</td>\n",
       "    </tr>\n",
       "    <tr>\n",
       "      <td id=\"T_ce0b0_row4_col0\" class=\"data row4 col0\" >2019-01-05 00:00:00</td>\n",
       "      <td id=\"T_ce0b0_row4_col1\" class=\"data row4 col1\" >$3,536.68</td>\n",
       "    </tr>\n",
       "    <tr>\n",
       "      <td id=\"T_ce0b0_row5_col0\" class=\"data row5 col0\" >2019-01-06 00:00:00</td>\n",
       "      <td id=\"T_ce0b0_row5_col1\" class=\"data row5 col1\" >$3,614.20</td>\n",
       "    </tr>\n",
       "    <tr>\n",
       "      <td id=\"T_ce0b0_row6_col0\" class=\"data row6 col0\" >2019-01-07 00:00:00</td>\n",
       "      <td id=\"T_ce0b0_row6_col1\" class=\"data row6 col1\" >$2,834.24</td>\n",
       "    </tr>\n",
       "    <tr>\n",
       "      <td id=\"T_ce0b0_row7_col0\" class=\"data row7 col0\" >2019-01-08 00:00:00</td>\n",
       "      <td id=\"T_ce0b0_row7_col1\" class=\"data row7 col1\" >$5,293.73</td>\n",
       "    </tr>\n",
       "    <tr>\n",
       "      <td id=\"T_ce0b0_row8_col0\" class=\"data row8 col0\" >2019-01-09 00:00:00</td>\n",
       "      <td id=\"T_ce0b0_row8_col1\" class=\"data row8 col1\" >$3,021.34</td>\n",
       "    </tr>\n",
       "    <tr>\n",
       "      <td id=\"T_ce0b0_row9_col0\" class=\"data row9 col0\" >2019-01-10 00:00:00</td>\n",
       "      <td id=\"T_ce0b0_row9_col1\" class=\"data row9 col1\" >$3,560.95</td>\n",
       "    </tr>\n",
       "    <tr>\n",
       "      <td id=\"T_ce0b0_row10_col0\" class=\"data row10 col0\" >2019-01-11 00:00:00</td>\n",
       "      <td id=\"T_ce0b0_row10_col1\" class=\"data row10 col1\" >$2,114.96</td>\n",
       "    </tr>\n",
       "    <tr>\n",
       "      <td id=\"T_ce0b0_row11_col0\" class=\"data row11 col0\" >2019-01-12 00:00:00</td>\n",
       "      <td id=\"T_ce0b0_row11_col1\" class=\"data row11 col1\" >$5,184.76</td>\n",
       "    </tr>\n",
       "    <tr>\n",
       "      <td id=\"T_ce0b0_row12_col0\" class=\"data row12 col0\" >2019-01-13 00:00:00</td>\n",
       "      <td id=\"T_ce0b0_row12_col1\" class=\"data row12 col1\" >$2,451.20</td>\n",
       "    </tr>\n",
       "    <tr>\n",
       "      <td id=\"T_ce0b0_row13_col0\" class=\"data row13 col0\" >2019-01-14 00:00:00</td>\n",
       "      <td id=\"T_ce0b0_row13_col1\" class=\"data row13 col1\" >$3,966.62</td>\n",
       "    </tr>\n",
       "    <tr>\n",
       "      <td id=\"T_ce0b0_row14_col0\" class=\"data row14 col0\" >2019-01-15 00:00:00</td>\n",
       "      <td id=\"T_ce0b0_row14_col1\" class=\"data row14 col1\" >$5,944.26</td>\n",
       "    </tr>\n",
       "    <tr>\n",
       "      <td id=\"T_ce0b0_row15_col0\" class=\"data row15 col0\" >2019-01-16 00:00:00</td>\n",
       "      <td id=\"T_ce0b0_row15_col1\" class=\"data row15 col1\" >$4,289.08</td>\n",
       "    </tr>\n",
       "    <tr>\n",
       "      <td id=\"T_ce0b0_row16_col0\" class=\"data row16 col0\" >2019-01-17 00:00:00</td>\n",
       "      <td id=\"T_ce0b0_row16_col1\" class=\"data row16 col1\" >$3,142.76</td>\n",
       "    </tr>\n",
       "    <tr>\n",
       "      <td id=\"T_ce0b0_row17_col0\" class=\"data row17 col0\" >2019-01-18 00:00:00</td>\n",
       "      <td id=\"T_ce0b0_row17_col1\" class=\"data row17 col1\" >$2,780.47</td>\n",
       "    </tr>\n",
       "    <tr>\n",
       "      <td id=\"T_ce0b0_row18_col0\" class=\"data row18 col0\" >2019-01-19 00:00:00</td>\n",
       "      <td id=\"T_ce0b0_row18_col1\" class=\"data row18 col1\" >$4,914.72</td>\n",
       "    </tr>\n",
       "    <tr>\n",
       "      <td id=\"T_ce0b0_row19_col0\" class=\"data row19 col0\" >2019-01-20 00:00:00</td>\n",
       "      <td id=\"T_ce0b0_row19_col1\" class=\"data row19 col1\" >$3,655.45</td>\n",
       "    </tr>\n",
       "    <tr>\n",
       "      <td id=\"T_ce0b0_row20_col0\" class=\"data row20 col0\" >2019-01-21 00:00:00</td>\n",
       "      <td id=\"T_ce0b0_row20_col1\" class=\"data row20 col1\" >$2,392.10</td>\n",
       "    </tr>\n",
       "    <tr>\n",
       "      <td id=\"T_ce0b0_row21_col0\" class=\"data row21 col0\" >2019-01-22 00:00:00</td>\n",
       "      <td id=\"T_ce0b0_row21_col1\" class=\"data row21 col1\" >$1,704.77</td>\n",
       "    </tr>\n",
       "    <tr>\n",
       "      <td id=\"T_ce0b0_row22_col0\" class=\"data row22 col0\" >2019-01-23 00:00:00</td>\n",
       "      <td id=\"T_ce0b0_row22_col1\" class=\"data row22 col1\" >$5,994.19</td>\n",
       "    </tr>\n",
       "    <tr>\n",
       "      <td id=\"T_ce0b0_row23_col0\" class=\"data row23 col0\" >2019-01-24 00:00:00</td>\n",
       "      <td id=\"T_ce0b0_row23_col1\" class=\"data row23 col1\" >$5,402.05</td>\n",
       "    </tr>\n",
       "    <tr>\n",
       "      <td id=\"T_ce0b0_row24_col0\" class=\"data row24 col0\" >2019-01-25 00:00:00</td>\n",
       "      <td id=\"T_ce0b0_row24_col1\" class=\"data row24 col1\" >$4,700.37</td>\n",
       "    </tr>\n",
       "    <tr>\n",
       "      <td id=\"T_ce0b0_row25_col0\" class=\"data row25 col0\" >2019-01-26 00:00:00</td>\n",
       "      <td id=\"T_ce0b0_row25_col1\" class=\"data row25 col1\" >$4,457.51</td>\n",
       "    </tr>\n",
       "    <tr>\n",
       "      <td id=\"T_ce0b0_row26_col0\" class=\"data row26 col0\" >2019-01-27 00:00:00</td>\n",
       "      <td id=\"T_ce0b0_row26_col1\" class=\"data row26 col1\" >$4,635.90</td>\n",
       "    </tr>\n",
       "    <tr>\n",
       "      <td id=\"T_ce0b0_row27_col0\" class=\"data row27 col0\" >2019-01-28 00:00:00</td>\n",
       "      <td id=\"T_ce0b0_row27_col1\" class=\"data row27 col1\" >$4,999.71</td>\n",
       "    </tr>\n",
       "    <tr>\n",
       "      <td id=\"T_ce0b0_row28_col0\" class=\"data row28 col0\" >2019-01-29 00:00:00</td>\n",
       "      <td id=\"T_ce0b0_row28_col1\" class=\"data row28 col1\" >$3,516.57</td>\n",
       "    </tr>\n",
       "    <tr>\n",
       "      <td id=\"T_ce0b0_row29_col0\" class=\"data row29 col0\" >2019-01-30 00:00:00</td>\n",
       "      <td id=\"T_ce0b0_row29_col1\" class=\"data row29 col1\" >$2,558.26</td>\n",
       "    </tr>\n",
       "    <tr>\n",
       "      <td id=\"T_ce0b0_row30_col0\" class=\"data row30 col0\" >2019-01-31 00:00:00</td>\n",
       "      <td id=\"T_ce0b0_row30_col1\" class=\"data row30 col1\" >$5,232.50</td>\n",
       "    </tr>\n",
       "    <tr>\n",
       "      <td id=\"T_ce0b0_row31_col0\" class=\"data row31 col0\" >2019-02-01 00:00:00</td>\n",
       "      <td id=\"T_ce0b0_row31_col1\" class=\"data row31 col1\" >$2,444.54</td>\n",
       "    </tr>\n",
       "    <tr>\n",
       "      <td id=\"T_ce0b0_row32_col0\" class=\"data row32 col0\" >2019-02-02 00:00:00</td>\n",
       "      <td id=\"T_ce0b0_row32_col1\" class=\"data row32 col1\" >$4,140.95</td>\n",
       "    </tr>\n",
       "    <tr>\n",
       "      <td id=\"T_ce0b0_row33_col0\" class=\"data row33 col0\" >2019-02-03 00:00:00</td>\n",
       "      <td id=\"T_ce0b0_row33_col1\" class=\"data row33 col1\" >$5,467.93</td>\n",
       "    </tr>\n",
       "    <tr>\n",
       "      <td id=\"T_ce0b0_row34_col0\" class=\"data row34 col0\" >2019-02-04 00:00:00</td>\n",
       "      <td id=\"T_ce0b0_row34_col1\" class=\"data row34 col1\" >$2,439.50</td>\n",
       "    </tr>\n",
       "    <tr>\n",
       "      <td id=\"T_ce0b0_row35_col0\" class=\"data row35 col0\" >2019-02-05 00:00:00</td>\n",
       "      <td id=\"T_ce0b0_row35_col1\" class=\"data row35 col1\" >$3,031.13</td>\n",
       "    </tr>\n",
       "    <tr>\n",
       "      <td id=\"T_ce0b0_row36_col0\" class=\"data row36 col0\" >2019-02-06 00:00:00</td>\n",
       "      <td id=\"T_ce0b0_row36_col1\" class=\"data row36 col1\" >$2,905.42</td>\n",
       "    </tr>\n",
       "    <tr>\n",
       "      <td id=\"T_ce0b0_row37_col0\" class=\"data row37 col0\" >2019-02-07 00:00:00</td>\n",
       "      <td id=\"T_ce0b0_row37_col1\" class=\"data row37 col1\" >$7,228.21</td>\n",
       "    </tr>\n",
       "    <tr>\n",
       "      <td id=\"T_ce0b0_row38_col0\" class=\"data row38 col0\" >2019-02-08 00:00:00</td>\n",
       "      <td id=\"T_ce0b0_row38_col1\" class=\"data row38 col1\" >$5,084.66</td>\n",
       "    </tr>\n",
       "    <tr>\n",
       "      <td id=\"T_ce0b0_row39_col0\" class=\"data row39 col0\" >2019-02-09 00:00:00</td>\n",
       "      <td id=\"T_ce0b0_row39_col1\" class=\"data row39 col1\" >$3,271.89</td>\n",
       "    </tr>\n",
       "    <tr>\n",
       "      <td id=\"T_ce0b0_row40_col0\" class=\"data row40 col0\" >2019-02-10 00:00:00</td>\n",
       "      <td id=\"T_ce0b0_row40_col1\" class=\"data row40 col1\" >$3,141.02</td>\n",
       "    </tr>\n",
       "    <tr>\n",
       "      <td id=\"T_ce0b0_row41_col0\" class=\"data row41 col0\" >2019-02-11 00:00:00</td>\n",
       "      <td id=\"T_ce0b0_row41_col1\" class=\"data row41 col1\" >$4,542.15</td>\n",
       "    </tr>\n",
       "    <tr>\n",
       "      <td id=\"T_ce0b0_row42_col0\" class=\"data row42 col0\" >2019-02-12 00:00:00</td>\n",
       "      <td id=\"T_ce0b0_row42_col1\" class=\"data row42 col1\" >$2,998.99</td>\n",
       "    </tr>\n",
       "    <tr>\n",
       "      <td id=\"T_ce0b0_row43_col0\" class=\"data row43 col0\" >2019-02-13 00:00:00</td>\n",
       "      <td id=\"T_ce0b0_row43_col1\" class=\"data row43 col1\" >$934.24</td>\n",
       "    </tr>\n",
       "    <tr>\n",
       "      <td id=\"T_ce0b0_row44_col0\" class=\"data row44 col0\" >2019-02-14 00:00:00</td>\n",
       "      <td id=\"T_ce0b0_row44_col1\" class=\"data row44 col1\" >$2,454.09</td>\n",
       "    </tr>\n",
       "    <tr>\n",
       "      <td id=\"T_ce0b0_row45_col0\" class=\"data row45 col0\" >2019-02-15 00:00:00</td>\n",
       "      <td id=\"T_ce0b0_row45_col1\" class=\"data row45 col1\" >$6,830.79</td>\n",
       "    </tr>\n",
       "    <tr>\n",
       "      <td id=\"T_ce0b0_row46_col0\" class=\"data row46 col0\" >2019-02-16 00:00:00</td>\n",
       "      <td id=\"T_ce0b0_row46_col1\" class=\"data row46 col1\" >$2,503.77</td>\n",
       "    </tr>\n",
       "    <tr>\n",
       "      <td id=\"T_ce0b0_row47_col0\" class=\"data row47 col0\" >2019-02-17 00:00:00</td>\n",
       "      <td id=\"T_ce0b0_row47_col1\" class=\"data row47 col1\" >$5,299.57</td>\n",
       "    </tr>\n",
       "    <tr>\n",
       "      <td id=\"T_ce0b0_row48_col0\" class=\"data row48 col0\" >2019-02-18 00:00:00</td>\n",
       "      <td id=\"T_ce0b0_row48_col1\" class=\"data row48 col1\" >$1,496.03</td>\n",
       "    </tr>\n",
       "    <tr>\n",
       "      <td id=\"T_ce0b0_row49_col0\" class=\"data row49 col0\" >2019-02-19 00:00:00</td>\n",
       "      <td id=\"T_ce0b0_row49_col1\" class=\"data row49 col1\" >$4,228.12</td>\n",
       "    </tr>\n",
       "    <tr>\n",
       "      <td id=\"T_ce0b0_row50_col0\" class=\"data row50 col0\" >2019-02-20 00:00:00</td>\n",
       "      <td id=\"T_ce0b0_row50_col1\" class=\"data row50 col1\" >$2,706.42</td>\n",
       "    </tr>\n",
       "    <tr>\n",
       "      <td id=\"T_ce0b0_row51_col0\" class=\"data row51 col0\" >2019-02-21 00:00:00</td>\n",
       "      <td id=\"T_ce0b0_row51_col1\" class=\"data row51 col1\" >$1,393.74</td>\n",
       "    </tr>\n",
       "    <tr>\n",
       "      <td id=\"T_ce0b0_row52_col0\" class=\"data row52 col0\" >2019-02-22 00:00:00</td>\n",
       "      <td id=\"T_ce0b0_row52_col1\" class=\"data row52 col1\" >$2,442.31</td>\n",
       "    </tr>\n",
       "    <tr>\n",
       "      <td id=\"T_ce0b0_row53_col0\" class=\"data row53 col0\" >2019-02-23 00:00:00</td>\n",
       "      <td id=\"T_ce0b0_row53_col1\" class=\"data row53 col1\" >$2,339.59</td>\n",
       "    </tr>\n",
       "    <tr>\n",
       "      <td id=\"T_ce0b0_row54_col0\" class=\"data row54 col0\" >2019-02-24 00:00:00</td>\n",
       "      <td id=\"T_ce0b0_row54_col1\" class=\"data row54 col1\" >$2,722.46</td>\n",
       "    </tr>\n",
       "    <tr>\n",
       "      <td id=\"T_ce0b0_row55_col0\" class=\"data row55 col0\" >2019-02-25 00:00:00</td>\n",
       "      <td id=\"T_ce0b0_row55_col1\" class=\"data row55 col1\" >$4,807.24</td>\n",
       "    </tr>\n",
       "    <tr>\n",
       "      <td id=\"T_ce0b0_row56_col0\" class=\"data row56 col0\" >2019-02-26 00:00:00</td>\n",
       "      <td id=\"T_ce0b0_row56_col1\" class=\"data row56 col1\" >$2,408.16</td>\n",
       "    </tr>\n",
       "    <tr>\n",
       "      <td id=\"T_ce0b0_row57_col0\" class=\"data row57 col0\" >2019-02-27 00:00:00</td>\n",
       "      <td id=\"T_ce0b0_row57_col1\" class=\"data row57 col1\" >$5,859.45</td>\n",
       "    </tr>\n",
       "    <tr>\n",
       "      <td id=\"T_ce0b0_row58_col0\" class=\"data row58 col0\" >2019-02-28 00:00:00</td>\n",
       "      <td id=\"T_ce0b0_row58_col1\" class=\"data row58 col1\" >$2,097.02</td>\n",
       "    </tr>\n",
       "    <tr>\n",
       "      <td id=\"T_ce0b0_row59_col0\" class=\"data row59 col0\" >2019-03-01 00:00:00</td>\n",
       "      <td id=\"T_ce0b0_row59_col1\" class=\"data row59 col1\" >$2,634.37</td>\n",
       "    </tr>\n",
       "    <tr>\n",
       "      <td id=\"T_ce0b0_row60_col0\" class=\"data row60 col0\" >2019-03-02 00:00:00</td>\n",
       "      <td id=\"T_ce0b0_row60_col1\" class=\"data row60 col1\" >$6,560.31</td>\n",
       "    </tr>\n",
       "    <tr>\n",
       "      <td id=\"T_ce0b0_row61_col0\" class=\"data row61 col0\" >2019-03-03 00:00:00</td>\n",
       "      <td id=\"T_ce0b0_row61_col1\" class=\"data row61 col1\" >$4,853.17</td>\n",
       "    </tr>\n",
       "    <tr>\n",
       "      <td id=\"T_ce0b0_row62_col0\" class=\"data row62 col0\" >2019-03-04 00:00:00</td>\n",
       "      <td id=\"T_ce0b0_row62_col1\" class=\"data row62 col1\" >$3,894.44</td>\n",
       "    </tr>\n",
       "    <tr>\n",
       "      <td id=\"T_ce0b0_row63_col0\" class=\"data row63 col0\" >2019-03-05 00:00:00</td>\n",
       "      <td id=\"T_ce0b0_row63_col1\" class=\"data row63 col1\" >$6,230.88</td>\n",
       "    </tr>\n",
       "    <tr>\n",
       "      <td id=\"T_ce0b0_row64_col0\" class=\"data row64 col0\" >2019-03-06 00:00:00</td>\n",
       "      <td id=\"T_ce0b0_row64_col1\" class=\"data row64 col1\" >$3,092.60</td>\n",
       "    </tr>\n",
       "    <tr>\n",
       "      <td id=\"T_ce0b0_row65_col0\" class=\"data row65 col0\" >2019-03-07 00:00:00</td>\n",
       "      <td id=\"T_ce0b0_row65_col1\" class=\"data row65 col1\" >$1,438.26</td>\n",
       "    </tr>\n",
       "    <tr>\n",
       "      <td id=\"T_ce0b0_row66_col0\" class=\"data row66 col0\" >2019-03-08 00:00:00</td>\n",
       "      <td id=\"T_ce0b0_row66_col1\" class=\"data row66 col1\" >$3,125.39</td>\n",
       "    </tr>\n",
       "    <tr>\n",
       "      <td id=\"T_ce0b0_row67_col0\" class=\"data row67 col0\" >2019-03-09 00:00:00</td>\n",
       "      <td id=\"T_ce0b0_row67_col1\" class=\"data row67 col1\" >$7,474.05</td>\n",
       "    </tr>\n",
       "    <tr>\n",
       "      <td id=\"T_ce0b0_row68_col0\" class=\"data row68 col0\" >2019-03-10 00:00:00</td>\n",
       "      <td id=\"T_ce0b0_row68_col1\" class=\"data row68 col1\" >$3,163.23</td>\n",
       "    </tr>\n",
       "    <tr>\n",
       "      <td id=\"T_ce0b0_row69_col0\" class=\"data row69 col0\" >2019-03-11 00:00:00</td>\n",
       "      <td id=\"T_ce0b0_row69_col1\" class=\"data row69 col1\" >$2,961.25</td>\n",
       "    </tr>\n",
       "    <tr>\n",
       "      <td id=\"T_ce0b0_row70_col0\" class=\"data row70 col0\" >2019-03-12 00:00:00</td>\n",
       "      <td id=\"T_ce0b0_row70_col1\" class=\"data row70 col1\" >$3,677.55</td>\n",
       "    </tr>\n",
       "    <tr>\n",
       "      <td id=\"T_ce0b0_row71_col0\" class=\"data row71 col0\" >2019-03-13 00:00:00</td>\n",
       "      <td id=\"T_ce0b0_row71_col1\" class=\"data row71 col1\" >$2,063.61</td>\n",
       "    </tr>\n",
       "    <tr>\n",
       "      <td id=\"T_ce0b0_row72_col0\" class=\"data row72 col0\" >2019-03-14 00:00:00</td>\n",
       "      <td id=\"T_ce0b0_row72_col1\" class=\"data row72 col1\" >$7,214.63</td>\n",
       "    </tr>\n",
       "    <tr>\n",
       "      <td id=\"T_ce0b0_row73_col0\" class=\"data row73 col0\" >2019-03-15 00:00:00</td>\n",
       "      <td id=\"T_ce0b0_row73_col1\" class=\"data row73 col1\" >$2,942.41</td>\n",
       "    </tr>\n",
       "    <tr>\n",
       "      <td id=\"T_ce0b0_row74_col0\" class=\"data row74 col0\" >2019-03-16 00:00:00</td>\n",
       "      <td id=\"T_ce0b0_row74_col1\" class=\"data row74 col1\" >$3,154.47</td>\n",
       "    </tr>\n",
       "    <tr>\n",
       "      <td id=\"T_ce0b0_row75_col0\" class=\"data row75 col0\" >2019-03-17 00:00:00</td>\n",
       "      <td id=\"T_ce0b0_row75_col1\" class=\"data row75 col1\" >$1,976.29</td>\n",
       "    </tr>\n",
       "    <tr>\n",
       "      <td id=\"T_ce0b0_row76_col0\" class=\"data row76 col0\" >2019-03-18 00:00:00</td>\n",
       "      <td id=\"T_ce0b0_row76_col1\" class=\"data row76 col1\" >$1,292.83</td>\n",
       "    </tr>\n",
       "    <tr>\n",
       "      <td id=\"T_ce0b0_row77_col0\" class=\"data row77 col0\" >2019-03-19 00:00:00</td>\n",
       "      <td id=\"T_ce0b0_row77_col1\" class=\"data row77 col1\" >$5,740.39</td>\n",
       "    </tr>\n",
       "    <tr>\n",
       "      <td id=\"T_ce0b0_row78_col0\" class=\"data row78 col0\" >2019-03-20 00:00:00</td>\n",
       "      <td id=\"T_ce0b0_row78_col1\" class=\"data row78 col1\" >$5,458.20</td>\n",
       "    </tr>\n",
       "    <tr>\n",
       "      <td id=\"T_ce0b0_row79_col0\" class=\"data row79 col0\" >2019-03-21 00:00:00</td>\n",
       "      <td id=\"T_ce0b0_row79_col1\" class=\"data row79 col1\" >$1,877.52</td>\n",
       "    </tr>\n",
       "    <tr>\n",
       "      <td id=\"T_ce0b0_row80_col0\" class=\"data row80 col0\" >2019-03-22 00:00:00</td>\n",
       "      <td id=\"T_ce0b0_row80_col1\" class=\"data row80 col1\" >$3,179.15</td>\n",
       "    </tr>\n",
       "    <tr>\n",
       "      <td id=\"T_ce0b0_row81_col0\" class=\"data row81 col0\" >2019-03-23 00:00:00</td>\n",
       "      <td id=\"T_ce0b0_row81_col1\" class=\"data row81 col1\" >$4,095.04</td>\n",
       "    </tr>\n",
       "    <tr>\n",
       "      <td id=\"T_ce0b0_row82_col0\" class=\"data row82 col0\" >2019-03-24 00:00:00</td>\n",
       "      <td id=\"T_ce0b0_row82_col1\" class=\"data row82 col1\" >$3,477.46</td>\n",
       "    </tr>\n",
       "    <tr>\n",
       "      <td id=\"T_ce0b0_row83_col0\" class=\"data row83 col0\" >2019-03-25 00:00:00</td>\n",
       "      <td id=\"T_ce0b0_row83_col1\" class=\"data row83 col1\" >$2,272.97</td>\n",
       "    </tr>\n",
       "    <tr>\n",
       "      <td id=\"T_ce0b0_row84_col0\" class=\"data row84 col0\" >2019-03-26 00:00:00</td>\n",
       "      <td id=\"T_ce0b0_row84_col1\" class=\"data row84 col1\" >$1,962.51</td>\n",
       "    </tr>\n",
       "    <tr>\n",
       "      <td id=\"T_ce0b0_row85_col0\" class=\"data row85 col0\" >2019-03-27 00:00:00</td>\n",
       "      <td id=\"T_ce0b0_row85_col1\" class=\"data row85 col1\" >$2,902.82</td>\n",
       "    </tr>\n",
       "    <tr>\n",
       "      <td id=\"T_ce0b0_row86_col0\" class=\"data row86 col0\" >2019-03-28 00:00:00</td>\n",
       "      <td id=\"T_ce0b0_row86_col1\" class=\"data row86 col1\" >$2,229.40</td>\n",
       "    </tr>\n",
       "    <tr>\n",
       "      <td id=\"T_ce0b0_row87_col0\" class=\"data row87 col0\" >2019-03-29 00:00:00</td>\n",
       "      <td id=\"T_ce0b0_row87_col1\" class=\"data row87 col1\" >$4,023.24</td>\n",
       "    </tr>\n",
       "    <tr>\n",
       "      <td id=\"T_ce0b0_row88_col0\" class=\"data row88 col0\" >2019-03-30 00:00:00</td>\n",
       "      <td id=\"T_ce0b0_row88_col1\" class=\"data row88 col1\" >$4,487.06</td>\n",
       "    </tr>\n",
       "  </tbody>\n",
       "</table>\n"
      ],
      "text/plain": [
       "<pandas.io.formats.style.Styler at 0x2679a96b850>"
      ]
     },
     "execution_count": 34,
     "metadata": {},
     "output_type": "execute_result"
    }
   ],
   "source": [
    "#daily totals\n",
    "(df\n",
    " .groupby(pd.Grouper(key='date', freq='1D'))['total']\n",
    " .sum()\n",
    " .reset_index()\n",
    " .style.format({\"total\":\"${:,.2f}\"})\n",
    " .background_gradient(subset='total', cmap='Blues')\n",
    " .set_caption('Daily Sale Totals')\n",
    " .hide_index()\n",
    ")"
   ]
  },
  {
   "cell_type": "code",
   "execution_count": 35,
   "id": "bc7796df-bcc0-4af1-9400-457a7189d52f",
   "metadata": {},
   "outputs": [
    {
     "data": {
      "text/html": [
       "<div>\n",
       "<style scoped>\n",
       "    .dataframe tbody tr th:only-of-type {\n",
       "        vertical-align: middle;\n",
       "    }\n",
       "\n",
       "    .dataframe tbody tr th {\n",
       "        vertical-align: top;\n",
       "    }\n",
       "\n",
       "    .dataframe thead th {\n",
       "        text-align: right;\n",
       "    }\n",
       "</style>\n",
       "<table border=\"1\" class=\"dataframe\">\n",
       "  <thead>\n",
       "    <tr style=\"text-align: right;\">\n",
       "      <th></th>\n",
       "      <th>date</th>\n",
       "      <th>total</th>\n",
       "    </tr>\n",
       "  </thead>\n",
       "  <tbody>\n",
       "    <tr>\n",
       "      <th>0</th>\n",
       "      <td>2019-03-09</td>\n",
       "      <td>7474.05</td>\n",
       "    </tr>\n",
       "    <tr>\n",
       "      <th>1</th>\n",
       "      <td>2019-02-07</td>\n",
       "      <td>7228.21</td>\n",
       "    </tr>\n",
       "    <tr>\n",
       "      <th>2</th>\n",
       "      <td>2019-03-14</td>\n",
       "      <td>7214.63</td>\n",
       "    </tr>\n",
       "    <tr>\n",
       "      <th>3</th>\n",
       "      <td>2019-02-15</td>\n",
       "      <td>6830.79</td>\n",
       "    </tr>\n",
       "    <tr>\n",
       "      <th>4</th>\n",
       "      <td>2019-03-02</td>\n",
       "      <td>6560.31</td>\n",
       "    </tr>\n",
       "  </tbody>\n",
       "</table>\n",
       "</div>"
      ],
      "text/plain": [
       "        date   total\n",
       "0 2019-03-09 7474.05\n",
       "1 2019-02-07 7228.21\n",
       "2 2019-03-14 7214.63\n",
       "3 2019-02-15 6830.79\n",
       "4 2019-03-02 6560.31"
      ]
     },
     "execution_count": 35,
     "metadata": {},
     "output_type": "execute_result"
    }
   ],
   "source": [
    "#5 days with highest totals\n",
    "(df\n",
    " .groupby(pd.Grouper(key='date', freq='1D'))['total'].sum()\n",
    " .sort_values(ascending=False)\n",
    " .reset_index()\n",
    " .head(5)\n",
    ")"
   ]
  },
  {
   "cell_type": "code",
   "execution_count": 36,
   "id": "495468fc-daa7-4a08-94f6-2989fd44e1bb",
   "metadata": {},
   "outputs": [
    {
     "data": {
      "text/html": [
       "<div>\n",
       "<style scoped>\n",
       "    .dataframe tbody tr th:only-of-type {\n",
       "        vertical-align: middle;\n",
       "    }\n",
       "\n",
       "    .dataframe tbody tr th {\n",
       "        vertical-align: top;\n",
       "    }\n",
       "\n",
       "    .dataframe thead th {\n",
       "        text-align: right;\n",
       "    }\n",
       "</style>\n",
       "<table border=\"1\" class=\"dataframe\">\n",
       "  <thead>\n",
       "    <tr style=\"text-align: right;\">\n",
       "      <th></th>\n",
       "      <th>date</th>\n",
       "      <th>total</th>\n",
       "    </tr>\n",
       "  </thead>\n",
       "  <tbody>\n",
       "    <tr>\n",
       "      <th>84</th>\n",
       "      <td>2019-02-18</td>\n",
       "      <td>1496.03</td>\n",
       "    </tr>\n",
       "    <tr>\n",
       "      <th>85</th>\n",
       "      <td>2019-03-07</td>\n",
       "      <td>1438.26</td>\n",
       "    </tr>\n",
       "    <tr>\n",
       "      <th>86</th>\n",
       "      <td>2019-02-21</td>\n",
       "      <td>1393.74</td>\n",
       "    </tr>\n",
       "    <tr>\n",
       "      <th>87</th>\n",
       "      <td>2019-03-18</td>\n",
       "      <td>1292.83</td>\n",
       "    </tr>\n",
       "    <tr>\n",
       "      <th>88</th>\n",
       "      <td>2019-02-13</td>\n",
       "      <td>934.24</td>\n",
       "    </tr>\n",
       "  </tbody>\n",
       "</table>\n",
       "</div>"
      ],
      "text/plain": [
       "         date   total\n",
       "84 2019-02-18 1496.03\n",
       "85 2019-03-07 1438.26\n",
       "86 2019-02-21 1393.74\n",
       "87 2019-03-18 1292.83\n",
       "88 2019-02-13  934.24"
      ]
     },
     "execution_count": 36,
     "metadata": {},
     "output_type": "execute_result"
    }
   ],
   "source": [
    "#5 days with lowesest totals\n",
    "(df\n",
    " .groupby(pd.Grouper(key='date', freq='1D'))['total'].sum()\n",
    " .sort_values(ascending=False)\n",
    " .reset_index()\n",
    " .tail(5)\n",
    ")"
   ]
  },
  {
   "cell_type": "code",
   "execution_count": 37,
   "id": "a5877ed0-8287-48fe-a43b-302c9f45b5cb",
   "metadata": {},
   "outputs": [
    {
     "data": {
      "text/plain": [
       "2019-02-07    20\n",
       "2019-02-15    19\n",
       "2019-03-02    18\n",
       "2019-01-08    18\n",
       "2019-03-14    18\n",
       "2019-03-05    17\n",
       "2019-01-26    17\n",
       "2019-01-25    17\n",
       "2019-01-23    17\n",
       "2019-02-25    16\n",
       "2019-03-09    16\n",
       "2019-03-19    16\n",
       "2019-01-19    16\n",
       "2019-03-20    15\n",
       "2019-02-27    14\n",
       "Name: date, dtype: int64"
      ]
     },
     "execution_count": 37,
     "metadata": {},
     "output_type": "execute_result"
    }
   ],
   "source": [
    "#15 dates with most purchases/transactions\n",
    "df['date'].value_counts().head(15)"
   ]
  },
  {
   "cell_type": "code",
   "execution_count": 38,
   "id": "2998472e-60f9-46bc-b8bf-3df8d368daeb",
   "metadata": {},
   "outputs": [
    {
     "data": {
      "text/plain": [
       "Saturday     164\n",
       "Tuesday      158\n",
       "Wednesday    143\n",
       "Friday       139\n",
       "Thursday     138\n",
       "Sunday       133\n",
       "Monday       125\n",
       "Name: date, dtype: int64"
      ]
     },
     "execution_count": 38,
     "metadata": {},
     "output_type": "execute_result"
    }
   ],
   "source": [
    "#how purchases are distributed based on the day of the week\n",
    "df['date'].dt.day_name().value_counts()"
   ]
  },
  {
   "cell_type": "markdown",
   "id": "e6fcd898-665c-4257-9438-a24fd23d4ed6",
   "metadata": {},
   "source": [
    "_164 purchases were made on a Saturday_"
   ]
  },
  {
   "cell_type": "code",
   "execution_count": 39,
   "id": "0923b967-095c-44de-9c91-0be4207f3d71",
   "metadata": {},
   "outputs": [
    {
     "data": {
      "text/html": [
       "<style type=\"text/css\">\n",
       "#T_832b5_row0_col1, #T_832b5_row0_col2, #T_832b5_row0_col4, #T_832b5_row1_col0, #T_832b5_row1_col5, #T_832b5_row1_col11, #T_832b5_row3_col10, #T_832b5_row3_col12, #T_832b5_row4_col7, #T_832b5_row4_col8, #T_832b5_row4_col9, #T_832b5_row5_col3, #T_832b5_row6_col6 {\n",
       "  background-color: dimgrey;\n",
       "}\n",
       "#T_832b5_row0_col6, #T_832b5_row2_col8, #T_832b5_row2_col9, #T_832b5_row2_col12, #T_832b5_row3_col4, #T_832b5_row4_col5, #T_832b5_row4_col10, #T_832b5_row5_col0, #T_832b5_row5_col1, #T_832b5_row5_col2, #T_832b5_row5_col7, #T_832b5_row5_col11, #T_832b5_row6_col3 {\n",
       "  background-color: black;\n",
       "}\n",
       "</style>\n",
       "<table id=\"T_832b5\">\n",
       "  <caption>Daily revenue (in $). Each column represents a week in the select period, minimum and maximum for each week highlighted</caption>\n",
       "  <thead>\n",
       "    <tr>\n",
       "      <th class=\"index_name level0\" >date</th>\n",
       "      <th id=\"T_832b5_level0_col0\" class=\"col_heading level0 col0\" >2019-01-06 00:00:00</th>\n",
       "      <th id=\"T_832b5_level0_col1\" class=\"col_heading level0 col1\" >2019-01-13 00:00:00</th>\n",
       "      <th id=\"T_832b5_level0_col2\" class=\"col_heading level0 col2\" >2019-01-20 00:00:00</th>\n",
       "      <th id=\"T_832b5_level0_col3\" class=\"col_heading level0 col3\" >2019-01-27 00:00:00</th>\n",
       "      <th id=\"T_832b5_level0_col4\" class=\"col_heading level0 col4\" >2019-02-03 00:00:00</th>\n",
       "      <th id=\"T_832b5_level0_col5\" class=\"col_heading level0 col5\" >2019-02-10 00:00:00</th>\n",
       "      <th id=\"T_832b5_level0_col6\" class=\"col_heading level0 col6\" >2019-02-17 00:00:00</th>\n",
       "      <th id=\"T_832b5_level0_col7\" class=\"col_heading level0 col7\" >2019-02-24 00:00:00</th>\n",
       "      <th id=\"T_832b5_level0_col8\" class=\"col_heading level0 col8\" >2019-03-03 00:00:00</th>\n",
       "      <th id=\"T_832b5_level0_col9\" class=\"col_heading level0 col9\" >2019-03-10 00:00:00</th>\n",
       "      <th id=\"T_832b5_level0_col10\" class=\"col_heading level0 col10\" >2019-03-17 00:00:00</th>\n",
       "      <th id=\"T_832b5_level0_col11\" class=\"col_heading level0 col11\" >2019-03-24 00:00:00</th>\n",
       "      <th id=\"T_832b5_level0_col12\" class=\"col_heading level0 col12\" >2019-03-31 00:00:00</th>\n",
       "    </tr>\n",
       "    <tr>\n",
       "      <th class=\"index_name level0\" >date</th>\n",
       "      <th class=\"blank col0\" >&nbsp;</th>\n",
       "      <th class=\"blank col1\" >&nbsp;</th>\n",
       "      <th class=\"blank col2\" >&nbsp;</th>\n",
       "      <th class=\"blank col3\" >&nbsp;</th>\n",
       "      <th class=\"blank col4\" >&nbsp;</th>\n",
       "      <th class=\"blank col5\" >&nbsp;</th>\n",
       "      <th class=\"blank col6\" >&nbsp;</th>\n",
       "      <th class=\"blank col7\" >&nbsp;</th>\n",
       "      <th class=\"blank col8\" >&nbsp;</th>\n",
       "      <th class=\"blank col9\" >&nbsp;</th>\n",
       "      <th class=\"blank col10\" >&nbsp;</th>\n",
       "      <th class=\"blank col11\" >&nbsp;</th>\n",
       "      <th class=\"blank col12\" >&nbsp;</th>\n",
       "    </tr>\n",
       "  </thead>\n",
       "  <tbody>\n",
       "    <tr>\n",
       "      <th id=\"T_832b5_level0_row0\" class=\"row_heading level0 row0\" >Friday</th>\n",
       "      <td id=\"T_832b5_row0_col0\" class=\"data row0 col0\" >1623.688500</td>\n",
       "      <td id=\"T_832b5_row0_col1\" class=\"data row0 col1\" >2114.962500</td>\n",
       "      <td id=\"T_832b5_row0_col2\" class=\"data row0 col2\" >2780.473500</td>\n",
       "      <td id=\"T_832b5_row0_col3\" class=\"data row0 col3\" >4700.367000</td>\n",
       "      <td id=\"T_832b5_row0_col4\" class=\"data row0 col4\" >2444.536500</td>\n",
       "      <td id=\"T_832b5_row0_col5\" class=\"data row0 col5\" >5084.656500</td>\n",
       "      <td id=\"T_832b5_row0_col6\" class=\"data row0 col6\" >6830.785500</td>\n",
       "      <td id=\"T_832b5_row0_col7\" class=\"data row0 col7\" >2442.310500</td>\n",
       "      <td id=\"T_832b5_row0_col8\" class=\"data row0 col8\" >2634.366000</td>\n",
       "      <td id=\"T_832b5_row0_col9\" class=\"data row0 col9\" >3125.388000</td>\n",
       "      <td id=\"T_832b5_row0_col10\" class=\"data row0 col10\" >2942.415000</td>\n",
       "      <td id=\"T_832b5_row0_col11\" class=\"data row0 col11\" >3179.148000</td>\n",
       "      <td id=\"T_832b5_row0_col12\" class=\"data row0 col12\" >4023.243000</td>\n",
       "    </tr>\n",
       "    <tr>\n",
       "      <th id=\"T_832b5_level0_row1\" class=\"row_heading level0 row1\" >Monday</th>\n",
       "      <td id=\"T_832b5_row1_col0\" class=\"data row1 col0\" >0.000000</td>\n",
       "      <td id=\"T_832b5_row1_col1\" class=\"data row1 col1\" >2834.244000</td>\n",
       "      <td id=\"T_832b5_row1_col2\" class=\"data row1 col2\" >3966.616500</td>\n",
       "      <td id=\"T_832b5_row1_col3\" class=\"data row1 col3\" >2392.099500</td>\n",
       "      <td id=\"T_832b5_row1_col4\" class=\"data row1 col4\" >4999.711500</td>\n",
       "      <td id=\"T_832b5_row1_col5\" class=\"data row1 col5\" >2439.496500</td>\n",
       "      <td id=\"T_832b5_row1_col6\" class=\"data row1 col6\" >4542.153000</td>\n",
       "      <td id=\"T_832b5_row1_col7\" class=\"data row1 col7\" >1496.029500</td>\n",
       "      <td id=\"T_832b5_row1_col8\" class=\"data row1 col8\" >4807.236000</td>\n",
       "      <td id=\"T_832b5_row1_col9\" class=\"data row1 col9\" >3894.439500</td>\n",
       "      <td id=\"T_832b5_row1_col10\" class=\"data row1 col10\" >2961.252000</td>\n",
       "      <td id=\"T_832b5_row1_col11\" class=\"data row1 col11\" >1292.833500</td>\n",
       "      <td id=\"T_832b5_row1_col12\" class=\"data row1 col12\" >2272.966500</td>\n",
       "    </tr>\n",
       "    <tr>\n",
       "      <th id=\"T_832b5_level0_row2\" class=\"row_heading level0 row2\" >Saturday</th>\n",
       "      <td id=\"T_832b5_row2_col0\" class=\"data row2 col0\" >3536.683500</td>\n",
       "      <td id=\"T_832b5_row2_col1\" class=\"data row2 col1\" >5184.763500</td>\n",
       "      <td id=\"T_832b5_row2_col2\" class=\"data row2 col2\" >4914.724500</td>\n",
       "      <td id=\"T_832b5_row2_col3\" class=\"data row2 col3\" >4457.512500</td>\n",
       "      <td id=\"T_832b5_row2_col4\" class=\"data row2 col4\" >4140.948000</td>\n",
       "      <td id=\"T_832b5_row2_col5\" class=\"data row2 col5\" >3271.894500</td>\n",
       "      <td id=\"T_832b5_row2_col6\" class=\"data row2 col6\" >2503.767000</td>\n",
       "      <td id=\"T_832b5_row2_col7\" class=\"data row2 col7\" >2339.589000</td>\n",
       "      <td id=\"T_832b5_row2_col8\" class=\"data row2 col8\" >6560.305500</td>\n",
       "      <td id=\"T_832b5_row2_col9\" class=\"data row2 col9\" >7474.047000</td>\n",
       "      <td id=\"T_832b5_row2_col10\" class=\"data row2 col10\" >3154.473000</td>\n",
       "      <td id=\"T_832b5_row2_col11\" class=\"data row2 col11\" >4095.042000</td>\n",
       "      <td id=\"T_832b5_row2_col12\" class=\"data row2 col12\" >4487.059500</td>\n",
       "    </tr>\n",
       "    <tr>\n",
       "      <th id=\"T_832b5_level0_row3\" class=\"row_heading level0 row3\" >Sunday</th>\n",
       "      <td id=\"T_832b5_row3_col0\" class=\"data row3 col0\" >3614.205000</td>\n",
       "      <td id=\"T_832b5_row3_col1\" class=\"data row3 col1\" >2451.204000</td>\n",
       "      <td id=\"T_832b5_row3_col2\" class=\"data row3 col2\" >3655.449000</td>\n",
       "      <td id=\"T_832b5_row3_col3\" class=\"data row3 col3\" >4635.897000</td>\n",
       "      <td id=\"T_832b5_row3_col4\" class=\"data row3 col4\" >5467.927500</td>\n",
       "      <td id=\"T_832b5_row3_col5\" class=\"data row3 col5\" >3141.022500</td>\n",
       "      <td id=\"T_832b5_row3_col6\" class=\"data row3 col6\" >5299.570500</td>\n",
       "      <td id=\"T_832b5_row3_col7\" class=\"data row3 col7\" >2722.461000</td>\n",
       "      <td id=\"T_832b5_row3_col8\" class=\"data row3 col8\" >4853.173500</td>\n",
       "      <td id=\"T_832b5_row3_col9\" class=\"data row3 col9\" >3163.230000</td>\n",
       "      <td id=\"T_832b5_row3_col10\" class=\"data row3 col10\" >1976.289000</td>\n",
       "      <td id=\"T_832b5_row3_col11\" class=\"data row3 col11\" >3477.463500</td>\n",
       "      <td id=\"T_832b5_row3_col12\" class=\"data row3 col12\" >0.000000</td>\n",
       "    </tr>\n",
       "    <tr>\n",
       "      <th id=\"T_832b5_level0_row4\" class=\"row_heading level0 row4\" >Thursday</th>\n",
       "      <td id=\"T_832b5_row4_col0\" class=\"data row4 col0\" >2078.128500</td>\n",
       "      <td id=\"T_832b5_row4_col1\" class=\"data row4 col1\" >3560.949000</td>\n",
       "      <td id=\"T_832b5_row4_col2\" class=\"data row4 col2\" >3142.755000</td>\n",
       "      <td id=\"T_832b5_row4_col3\" class=\"data row4 col3\" >5402.050500</td>\n",
       "      <td id=\"T_832b5_row4_col4\" class=\"data row4 col4\" >5232.496500</td>\n",
       "      <td id=\"T_832b5_row4_col5\" class=\"data row4 col5\" >7228.210500</td>\n",
       "      <td id=\"T_832b5_row4_col6\" class=\"data row4 col6\" >2454.091500</td>\n",
       "      <td id=\"T_832b5_row4_col7\" class=\"data row4 col7\" >1393.738500</td>\n",
       "      <td id=\"T_832b5_row4_col8\" class=\"data row4 col8\" >2097.018000</td>\n",
       "      <td id=\"T_832b5_row4_col9\" class=\"data row4 col9\" >1438.258500</td>\n",
       "      <td id=\"T_832b5_row4_col10\" class=\"data row4 col10\" >7214.634000</td>\n",
       "      <td id=\"T_832b5_row4_col11\" class=\"data row4 col11\" >1877.515500</td>\n",
       "      <td id=\"T_832b5_row4_col12\" class=\"data row4 col12\" >2229.402000</td>\n",
       "    </tr>\n",
       "    <tr>\n",
       "      <th id=\"T_832b5_level0_row5\" class=\"row_heading level0 row5\" >Tuesday</th>\n",
       "      <td id=\"T_832b5_row5_col0\" class=\"data row5 col0\" >4745.181000</td>\n",
       "      <td id=\"T_832b5_row5_col1\" class=\"data row5 col1\" >5293.732500</td>\n",
       "      <td id=\"T_832b5_row5_col2\" class=\"data row5 col2\" >5944.260000</td>\n",
       "      <td id=\"T_832b5_row5_col3\" class=\"data row5 col3\" >1704.769500</td>\n",
       "      <td id=\"T_832b5_row5_col4\" class=\"data row5 col4\" >3516.565500</td>\n",
       "      <td id=\"T_832b5_row5_col5\" class=\"data row5 col5\" >3031.129500</td>\n",
       "      <td id=\"T_832b5_row5_col6\" class=\"data row5 col6\" >2998.989000</td>\n",
       "      <td id=\"T_832b5_row5_col7\" class=\"data row5 col7\" >4228.119000</td>\n",
       "      <td id=\"T_832b5_row5_col8\" class=\"data row5 col8\" >2408.164500</td>\n",
       "      <td id=\"T_832b5_row5_col9\" class=\"data row5 col9\" >6230.878500</td>\n",
       "      <td id=\"T_832b5_row5_col10\" class=\"data row5 col10\" >3677.551500</td>\n",
       "      <td id=\"T_832b5_row5_col11\" class=\"data row5 col11\" >5740.392000</td>\n",
       "      <td id=\"T_832b5_row5_col12\" class=\"data row5 col12\" >1962.513000</td>\n",
       "    </tr>\n",
       "    <tr>\n",
       "      <th id=\"T_832b5_level0_row6\" class=\"row_heading level0 row6\" >Wednesday</th>\n",
       "      <td id=\"T_832b5_row6_col0\" class=\"data row6 col0\" >1945.503000</td>\n",
       "      <td id=\"T_832b5_row6_col1\" class=\"data row6 col1\" >3021.343500</td>\n",
       "      <td id=\"T_832b5_row6_col2\" class=\"data row6 col2\" >4289.082000</td>\n",
       "      <td id=\"T_832b5_row6_col3\" class=\"data row6 col3\" >5994.187500</td>\n",
       "      <td id=\"T_832b5_row6_col4\" class=\"data row6 col4\" >2558.262000</td>\n",
       "      <td id=\"T_832b5_row6_col5\" class=\"data row6 col5\" >2905.423500</td>\n",
       "      <td id=\"T_832b5_row6_col6\" class=\"data row6 col6\" >934.237500</td>\n",
       "      <td id=\"T_832b5_row6_col7\" class=\"data row6 col7\" >2706.417000</td>\n",
       "      <td id=\"T_832b5_row6_col8\" class=\"data row6 col8\" >5859.451500</td>\n",
       "      <td id=\"T_832b5_row6_col9\" class=\"data row6 col9\" >3092.596500</td>\n",
       "      <td id=\"T_832b5_row6_col10\" class=\"data row6 col10\" >2063.607000</td>\n",
       "      <td id=\"T_832b5_row6_col11\" class=\"data row6 col11\" >5458.204500</td>\n",
       "      <td id=\"T_832b5_row6_col12\" class=\"data row6 col12\" >2902.819500</td>\n",
       "    </tr>\n",
       "  </tbody>\n",
       "</table>\n"
      ],
      "text/plain": [
       "<pandas.io.formats.style.Styler at 0x26798af6a70>"
      ]
     },
     "execution_count": 39,
     "metadata": {},
     "output_type": "execute_result"
    }
   ],
   "source": [
    "#pivot table with totals as values, weeks as column, day name as index, NaN to 0\n",
    "#show max and min for each week\n",
    "(pd\n",
    " .pivot_table(df,'total', \n",
    "              index=df['date'].dt.day_name(), \n",
    "              columns=pd.Grouper(key='date', freq='1W'), \n",
    "              aggfunc=np.sum, \n",
    "              fill_value=0)\n",
    " .style.format()\n",
    " .set_caption('Daily revenue (in $). Each column represents a week in the select period, minimum and maximum for each week highlighted')\n",
    " .highlight_min(color='dimgrey')\n",
    " .highlight_max(color='black'))"
   ]
  },
  {
   "cell_type": "code",
   "execution_count": 40,
   "id": "1093372f-f37d-4df5-ac7b-850531aa84b5",
   "metadata": {},
   "outputs": [
    {
     "data": {
      "text/html": [
       "<style type=\"text/css\">\n",
       "#T_82bba_row0_col1 {\n",
       "  background-color: #add0e6;\n",
       "  color: #000000;\n",
       "}\n",
       "#T_82bba_row1_col1 {\n",
       "  background-color: #f7fbff;\n",
       "  color: #000000;\n",
       "}\n",
       "#T_82bba_row2_col1 {\n",
       "  background-color: #08306b;\n",
       "  color: #f1f1f1;\n",
       "}\n",
       "#T_82bba_row3_col1 {\n",
       "  background-color: #a3cce3;\n",
       "  color: #000000;\n",
       "}\n",
       "#T_82bba_row4_col1 {\n",
       "  background-color: #91c3de;\n",
       "  color: #000000;\n",
       "}\n",
       "#T_82bba_row5_col1 {\n",
       "  background-color: #2272b6;\n",
       "  color: #f1f1f1;\n",
       "}\n",
       "#T_82bba_row6_col1 {\n",
       "  background-color: #b0d2e7;\n",
       "  color: #000000;\n",
       "}\n",
       "</style>\n",
       "<table id=\"T_82bba\">\n",
       "  <thead>\n",
       "    <tr>\n",
       "      <th id=\"T_82bba_level0_col0\" class=\"col_heading level0 col0\" >date</th>\n",
       "      <th id=\"T_82bba_level0_col1\" class=\"col_heading level0 col1\" >total</th>\n",
       "    </tr>\n",
       "  </thead>\n",
       "  <tbody>\n",
       "    <tr>\n",
       "      <td id=\"T_82bba_row0_col0\" class=\"data row0 col0\" >Friday</td>\n",
       "      <td id=\"T_82bba_row0_col1\" class=\"data row0 col1\" >$43926.3405</td>\n",
       "    </tr>\n",
       "    <tr>\n",
       "      <td id=\"T_82bba_row1_col0\" class=\"data row1 col0\" >Monday</td>\n",
       "      <td id=\"T_82bba_row1_col1\" class=\"data row1 col1\" >$37899.078</td>\n",
       "    </tr>\n",
       "    <tr>\n",
       "      <td id=\"T_82bba_row2_col0\" class=\"data row2 col0\" >Saturday</td>\n",
       "      <td id=\"T_82bba_row2_col1\" class=\"data row2 col1\" >$56120.8095</td>\n",
       "    </tr>\n",
       "    <tr>\n",
       "      <td id=\"T_82bba_row3_col0\" class=\"data row3 col0\" >Sunday</td>\n",
       "      <td id=\"T_82bba_row3_col1\" class=\"data row3 col1\" >$44457.8925</td>\n",
       "    </tr>\n",
       "    <tr>\n",
       "      <td id=\"T_82bba_row4_col0\" class=\"data row4 col0\" >Thursday</td>\n",
       "      <td id=\"T_82bba_row4_col1\" class=\"data row4 col1\" >$45349.248</td>\n",
       "    </tr>\n",
       "    <tr>\n",
       "      <td id=\"T_82bba_row5_col0\" class=\"data row5 col0\" >Tuesday</td>\n",
       "      <td id=\"T_82bba_row5_col1\" class=\"data row5 col1\" >$51482.2455</td>\n",
       "    </tr>\n",
       "    <tr>\n",
       "      <td id=\"T_82bba_row6_col0\" class=\"data row6 col0\" >Wednesday</td>\n",
       "      <td id=\"T_82bba_row6_col1\" class=\"data row6 col1\" >$43731.135</td>\n",
       "    </tr>\n",
       "  </tbody>\n",
       "</table>\n"
      ],
      "text/plain": [
       "<pandas.io.formats.style.Styler at 0x26798af6dd0>"
      ]
     },
     "execution_count": 40,
     "metadata": {},
     "output_type": "execute_result"
    }
   ],
   "source": [
    "#total revenue based on the day of the week\n",
    "(df\n",
    " .groupby(df['date'].dt.day_name())['total'].sum()\n",
    " .reset_index()\n",
    " .style.format({\"total\":\"${}\"})\n",
    " .background_gradient(subset='total', cmap='Blues')\n",
    " .hide_index()\n",
    ")"
   ]
  },
  {
   "cell_type": "code",
   "execution_count": null,
   "id": "bddd96c2-4f85-4fb8-bb08-8fd25fdfdb74",
   "metadata": {},
   "outputs": [],
   "source": []
  },
  {
   "cell_type": "markdown",
   "id": "c4466eee-775c-4149-b1c5-e216f07640d7",
   "metadata": {},
   "source": [
    "#### Customers"
   ]
  },
  {
   "cell_type": "code",
   "execution_count": 41,
   "id": "b20c5d70-809b-4907-b099-81bb8d2f10bc",
   "metadata": {},
   "outputs": [
    {
     "data": {
      "text/plain": [
       "Yangon       340\n",
       "Mandalay     332\n",
       "Naypyitaw    328\n",
       "Name: city, dtype: int64"
      ]
     },
     "execution_count": 41,
     "metadata": {},
     "output_type": "execute_result"
    }
   ],
   "source": [
    "#based on purchases most customers are from\n",
    "df.city.value_counts()"
   ]
  },
  {
   "cell_type": "code",
   "execution_count": 42,
   "id": "40424ed2-4fce-4263-b429-f16181789e49",
   "metadata": {},
   "outputs": [
    {
     "data": {
      "text/plain": [
       "Member    501\n",
       "Normal    499\n",
       "Name: customer_type, dtype: int64"
      ]
     },
     "execution_count": 42,
     "metadata": {},
     "output_type": "execute_result"
    }
   ],
   "source": [
    "#transactions based on customer type\n",
    "df.customer_type.value_counts()"
   ]
  },
  {
   "cell_type": "code",
   "execution_count": 43,
   "id": "43b6808c-3306-4d79-9d44-a26e03197b2d",
   "metadata": {},
   "outputs": [
    {
     "data": {
      "text/html": [
       "<div>\n",
       "<style scoped>\n",
       "    .dataframe tbody tr th:only-of-type {\n",
       "        vertical-align: middle;\n",
       "    }\n",
       "\n",
       "    .dataframe tbody tr th {\n",
       "        vertical-align: top;\n",
       "    }\n",
       "\n",
       "    .dataframe thead th {\n",
       "        text-align: right;\n",
       "    }\n",
       "</style>\n",
       "<table border=\"1\" class=\"dataframe\">\n",
       "  <thead>\n",
       "    <tr style=\"text-align: right;\">\n",
       "      <th></th>\n",
       "      <th>customer_type</th>\n",
       "      <th>total</th>\n",
       "    </tr>\n",
       "  </thead>\n",
       "  <tbody>\n",
       "    <tr>\n",
       "      <th>0</th>\n",
       "      <td>Member</td>\n",
       "      <td>164223.44</td>\n",
       "    </tr>\n",
       "    <tr>\n",
       "      <th>1</th>\n",
       "      <td>Normal</td>\n",
       "      <td>158743.30</td>\n",
       "    </tr>\n",
       "  </tbody>\n",
       "</table>\n",
       "</div>"
      ],
      "text/plain": [
       "  customer_type     total\n",
       "0        Member 164223.44\n",
       "1        Normal 158743.30"
      ]
     },
     "execution_count": 43,
     "metadata": {},
     "output_type": "execute_result"
    }
   ],
   "source": [
    "#total revenue by customer type\n",
    "(df\n",
    " .groupby('customer_type')['total'].sum()\n",
    " .reset_index()\n",
    ")"
   ]
  },
  {
   "cell_type": "code",
   "execution_count": 44,
   "id": "5cff68e2-4681-41a5-87ef-3826c5c657b4",
   "metadata": {},
   "outputs": [
    {
     "data": {
      "text/plain": [
       "Female    501\n",
       "Male      499\n",
       "Name: gender, dtype: int64"
      ]
     },
     "execution_count": 44,
     "metadata": {},
     "output_type": "execute_result"
    }
   ],
   "source": [
    "#transactions based on customer gender\n",
    "df.gender.value_counts()"
   ]
  },
  {
   "cell_type": "code",
   "execution_count": 45,
   "id": "62f57bc5-3a4f-424b-b537-60c55da00a99",
   "metadata": {},
   "outputs": [
    {
     "data": {
      "text/html": [
       "<div>\n",
       "<style scoped>\n",
       "    .dataframe tbody tr th:only-of-type {\n",
       "        vertical-align: middle;\n",
       "    }\n",
       "\n",
       "    .dataframe tbody tr th {\n",
       "        vertical-align: top;\n",
       "    }\n",
       "\n",
       "    .dataframe thead th {\n",
       "        text-align: right;\n",
       "    }\n",
       "</style>\n",
       "<table border=\"1\" class=\"dataframe\">\n",
       "  <thead>\n",
       "    <tr style=\"text-align: right;\">\n",
       "      <th></th>\n",
       "      <th>gender</th>\n",
       "      <th>total</th>\n",
       "    </tr>\n",
       "  </thead>\n",
       "  <tbody>\n",
       "    <tr>\n",
       "      <th>0</th>\n",
       "      <td>Female</td>\n",
       "      <td>167882.92</td>\n",
       "    </tr>\n",
       "    <tr>\n",
       "      <th>1</th>\n",
       "      <td>Male</td>\n",
       "      <td>155083.82</td>\n",
       "    </tr>\n",
       "  </tbody>\n",
       "</table>\n",
       "</div>"
      ],
      "text/plain": [
       "   gender     total\n",
       "0  Female 167882.92\n",
       "1    Male 155083.82"
      ]
     },
     "execution_count": 45,
     "metadata": {},
     "output_type": "execute_result"
    }
   ],
   "source": [
    "#total revenue by customer type\n",
    "(df\n",
    " .groupby('gender')['total'].sum()\n",
    " .reset_index()\n",
    ")"
   ]
  },
  {
   "cell_type": "code",
   "execution_count": 46,
   "id": "048b06ed-957a-4035-9f9c-dab8a0ea1d48",
   "metadata": {},
   "outputs": [],
   "source": [
    "filter_fem = 'Female'\n",
    "filter_male = 'Male'"
   ]
  },
  {
   "cell_type": "code",
   "execution_count": 47,
   "id": "d234cecf-6bb7-4d2c-b2cb-9dd5c1bfae51",
   "metadata": {},
   "outputs": [
    {
     "data": {
      "text/plain": [
       "Fashion accessories       96\n",
       "Food and beverages        90\n",
       "Sports and travel         88\n",
       "Electronic accessories    84\n",
       "Home and lifestyle        79\n",
       "Health and beauty         64\n",
       "Name: product_line, dtype: int64"
      ]
     },
     "execution_count": 47,
     "metadata": {},
     "output_type": "execute_result"
    }
   ],
   "source": [
    "#total purchases of product types bought by female customers \n",
    "(df\n",
    " .query('gender == @filter_fem')\n",
    " .product_line.value_counts()\n",
    ")"
   ]
  },
  {
   "cell_type": "markdown",
   "id": "352971c9-483d-4839-a66d-ee5e75903c32",
   "metadata": {},
   "source": [
    "_96 purchases made by female customers were fashion accessories_"
   ]
  },
  {
   "cell_type": "code",
   "execution_count": 48,
   "id": "1095f60f-651b-4a76-a4d4-ee31a71f41e7",
   "metadata": {},
   "outputs": [
    {
     "data": {
      "text/plain": [
       "product_line\n",
       "Fashion accessories       530\n",
       "Food and beverages        514\n",
       "Home and lifestyle        498\n",
       "Sports and travel         496\n",
       "Electronic accessories    488\n",
       "Health and beauty         343\n",
       "Name: quantity, dtype: int64"
      ]
     },
     "execution_count": 48,
     "metadata": {},
     "output_type": "execute_result"
    }
   ],
   "source": [
    "#The units they purchased for those products\n",
    "(df\n",
    " .query('gender == @filter_fem')\n",
    " .groupby('product_line')['quantity'].sum().sort_values(ascending=False)\n",
    ")"
   ]
  },
  {
   "cell_type": "markdown",
   "id": "39258455-4a17-47c5-84c9-46df6b845276",
   "metadata": {},
   "source": [
    "_530 units of fashion accessories were sold to female customers_"
   ]
  },
  {
   "cell_type": "code",
   "execution_count": 49,
   "id": "7740a38f-cd71-4ccf-ae32-d7443333c316",
   "metadata": {},
   "outputs": [
    {
     "data": {
      "text/plain": [
       "Health and beauty         88\n",
       "Electronic accessories    86\n",
       "Food and beverages        84\n",
       "Fashion accessories       82\n",
       "Home and lifestyle        81\n",
       "Sports and travel         78\n",
       "Name: product_line, dtype: int64"
      ]
     },
     "execution_count": 49,
     "metadata": {},
     "output_type": "execute_result"
    }
   ],
   "source": [
    "#unique purchases by male customers\n",
    "(df\n",
    " .query('gender == @filter_male')\n",
    " .product_line.value_counts().sort_values(ascending=False)\n",
    ")"
   ]
  },
  {
   "cell_type": "code",
   "execution_count": 50,
   "id": "f6d20f23-b915-45eb-b072-0a1f30e888cb",
   "metadata": {},
   "outputs": [
    {
     "data": {
      "text/plain": [
       "product_line\n",
       "Health and beauty         511\n",
       "Electronic accessories    483\n",
       "Food and beverages        438\n",
       "Sports and travel         424\n",
       "Home and lifestyle        413\n",
       "Fashion accessories       372\n",
       "Name: quantity, dtype: int64"
      ]
     },
     "execution_count": 50,
     "metadata": {},
     "output_type": "execute_result"
    }
   ],
   "source": [
    "#The units they purchased for those products\n",
    "(df\n",
    " .query('gender == @filter_male')\n",
    " .groupby('product_line')['quantity'].sum().sort_values(ascending=False)\n",
    ")"
   ]
  },
  {
   "cell_type": "code",
   "execution_count": 51,
   "id": "90f3fd8c-bcb0-4765-8864-9f62120eadfa",
   "metadata": {},
   "outputs": [
    {
     "data": {
      "text/html": [
       "<div>\n",
       "<style scoped>\n",
       "    .dataframe tbody tr th:only-of-type {\n",
       "        vertical-align: middle;\n",
       "    }\n",
       "\n",
       "    .dataframe tbody tr th {\n",
       "        vertical-align: top;\n",
       "    }\n",
       "\n",
       "    .dataframe thead th {\n",
       "        text-align: right;\n",
       "    }\n",
       "</style>\n",
       "<table border=\"1\" class=\"dataframe\">\n",
       "  <thead>\n",
       "    <tr style=\"text-align: right;\">\n",
       "      <th></th>\n",
       "      <th>city</th>\n",
       "      <th>gender</th>\n",
       "      <th>product_line</th>\n",
       "      <th>0</th>\n",
       "    </tr>\n",
       "  </thead>\n",
       "  <tbody>\n",
       "    <tr>\n",
       "      <th>0</th>\n",
       "      <td>Mandalay</td>\n",
       "      <td>Male</td>\n",
       "      <td>Health and beauty</td>\n",
       "      <td>33</td>\n",
       "    </tr>\n",
       "    <tr>\n",
       "      <th>1</th>\n",
       "      <td>Mandalay</td>\n",
       "      <td>Female</td>\n",
       "      <td>Fashion accessories</td>\n",
       "      <td>33</td>\n",
       "    </tr>\n",
       "    <tr>\n",
       "      <th>2</th>\n",
       "      <td>Mandalay</td>\n",
       "      <td>Male</td>\n",
       "      <td>Sports and travel</td>\n",
       "      <td>32</td>\n",
       "    </tr>\n",
       "    <tr>\n",
       "      <th>3</th>\n",
       "      <td>Mandalay</td>\n",
       "      <td>Female</td>\n",
       "      <td>Sports and travel</td>\n",
       "      <td>30</td>\n",
       "    </tr>\n",
       "    <tr>\n",
       "      <th>4</th>\n",
       "      <td>Mandalay</td>\n",
       "      <td>Male</td>\n",
       "      <td>Fashion accessories</td>\n",
       "      <td>29</td>\n",
       "    </tr>\n",
       "    <tr>\n",
       "      <th>5</th>\n",
       "      <td>Mandalay</td>\n",
       "      <td>Female</td>\n",
       "      <td>Food and beverages</td>\n",
       "      <td>29</td>\n",
       "    </tr>\n",
       "    <tr>\n",
       "      <th>6</th>\n",
       "      <td>Mandalay</td>\n",
       "      <td>Female</td>\n",
       "      <td>Electronic accessories</td>\n",
       "      <td>28</td>\n",
       "    </tr>\n",
       "    <tr>\n",
       "      <th>7</th>\n",
       "      <td>Mandalay</td>\n",
       "      <td>Male</td>\n",
       "      <td>Home and lifestyle</td>\n",
       "      <td>28</td>\n",
       "    </tr>\n",
       "    <tr>\n",
       "      <th>8</th>\n",
       "      <td>Mandalay</td>\n",
       "      <td>Male</td>\n",
       "      <td>Electronic accessories</td>\n",
       "      <td>27</td>\n",
       "    </tr>\n",
       "    <tr>\n",
       "      <th>9</th>\n",
       "      <td>Mandalay</td>\n",
       "      <td>Female</td>\n",
       "      <td>Home and lifestyle</td>\n",
       "      <td>22</td>\n",
       "    </tr>\n",
       "    <tr>\n",
       "      <th>10</th>\n",
       "      <td>Mandalay</td>\n",
       "      <td>Male</td>\n",
       "      <td>Food and beverages</td>\n",
       "      <td>21</td>\n",
       "    </tr>\n",
       "    <tr>\n",
       "      <th>11</th>\n",
       "      <td>Mandalay</td>\n",
       "      <td>Female</td>\n",
       "      <td>Health and beauty</td>\n",
       "      <td>20</td>\n",
       "    </tr>\n",
       "    <tr>\n",
       "      <th>12</th>\n",
       "      <td>Naypyitaw</td>\n",
       "      <td>Female</td>\n",
       "      <td>Food and beverages</td>\n",
       "      <td>38</td>\n",
       "    </tr>\n",
       "    <tr>\n",
       "      <th>13</th>\n",
       "      <td>Naypyitaw</td>\n",
       "      <td>Female</td>\n",
       "      <td>Fashion accessories</td>\n",
       "      <td>35</td>\n",
       "    </tr>\n",
       "    <tr>\n",
       "      <th>14</th>\n",
       "      <td>Naypyitaw</td>\n",
       "      <td>Male</td>\n",
       "      <td>Fashion accessories</td>\n",
       "      <td>30</td>\n",
       "    </tr>\n",
       "    <tr>\n",
       "      <th>15</th>\n",
       "      <td>Naypyitaw</td>\n",
       "      <td>Male</td>\n",
       "      <td>Health and beauty</td>\n",
       "      <td>29</td>\n",
       "    </tr>\n",
       "    <tr>\n",
       "      <th>16</th>\n",
       "      <td>Naypyitaw</td>\n",
       "      <td>Female</td>\n",
       "      <td>Sports and travel</td>\n",
       "      <td>29</td>\n",
       "    </tr>\n",
       "    <tr>\n",
       "      <th>17</th>\n",
       "      <td>Naypyitaw</td>\n",
       "      <td>Male</td>\n",
       "      <td>Food and beverages</td>\n",
       "      <td>28</td>\n",
       "    </tr>\n",
       "    <tr>\n",
       "      <th>18</th>\n",
       "      <td>Naypyitaw</td>\n",
       "      <td>Female</td>\n",
       "      <td>Electronic accessories</td>\n",
       "      <td>28</td>\n",
       "    </tr>\n",
       "    <tr>\n",
       "      <th>19</th>\n",
       "      <td>Naypyitaw</td>\n",
       "      <td>Male</td>\n",
       "      <td>Electronic accessories</td>\n",
       "      <td>27</td>\n",
       "    </tr>\n",
       "    <tr>\n",
       "      <th>20</th>\n",
       "      <td>Naypyitaw</td>\n",
       "      <td>Female</td>\n",
       "      <td>Home and lifestyle</td>\n",
       "      <td>25</td>\n",
       "    </tr>\n",
       "    <tr>\n",
       "      <th>21</th>\n",
       "      <td>Naypyitaw</td>\n",
       "      <td>Female</td>\n",
       "      <td>Health and beauty</td>\n",
       "      <td>23</td>\n",
       "    </tr>\n",
       "    <tr>\n",
       "      <th>22</th>\n",
       "      <td>Naypyitaw</td>\n",
       "      <td>Male</td>\n",
       "      <td>Home and lifestyle</td>\n",
       "      <td>20</td>\n",
       "    </tr>\n",
       "    <tr>\n",
       "      <th>23</th>\n",
       "      <td>Naypyitaw</td>\n",
       "      <td>Male</td>\n",
       "      <td>Sports and travel</td>\n",
       "      <td>16</td>\n",
       "    </tr>\n",
       "    <tr>\n",
       "      <th>24</th>\n",
       "      <td>Yangon</td>\n",
       "      <td>Male</td>\n",
       "      <td>Food and beverages</td>\n",
       "      <td>35</td>\n",
       "    </tr>\n",
       "    <tr>\n",
       "      <th>25</th>\n",
       "      <td>Yangon</td>\n",
       "      <td>Male</td>\n",
       "      <td>Home and lifestyle</td>\n",
       "      <td>33</td>\n",
       "    </tr>\n",
       "    <tr>\n",
       "      <th>26</th>\n",
       "      <td>Yangon</td>\n",
       "      <td>Female</td>\n",
       "      <td>Home and lifestyle</td>\n",
       "      <td>32</td>\n",
       "    </tr>\n",
       "    <tr>\n",
       "      <th>27</th>\n",
       "      <td>Yangon</td>\n",
       "      <td>Male</td>\n",
       "      <td>Electronic accessories</td>\n",
       "      <td>32</td>\n",
       "    </tr>\n",
       "    <tr>\n",
       "      <th>28</th>\n",
       "      <td>Yangon</td>\n",
       "      <td>Male</td>\n",
       "      <td>Sports and travel</td>\n",
       "      <td>30</td>\n",
       "    </tr>\n",
       "    <tr>\n",
       "      <th>29</th>\n",
       "      <td>Yangon</td>\n",
       "      <td>Female</td>\n",
       "      <td>Sports and travel</td>\n",
       "      <td>29</td>\n",
       "    </tr>\n",
       "    <tr>\n",
       "      <th>30</th>\n",
       "      <td>Yangon</td>\n",
       "      <td>Female</td>\n",
       "      <td>Fashion accessories</td>\n",
       "      <td>28</td>\n",
       "    </tr>\n",
       "    <tr>\n",
       "      <th>31</th>\n",
       "      <td>Yangon</td>\n",
       "      <td>Female</td>\n",
       "      <td>Electronic accessories</td>\n",
       "      <td>28</td>\n",
       "    </tr>\n",
       "    <tr>\n",
       "      <th>32</th>\n",
       "      <td>Yangon</td>\n",
       "      <td>Male</td>\n",
       "      <td>Health and beauty</td>\n",
       "      <td>26</td>\n",
       "    </tr>\n",
       "    <tr>\n",
       "      <th>33</th>\n",
       "      <td>Yangon</td>\n",
       "      <td>Female</td>\n",
       "      <td>Food and beverages</td>\n",
       "      <td>23</td>\n",
       "    </tr>\n",
       "    <tr>\n",
       "      <th>34</th>\n",
       "      <td>Yangon</td>\n",
       "      <td>Male</td>\n",
       "      <td>Fashion accessories</td>\n",
       "      <td>23</td>\n",
       "    </tr>\n",
       "    <tr>\n",
       "      <th>35</th>\n",
       "      <td>Yangon</td>\n",
       "      <td>Female</td>\n",
       "      <td>Health and beauty</td>\n",
       "      <td>21</td>\n",
       "    </tr>\n",
       "  </tbody>\n",
       "</table>\n",
       "</div>"
      ],
      "text/plain": [
       "         city  gender            product_line   0\n",
       "0    Mandalay    Male       Health and beauty  33\n",
       "1    Mandalay  Female     Fashion accessories  33\n",
       "2    Mandalay    Male       Sports and travel  32\n",
       "3    Mandalay  Female       Sports and travel  30\n",
       "4    Mandalay    Male     Fashion accessories  29\n",
       "5    Mandalay  Female      Food and beverages  29\n",
       "6    Mandalay  Female  Electronic accessories  28\n",
       "7    Mandalay    Male      Home and lifestyle  28\n",
       "8    Mandalay    Male  Electronic accessories  27\n",
       "9    Mandalay  Female      Home and lifestyle  22\n",
       "10   Mandalay    Male      Food and beverages  21\n",
       "11   Mandalay  Female       Health and beauty  20\n",
       "12  Naypyitaw  Female      Food and beverages  38\n",
       "13  Naypyitaw  Female     Fashion accessories  35\n",
       "14  Naypyitaw    Male     Fashion accessories  30\n",
       "15  Naypyitaw    Male       Health and beauty  29\n",
       "16  Naypyitaw  Female       Sports and travel  29\n",
       "17  Naypyitaw    Male      Food and beverages  28\n",
       "18  Naypyitaw  Female  Electronic accessories  28\n",
       "19  Naypyitaw    Male  Electronic accessories  27\n",
       "20  Naypyitaw  Female      Home and lifestyle  25\n",
       "21  Naypyitaw  Female       Health and beauty  23\n",
       "22  Naypyitaw    Male      Home and lifestyle  20\n",
       "23  Naypyitaw    Male       Sports and travel  16\n",
       "24     Yangon    Male      Food and beverages  35\n",
       "25     Yangon    Male      Home and lifestyle  33\n",
       "26     Yangon  Female      Home and lifestyle  32\n",
       "27     Yangon    Male  Electronic accessories  32\n",
       "28     Yangon    Male       Sports and travel  30\n",
       "29     Yangon  Female       Sports and travel  29\n",
       "30     Yangon  Female     Fashion accessories  28\n",
       "31     Yangon  Female  Electronic accessories  28\n",
       "32     Yangon    Male       Health and beauty  26\n",
       "33     Yangon  Female      Food and beverages  23\n",
       "34     Yangon    Male     Fashion accessories  23\n",
       "35     Yangon  Female       Health and beauty  21"
      ]
     },
     "execution_count": 51,
     "metadata": {},
     "output_type": "execute_result"
    }
   ],
   "source": [
    "(df\n",
    " .groupby('city')[['gender','product_line']].value_counts().reset_index()\n",
    ")"
   ]
  },
  {
   "cell_type": "markdown",
   "id": "4e0bde99-ffd6-4d77-a796-ccc7fcbb206b",
   "metadata": {},
   "source": [
    "#### Means of Payment"
   ]
  },
  {
   "cell_type": "code",
   "execution_count": 52,
   "id": "41ea7783-b12b-43df-8ac3-edc45b409493",
   "metadata": {},
   "outputs": [
    {
     "data": {
      "text/plain": [
       "Ewallet        345\n",
       "Cash           344\n",
       "Credit card    311\n",
       "Name: payment, dtype: int64"
      ]
     },
     "execution_count": 52,
     "metadata": {},
     "output_type": "execute_result"
    }
   ],
   "source": [
    "df.payment.value_counts()"
   ]
  },
  {
   "cell_type": "code",
   "execution_count": 53,
   "id": "02779a68-887d-4538-bf30-8ce27fff9aea",
   "metadata": {},
   "outputs": [
    {
     "data": {
      "text/plain": [
       "payment\n",
       "Cash          112206.57\n",
       "Credit card   100767.07\n",
       "Ewallet       109993.11\n",
       "Name: total, dtype: float64"
      ]
     },
     "execution_count": 53,
     "metadata": {},
     "output_type": "execute_result"
    }
   ],
   "source": [
    "df.groupby('payment')['total'].sum()"
   ]
  },
  {
   "cell_type": "markdown",
   "id": "10c55c23-8ba8-4d57-970d-2560688061f6",
   "metadata": {},
   "source": [
    "#### Visualizations"
   ]
  },
  {
   "cell_type": "code",
   "execution_count": 54,
   "id": "1dc0883c-8c9f-4beb-8050-741036f0b106",
   "metadata": {},
   "outputs": [],
   "source": [
    "import matplotlib.pyplot as plt\n",
    "import seaborn as sns"
   ]
  },
  {
   "cell_type": "code",
   "execution_count": 55,
   "id": "7044c0ea-5816-4dc0-b614-f692440ba758",
   "metadata": {},
   "outputs": [
    {
     "data": {
      "image/png": "[encoded data removed]",
      "text/plain": [
       "<Figure size 720x360 with 1 Axes>"
      ]
     },
     "metadata": {
      "needs_background": "light"
     },
     "output_type": "display_data"
    }
   ],
   "source": [
    "df.groupby(pd.Grouper(key='date', freq='1W'))['total'].sum().plot.area(\n",
    "     plt.style.use('seaborn'),\n",
    "     plt.figure(figsize=(10,5)),\n",
    "     title='Weekly Totals',\n",
    "     ylabel='Revenue',\n",
    "     xlabel='Duration in weeks'\n",
    ")\n",
    "plt.show()"
   ]
  },
  {
   "cell_type": "code",
   "execution_count": 56,
   "id": "f61e4d97-1b29-4843-b26c-e9ee50f09224",
   "metadata": {},
   "outputs": [
    {
     "data": {
      "image/png": "[encoded data removed]",
      "text/plain": [
       "<Figure size 720x432 with 1 Axes>"
      ]
     },
     "metadata": {
      "needs_background": "light"
     },
     "output_type": "display_data"
    }
   ],
   "source": [
    "monthsales = df.groupby(df['date'].dt.month_name())['total'].sum().reset_index()\n",
    "\n",
    "plt.figure(figsize=(10,6))\n",
    "plt.bar(monthsales['date'], monthsales['total'].sort_values())\n",
    "plt.title('Monthly Revenues in 2019', fontweight='bold')\n",
    "plt.xlabel('Month')\n",
    "plt.ylabel('Totals')\n",
    "\n",
    "for i, v in monthsales['total'].items():\n",
    "    plt.text(i, v-80000,'$'+str(v), \n",
    "             rotation='vertical', ha='center', fontsize=14\n",
    "            )\n",
    "plt.show()"
   ]
  },
  {
   "cell_type": "code",
   "execution_count": 57,
   "id": "79a29a20-bc29-406d-ad73-4c1e30e51dc0",
   "metadata": {},
   "outputs": [
    {
     "data": {
      "image/png": "[encoded data removed]",
      "text/plain": [
       "<Figure size 432x288 with 1 Axes>"
      ]
     },
     "metadata": {
      "needs_background": "light"
     },
     "output_type": "display_data"
    }
   ],
   "source": [
    "sns.countplot(x=df['city']) \n",
    "plt.title('Purchases by City', fontweight='bold')\n",
    "plt.ylabel('Purchases')\n",
    "plt.show()"
   ]
  },
  {
   "cell_type": "code",
   "execution_count": 58,
   "id": "71136b69-c4af-4cb9-a2ed-c14f0f46dbf4",
   "metadata": {
    "tags": []
   },
   "outputs": [
    {
     "data": {
      "image/png": "[encoded data removed]",
      "text/plain": [
       "<Figure size 1440x288 with 1 Axes>"
      ]
     },
     "metadata": {
      "needs_background": "light"
     },
     "output_type": "display_data"
    },
    {
     "data": {
      "image/png": "[encoded data removed]",
      "text/plain": [
       "<Figure size 1440x288 with 1 Axes>"
      ]
     },
     "metadata": {
      "needs_background": "light"
     },
     "output_type": "display_data"
    },
    {
     "data": {
      "image/png": "[encoded data removed]",
      "text/plain": [
       "<Figure size 1440x288 with 1 Axes>"
      ]
     },
     "metadata": {
      "needs_background": "light"
     },
     "output_type": "display_data"
    }
   ],
   "source": [
    "#jan product sales\n",
    "products = df.query('date.dt.month_name() == \"January\"').groupby('product_line')[['quantity','total']].sum().sort_values(by='total').reset_index()\n",
    "\n",
    "plt.figure(figsize=(20,4))\n",
    "plt.title('Product Line Sales Totals in January', fontweight='bold', fontsize=14)\n",
    "plt.bar(products['product_line'], products['total'])\n",
    "plt.xlabel('Product Line')\n",
    "plt.ylabel('Totals')\n",
    "\n",
    "for i, v in products['total'].items():\n",
    "    plt.text(i, v-9000, '$'+str(v), \n",
    "             rotation='vertical', ha='center', fontsize=14)\n",
    "plt.show()\n",
    "\n",
    "#feb product sales\n",
    "products = df.query('date.dt.month_name() == \"February\"').groupby('product_line')[['quantity','total']].sum().sort_values(by='total').reset_index()\n",
    "\n",
    "plt.figure(figsize=(20,4))\n",
    "plt.title('Product Line Sales Totals in February', fontweight='bold', fontsize=14)\n",
    "plt.bar(products['product_line'], products['total'])\n",
    "plt.xlabel('Product Line')\n",
    "plt.ylabel('Totals')\n",
    "\n",
    "for i, v in products['total'].items():\n",
    "    plt.text(i, v-9000, '$'+str(v), \n",
    "             rotation='vertical', ha='center', fontsize=14)\n",
    "plt.show()\n",
    "\n",
    "#march product sales\n",
    "products = df.query('date.dt.month_name() == \"March\"').groupby('product_line')[['quantity','total']].sum().sort_values(by='total').reset_index()\n",
    "\n",
    "plt.figure(figsize=(20,4))\n",
    "plt.title('Product Line Sales Totals in March', fontweight='bold', fontsize=14)\n",
    "plt.bar(products['product_line'], products['total'])\n",
    "plt.xlabel('Product Line')\n",
    "plt.ylabel('Totals')\n",
    "\n",
    "for i, v in products['total'].items():\n",
    "    plt.text(i, v-9000, '$'+str(v), \n",
    "             rotation='vertical', ha='center', fontsize=14)\n",
    "plt.show()"
   ]
  },
  {
   "cell_type": "markdown",
   "id": "5eb94dc3-c401-4f0d-8632-a1069f496508",
   "metadata": {},
   "source": [
    "###### _note: consider use of a function|loop to create subplots for each month_"
   ]
  },
  {
   "cell_type": "code",
   "execution_count": null,
   "id": "094e171f",
   "metadata": {},
   "outputs": [],
   "source": []
  }
 ],
 "metadata": {
  "kernelspec": {
   "display_name": "Python 3.10.4 ('.venvdataanalyis')",
   "language": "python",
   "name": "python3"
  },
  "language_info": {
   "codemirror_mode": {
    "name": "ipython",
    "version": 3
   },
   "file_extension": ".py",
   "mimetype": "text/x-python",
   "name": "python",
   "nbconvert_exporter": "python",
   "pygments_lexer": "ipython3",
   "version": "3.10.4"
  },
  "vscode": {
   "interpreter": {
    "hash": "f3d5247997b242e2ee84c3d630eeeccac3e67b2682a45443aeb85a33b102e51d"
   }
  }
 },
 "nbformat": 4,
 "nbformat_minor": 5
}
