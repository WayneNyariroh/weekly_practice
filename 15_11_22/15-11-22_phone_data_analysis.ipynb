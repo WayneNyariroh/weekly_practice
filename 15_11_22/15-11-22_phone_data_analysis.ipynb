{
 "cells": [
  {
   "cell_type": "markdown",
   "id": "f7f413bd",
   "metadata": {},
   "source": [
    "_\"practice makes better\"_"
   ]
  },
  {
   "cell_type": "code",
   "execution_count": 1,
   "id": "40044e41",
   "metadata": {},
   "outputs": [],
   "source": [
    "import warnings\n",
    "warnings.filterwarnings(\"ignore\")\n",
    "\n",
    "import pandas as pd\n",
    "import numpy as np\n",
    "import matplotlib.pyplot as plt\n",
    "import seaborn as sns\n",
    "import datetime as dt"
   ]
  },
  {
   "cell_type": "code",
   "execution_count": 2,
   "id": "1f6f0c6a-9363-474c-9838-5d55219ae926",
   "metadata": {},
   "outputs": [
    {
     "data": {
      "text/html": [
       "<div>\n",
       "<style scoped>\n",
       "    .dataframe tbody tr th:only-of-type {\n",
       "        vertical-align: middle;\n",
       "    }\n",
       "\n",
       "    .dataframe tbody tr th {\n",
       "        vertical-align: top;\n",
       "    }\n",
       "\n",
       "    .dataframe thead th {\n",
       "        text-align: right;\n",
       "    }\n",
       "</style>\n",
       "<table border=\"1\" class=\"dataframe\">\n",
       "  <thead>\n",
       "    <tr style=\"text-align: right;\">\n",
       "      <th></th>\n",
       "      <th>index</th>\n",
       "      <th>date</th>\n",
       "      <th>duration</th>\n",
       "      <th>item</th>\n",
       "      <th>network</th>\n",
       "      <th>network_type</th>\n",
       "    </tr>\n",
       "  </thead>\n",
       "  <tbody>\n",
       "    <tr>\n",
       "      <th>0</th>\n",
       "      <td>0</td>\n",
       "      <td>15/10/14 06:58</td>\n",
       "      <td>34.429</td>\n",
       "      <td>data</td>\n",
       "      <td>data</td>\n",
       "      <td>data</td>\n",
       "    </tr>\n",
       "    <tr>\n",
       "      <th>1</th>\n",
       "      <td>1</td>\n",
       "      <td>15/10/14 06:58</td>\n",
       "      <td>13.000</td>\n",
       "      <td>call</td>\n",
       "      <td>Vodafone</td>\n",
       "      <td>mobile</td>\n",
       "    </tr>\n",
       "    <tr>\n",
       "      <th>2</th>\n",
       "      <td>2</td>\n",
       "      <td>15/10/14 14:46</td>\n",
       "      <td>23.000</td>\n",
       "      <td>call</td>\n",
       "      <td>Meteor</td>\n",
       "      <td>mobile</td>\n",
       "    </tr>\n",
       "  </tbody>\n",
       "</table>\n",
       "</div>"
      ],
      "text/plain": [
       "   index            date  duration  item   network network_type\n",
       "0      0  15/10/14 06:58    34.429  data      data         data\n",
       "1      1  15/10/14 06:58    13.000  call  Vodafone       mobile\n",
       "2      2  15/10/14 14:46    23.000  call    Meteor       mobile"
      ]
     },
     "execution_count": 2,
     "metadata": {},
     "output_type": "execute_result"
    }
   ],
   "source": [
    "df = (pd.read_csv('phone_data.csv'))\n",
    "df.head(3)"
   ]
  },
  {
   "cell_type": "code",
   "execution_count": 3,
   "id": "068fd1a3",
   "metadata": {},
   "outputs": [
    {
     "name": "stdout",
     "output_type": "stream",
     "text": [
      "<class 'pandas.core.frame.DataFrame'>\n",
      "RangeIndex: 830 entries, 0 to 829\n",
      "Data columns (total 6 columns):\n",
      " #   Column        Non-Null Count  Dtype  \n",
      "---  ------        --------------  -----  \n",
      " 0   index         830 non-null    int64  \n",
      " 1   date          830 non-null    object \n",
      " 2   duration      830 non-null    float64\n",
      " 3   item          830 non-null    object \n",
      " 4   network       830 non-null    object \n",
      " 5   network_type  830 non-null    object \n",
      "dtypes: float64(1), int64(1), object(4)\n",
      "memory usage: 39.0+ KB\n"
     ]
    }
   ],
   "source": [
    "df.info()"
   ]
  },
  {
   "cell_type": "code",
   "execution_count": 4,
   "id": "6d84bbf3",
   "metadata": {},
   "outputs": [],
   "source": [
    "#a function to 'tidy' our data\n",
    "#split the column date into two new columns 'call_date' and 'call_time'\n",
    "#rename columns 'index' and 'item' to easy to interprete titles\n",
    "#change column 'network' to lower case\n",
    "#remove 'date' once done\n",
    "def prep_df(df):\n",
    "    return (df\n",
    "            .assign(call_date = pd.to_datetime(df['date'].str.split(\" \",expand=True)[0]),\n",
    "                    call_time = df['date'].str.split(\" \",expand=True)[1])\n",
    "            .assign(network = df['network'].str.lower())\n",
    "            .rename(columns={'index':'entry_number','item':'use_type'})\n",
    "            .drop(columns='date'))"
   ]
  },
  {
   "cell_type": "code",
   "execution_count": 5,
   "id": "5247106f",
   "metadata": {},
   "outputs": [
    {
     "data": {
      "text/html": [
       "<div>\n",
       "<style scoped>\n",
       "    .dataframe tbody tr th:only-of-type {\n",
       "        vertical-align: middle;\n",
       "    }\n",
       "\n",
       "    .dataframe tbody tr th {\n",
       "        vertical-align: top;\n",
       "    }\n",
       "\n",
       "    .dataframe thead th {\n",
       "        text-align: right;\n",
       "    }\n",
       "</style>\n",
       "<table border=\"1\" class=\"dataframe\">\n",
       "  <thead>\n",
       "    <tr style=\"text-align: right;\">\n",
       "      <th></th>\n",
       "      <th>entry_number</th>\n",
       "      <th>duration</th>\n",
       "      <th>use_type</th>\n",
       "      <th>network</th>\n",
       "      <th>network_type</th>\n",
       "      <th>call_date</th>\n",
       "      <th>call_time</th>\n",
       "    </tr>\n",
       "  </thead>\n",
       "  <tbody>\n",
       "    <tr>\n",
       "      <th>0</th>\n",
       "      <td>0</td>\n",
       "      <td>34.429</td>\n",
       "      <td>data</td>\n",
       "      <td>data</td>\n",
       "      <td>data</td>\n",
       "      <td>2014-10-15</td>\n",
       "      <td>06:58</td>\n",
       "    </tr>\n",
       "    <tr>\n",
       "      <th>1</th>\n",
       "      <td>1</td>\n",
       "      <td>13.000</td>\n",
       "      <td>call</td>\n",
       "      <td>vodafone</td>\n",
       "      <td>mobile</td>\n",
       "      <td>2014-10-15</td>\n",
       "      <td>06:58</td>\n",
       "    </tr>\n",
       "    <tr>\n",
       "      <th>2</th>\n",
       "      <td>2</td>\n",
       "      <td>23.000</td>\n",
       "      <td>call</td>\n",
       "      <td>meteor</td>\n",
       "      <td>mobile</td>\n",
       "      <td>2014-10-15</td>\n",
       "      <td>14:46</td>\n",
       "    </tr>\n",
       "    <tr>\n",
       "      <th>3</th>\n",
       "      <td>3</td>\n",
       "      <td>4.000</td>\n",
       "      <td>call</td>\n",
       "      <td>tesco</td>\n",
       "      <td>mobile</td>\n",
       "      <td>2014-10-15</td>\n",
       "      <td>14:48</td>\n",
       "    </tr>\n",
       "    <tr>\n",
       "      <th>4</th>\n",
       "      <td>4</td>\n",
       "      <td>4.000</td>\n",
       "      <td>call</td>\n",
       "      <td>tesco</td>\n",
       "      <td>mobile</td>\n",
       "      <td>2014-10-15</td>\n",
       "      <td>17:27</td>\n",
       "    </tr>\n",
       "    <tr>\n",
       "      <th>...</th>\n",
       "      <td>...</td>\n",
       "      <td>...</td>\n",
       "      <td>...</td>\n",
       "      <td>...</td>\n",
       "      <td>...</td>\n",
       "      <td>...</td>\n",
       "      <td>...</td>\n",
       "    </tr>\n",
       "    <tr>\n",
       "      <th>825</th>\n",
       "      <td>825</td>\n",
       "      <td>1.000</td>\n",
       "      <td>sms</td>\n",
       "      <td>world</td>\n",
       "      <td>world</td>\n",
       "      <td>2015-03-13</td>\n",
       "      <td>00:38</td>\n",
       "    </tr>\n",
       "    <tr>\n",
       "      <th>826</th>\n",
       "      <td>826</td>\n",
       "      <td>1.000</td>\n",
       "      <td>sms</td>\n",
       "      <td>vodafone</td>\n",
       "      <td>mobile</td>\n",
       "      <td>2015-03-13</td>\n",
       "      <td>00:39</td>\n",
       "    </tr>\n",
       "    <tr>\n",
       "      <th>827</th>\n",
       "      <td>827</td>\n",
       "      <td>34.429</td>\n",
       "      <td>data</td>\n",
       "      <td>data</td>\n",
       "      <td>data</td>\n",
       "      <td>2015-03-13</td>\n",
       "      <td>06:58</td>\n",
       "    </tr>\n",
       "    <tr>\n",
       "      <th>828</th>\n",
       "      <td>828</td>\n",
       "      <td>1.000</td>\n",
       "      <td>sms</td>\n",
       "      <td>world</td>\n",
       "      <td>world</td>\n",
       "      <td>2015-03-14</td>\n",
       "      <td>00:13</td>\n",
       "    </tr>\n",
       "    <tr>\n",
       "      <th>829</th>\n",
       "      <td>829</td>\n",
       "      <td>1.000</td>\n",
       "      <td>sms</td>\n",
       "      <td>world</td>\n",
       "      <td>world</td>\n",
       "      <td>2015-03-14</td>\n",
       "      <td>00:16</td>\n",
       "    </tr>\n",
       "  </tbody>\n",
       "</table>\n",
       "<p>830 rows × 7 columns</p>\n",
       "</div>"
      ],
      "text/plain": [
       "     entry_number  duration use_type   network network_type  call_date  \\\n",
       "0               0    34.429     data      data         data 2014-10-15   \n",
       "1               1    13.000     call  vodafone       mobile 2014-10-15   \n",
       "2               2    23.000     call    meteor       mobile 2014-10-15   \n",
       "3               3     4.000     call     tesco       mobile 2014-10-15   \n",
       "4               4     4.000     call     tesco       mobile 2014-10-15   \n",
       "..            ...       ...      ...       ...          ...        ...   \n",
       "825           825     1.000      sms     world        world 2015-03-13   \n",
       "826           826     1.000      sms  vodafone       mobile 2015-03-13   \n",
       "827           827    34.429     data      data         data 2015-03-13   \n",
       "828           828     1.000      sms     world        world 2015-03-14   \n",
       "829           829     1.000      sms     world        world 2015-03-14   \n",
       "\n",
       "    call_time  \n",
       "0       06:58  \n",
       "1       06:58  \n",
       "2       14:46  \n",
       "3       14:48  \n",
       "4       17:27  \n",
       "..        ...  \n",
       "825     00:38  \n",
       "826     00:39  \n",
       "827     06:58  \n",
       "828     00:13  \n",
       "829     00:16  \n",
       "\n",
       "[830 rows x 7 columns]"
      ]
     },
     "execution_count": 5,
     "metadata": {},
     "output_type": "execute_result"
    }
   ],
   "source": [
    "df = prep_df(df)\n",
    "df"
   ]
  },
  {
   "cell_type": "code",
   "execution_count": 6,
   "id": "b4245dc2",
   "metadata": {},
   "outputs": [
    {
     "data": {
      "text/plain": [
       "entry_number             int64\n",
       "duration               float64\n",
       "use_type                object\n",
       "network                 object\n",
       "network_type            object\n",
       "call_date       datetime64[ns]\n",
       "call_time               object\n",
       "dtype: object"
      ]
     },
     "execution_count": 6,
     "metadata": {},
     "output_type": "execute_result"
    }
   ],
   "source": [
    "df.dtypes"
   ]
  },
  {
   "cell_type": "code",
   "execution_count": 7,
   "id": "d33041ce",
   "metadata": {},
   "outputs": [
    {
     "data": {
      "text/plain": [
       "Index             128\n",
       "entry_number     6640\n",
       "duration         6640\n",
       "use_type        50338\n",
       "network         52282\n",
       "network_type    52151\n",
       "call_date        6640\n",
       "call_time       51362\n",
       "dtype: int64"
      ]
     },
     "execution_count": 7,
     "metadata": {},
     "output_type": "execute_result"
    }
   ],
   "source": [
    "(df\n",
    " .memory_usage(deep=True)\n",
    " #.sum()\n",
    ")"
   ]
  },
  {
   "cell_type": "code",
   "execution_count": 8,
   "id": "5b751701",
   "metadata": {},
   "outputs": [
    {
     "data": {
      "text/plain": [
       "entry_number    0\n",
       "duration        0\n",
       "use_type        0\n",
       "network         0\n",
       "network_type    0\n",
       "call_date       0\n",
       "call_time       0\n",
       "dtype: int64"
      ]
     },
     "execution_count": 8,
     "metadata": {},
     "output_type": "execute_result"
    }
   ],
   "source": [
    "df.isna().sum()"
   ]
  },
  {
   "cell_type": "code",
   "execution_count": null,
   "id": "943b023b",
   "metadata": {},
   "outputs": [],
   "source": []
  }
 ],
 "metadata": {
  "kernelspec": {
   "display_name": "Python 3 (ipykernel)",
   "language": "python",
   "name": "python3"
  },
  "language_info": {
   "codemirror_mode": {
    "name": "ipython",
    "version": 3
   },
   "file_extension": ".py",
   "mimetype": "text/x-python",
   "name": "python",
   "nbconvert_exporter": "python",
   "pygments_lexer": "ipython3",
   "version": "3.10.4"
  },
  "vscode": {
   "interpreter": {
    "hash": "f3d5247997b242e2ee84c3d630eeeccac3e67b2682a45443aeb85a33b102e51d"
   }
  }
 },
 "nbformat": 4,
 "nbformat_minor": 5
}
