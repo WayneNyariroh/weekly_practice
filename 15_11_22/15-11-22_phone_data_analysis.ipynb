{
 "cells": [
  {
   "cell_type": "markdown",
   "id": "f7f413bd",
   "metadata": {},
   "source": [
    "_\"practice makes better\"_"
   ]
  },
  {
   "cell_type": "code",
   "execution_count": 1,
   "id": "40044e41",
   "metadata": {},
   "outputs": [],
   "source": [
    "import warnings\n",
    "warnings.filterwarnings(\"ignore\")\n",
    "\n",
    "import datetime as dt\n",
    "\n",
    "import matplotlib.pyplot as plt\n",
    "import seaborn as sns\n",
    "import numpy as np\n",
    "import pandas as pd"
   ]
  },
  {
   "cell_type": "code",
   "execution_count": 2,
   "id": "1f6f0c6a-9363-474c-9838-5d55219ae926",
   "metadata": {},
   "outputs": [
    {
     "data": {
      "text/html": [
       "<div>\n",
       "<style scoped>\n",
       "    .dataframe tbody tr th:only-of-type {\n",
       "        vertical-align: middle;\n",
       "    }\n",
       "\n",
       "    .dataframe tbody tr th {\n",
       "        vertical-align: top;\n",
       "    }\n",
       "\n",
       "    .dataframe thead th {\n",
       "        text-align: right;\n",
       "    }\n",
       "</style>\n",
       "<table border=\"1\" class=\"dataframe\">\n",
       "  <thead>\n",
       "    <tr style=\"text-align: right;\">\n",
       "      <th></th>\n",
       "      <th>index</th>\n",
       "      <th>date</th>\n",
       "      <th>duration</th>\n",
       "      <th>item</th>\n",
       "      <th>network</th>\n",
       "      <th>network_type</th>\n",
       "    </tr>\n",
       "  </thead>\n",
       "  <tbody>\n",
       "    <tr>\n",
       "      <th>0</th>\n",
       "      <td>0</td>\n",
       "      <td>15/10/14 06:58</td>\n",
       "      <td>34.429</td>\n",
       "      <td>data</td>\n",
       "      <td>data</td>\n",
       "      <td>data</td>\n",
       "    </tr>\n",
       "    <tr>\n",
       "      <th>1</th>\n",
       "      <td>1</td>\n",
       "      <td>15/10/14 06:58</td>\n",
       "      <td>13.000</td>\n",
       "      <td>call</td>\n",
       "      <td>Vodafone</td>\n",
       "      <td>mobile</td>\n",
       "    </tr>\n",
       "    <tr>\n",
       "      <th>2</th>\n",
       "      <td>2</td>\n",
       "      <td>15/10/14 14:46</td>\n",
       "      <td>23.000</td>\n",
       "      <td>call</td>\n",
       "      <td>Meteor</td>\n",
       "      <td>mobile</td>\n",
       "    </tr>\n",
       "  </tbody>\n",
       "</table>\n",
       "</div>"
      ],
      "text/plain": [
       "   index            date  duration  item   network network_type\n",
       "0      0  15/10/14 06:58    34.429  data      data         data\n",
       "1      1  15/10/14 06:58    13.000  call  Vodafone       mobile\n",
       "2      2  15/10/14 14:46    23.000  call    Meteor       mobile"
      ]
     },
     "execution_count": 2,
     "metadata": {},
     "output_type": "execute_result"
    }
   ],
   "source": [
    "df = (pd.read_csv('phone_data.csv'))\n",
    "df.head(3)"
   ]
  },
  {
   "cell_type": "code",
   "execution_count": 3,
   "id": "068fd1a3",
   "metadata": {},
   "outputs": [
    {
     "name": "stdout",
     "output_type": "stream",
     "text": [
      "<class 'pandas.core.frame.DataFrame'>\n",
      "RangeIndex: 830 entries, 0 to 829\n",
      "Data columns (total 6 columns):\n",
      " #   Column        Non-Null Count  Dtype  \n",
      "---  ------        --------------  -----  \n",
      " 0   index         830 non-null    int64  \n",
      " 1   date          830 non-null    object \n",
      " 2   duration      830 non-null    float64\n",
      " 3   item          830 non-null    object \n",
      " 4   network       830 non-null    object \n",
      " 5   network_type  830 non-null    object \n",
      "dtypes: float64(1), int64(1), object(4)\n",
      "memory usage: 39.0+ KB\n"
     ]
    }
   ],
   "source": [
    "df.info()"
   ]
  },
  {
   "cell_type": "code",
   "execution_count": 4,
   "id": "6d84bbf3",
   "metadata": {},
   "outputs": [],
   "source": [
    "#a function to 'tidy' our data\n",
    "def prep_df(df):\n",
    "    return (df\n",
    "            .assign(call_date = pd.to_datetime(df['date'].str.split(\" \",expand=True)[0]),\n",
    "                    call_time = df['date'].str.split(\" \",expand=True)[1],\n",
    "                    usage_minutes = df.duration / 60)\n",
    "            .assign(network = df['network'].str.lower())\n",
    "            .rename(columns={'index':'entry_number',\n",
    "                             'item':'use_type'})\n",
    "            .set_index('entry_number')\n",
    "            .drop(columns='date')\n",
    "        )"
   ]
  },
  {
   "cell_type": "code",
   "execution_count": 5,
   "id": "5247106f",
   "metadata": {},
   "outputs": [
    {
     "data": {
      "text/html": [
       "<div>\n",
       "<style scoped>\n",
       "    .dataframe tbody tr th:only-of-type {\n",
       "        vertical-align: middle;\n",
       "    }\n",
       "\n",
       "    .dataframe tbody tr th {\n",
       "        vertical-align: top;\n",
       "    }\n",
       "\n",
       "    .dataframe thead th {\n",
       "        text-align: right;\n",
       "    }\n",
       "</style>\n",
       "<table border=\"1\" class=\"dataframe\">\n",
       "  <thead>\n",
       "    <tr style=\"text-align: right;\">\n",
       "      <th></th>\n",
       "      <th>duration</th>\n",
       "      <th>use_type</th>\n",
       "      <th>network</th>\n",
       "      <th>network_type</th>\n",
       "      <th>call_date</th>\n",
       "      <th>call_time</th>\n",
       "      <th>usage_minutes</th>\n",
       "    </tr>\n",
       "    <tr>\n",
       "      <th>entry_number</th>\n",
       "      <th></th>\n",
       "      <th></th>\n",
       "      <th></th>\n",
       "      <th></th>\n",
       "      <th></th>\n",
       "      <th></th>\n",
       "      <th></th>\n",
       "    </tr>\n",
       "  </thead>\n",
       "  <tbody>\n",
       "    <tr>\n",
       "      <th>0</th>\n",
       "      <td>34.429</td>\n",
       "      <td>data</td>\n",
       "      <td>data</td>\n",
       "      <td>data</td>\n",
       "      <td>2014-10-15</td>\n",
       "      <td>06:58</td>\n",
       "      <td>0.573817</td>\n",
       "    </tr>\n",
       "    <tr>\n",
       "      <th>1</th>\n",
       "      <td>13.000</td>\n",
       "      <td>call</td>\n",
       "      <td>vodafone</td>\n",
       "      <td>mobile</td>\n",
       "      <td>2014-10-15</td>\n",
       "      <td>06:58</td>\n",
       "      <td>0.216667</td>\n",
       "    </tr>\n",
       "    <tr>\n",
       "      <th>2</th>\n",
       "      <td>23.000</td>\n",
       "      <td>call</td>\n",
       "      <td>meteor</td>\n",
       "      <td>mobile</td>\n",
       "      <td>2014-10-15</td>\n",
       "      <td>14:46</td>\n",
       "      <td>0.383333</td>\n",
       "    </tr>\n",
       "    <tr>\n",
       "      <th>3</th>\n",
       "      <td>4.000</td>\n",
       "      <td>call</td>\n",
       "      <td>tesco</td>\n",
       "      <td>mobile</td>\n",
       "      <td>2014-10-15</td>\n",
       "      <td>14:48</td>\n",
       "      <td>0.066667</td>\n",
       "    </tr>\n",
       "    <tr>\n",
       "      <th>4</th>\n",
       "      <td>4.000</td>\n",
       "      <td>call</td>\n",
       "      <td>tesco</td>\n",
       "      <td>mobile</td>\n",
       "      <td>2014-10-15</td>\n",
       "      <td>17:27</td>\n",
       "      <td>0.066667</td>\n",
       "    </tr>\n",
       "    <tr>\n",
       "      <th>...</th>\n",
       "      <td>...</td>\n",
       "      <td>...</td>\n",
       "      <td>...</td>\n",
       "      <td>...</td>\n",
       "      <td>...</td>\n",
       "      <td>...</td>\n",
       "      <td>...</td>\n",
       "    </tr>\n",
       "    <tr>\n",
       "      <th>825</th>\n",
       "      <td>1.000</td>\n",
       "      <td>sms</td>\n",
       "      <td>world</td>\n",
       "      <td>world</td>\n",
       "      <td>2015-03-13</td>\n",
       "      <td>00:38</td>\n",
       "      <td>0.016667</td>\n",
       "    </tr>\n",
       "    <tr>\n",
       "      <th>826</th>\n",
       "      <td>1.000</td>\n",
       "      <td>sms</td>\n",
       "      <td>vodafone</td>\n",
       "      <td>mobile</td>\n",
       "      <td>2015-03-13</td>\n",
       "      <td>00:39</td>\n",
       "      <td>0.016667</td>\n",
       "    </tr>\n",
       "    <tr>\n",
       "      <th>827</th>\n",
       "      <td>34.429</td>\n",
       "      <td>data</td>\n",
       "      <td>data</td>\n",
       "      <td>data</td>\n",
       "      <td>2015-03-13</td>\n",
       "      <td>06:58</td>\n",
       "      <td>0.573817</td>\n",
       "    </tr>\n",
       "    <tr>\n",
       "      <th>828</th>\n",
       "      <td>1.000</td>\n",
       "      <td>sms</td>\n",
       "      <td>world</td>\n",
       "      <td>world</td>\n",
       "      <td>2015-03-14</td>\n",
       "      <td>00:13</td>\n",
       "      <td>0.016667</td>\n",
       "    </tr>\n",
       "    <tr>\n",
       "      <th>829</th>\n",
       "      <td>1.000</td>\n",
       "      <td>sms</td>\n",
       "      <td>world</td>\n",
       "      <td>world</td>\n",
       "      <td>2015-03-14</td>\n",
       "      <td>00:16</td>\n",
       "      <td>0.016667</td>\n",
       "    </tr>\n",
       "  </tbody>\n",
       "</table>\n",
       "<p>830 rows × 7 columns</p>\n",
       "</div>"
      ],
      "text/plain": [
       "              duration use_type   network network_type  call_date call_time  \\\n",
       "entry_number                                                                  \n",
       "0               34.429     data      data         data 2014-10-15     06:58   \n",
       "1               13.000     call  vodafone       mobile 2014-10-15     06:58   \n",
       "2               23.000     call    meteor       mobile 2014-10-15     14:46   \n",
       "3                4.000     call     tesco       mobile 2014-10-15     14:48   \n",
       "4                4.000     call     tesco       mobile 2014-10-15     17:27   \n",
       "...                ...      ...       ...          ...        ...       ...   \n",
       "825              1.000      sms     world        world 2015-03-13     00:38   \n",
       "826              1.000      sms  vodafone       mobile 2015-03-13     00:39   \n",
       "827             34.429     data      data         data 2015-03-13     06:58   \n",
       "828              1.000      sms     world        world 2015-03-14     00:13   \n",
       "829              1.000      sms     world        world 2015-03-14     00:16   \n",
       "\n",
       "              usage_minutes  \n",
       "entry_number                 \n",
       "0                  0.573817  \n",
       "1                  0.216667  \n",
       "2                  0.383333  \n",
       "3                  0.066667  \n",
       "4                  0.066667  \n",
       "...                     ...  \n",
       "825                0.016667  \n",
       "826                0.016667  \n",
       "827                0.573817  \n",
       "828                0.016667  \n",
       "829                0.016667  \n",
       "\n",
       "[830 rows x 7 columns]"
      ]
     },
     "execution_count": 5,
     "metadata": {},
     "output_type": "execute_result"
    }
   ],
   "source": [
    "df = prep_df(df)\n",
    "df"
   ]
  },
  {
   "cell_type": "code",
   "execution_count": 6,
   "id": "b4245dc2",
   "metadata": {},
   "outputs": [
    {
     "data": {
      "text/plain": [
       "duration                float64\n",
       "use_type                 object\n",
       "network                  object\n",
       "network_type             object\n",
       "call_date        datetime64[ns]\n",
       "call_time                object\n",
       "usage_minutes           float64\n",
       "dtype: object"
      ]
     },
     "execution_count": 6,
     "metadata": {},
     "output_type": "execute_result"
    }
   ],
   "source": [
    "df.dtypes"
   ]
  },
  {
   "cell_type": "code",
   "execution_count": 7,
   "id": "d33041ce",
   "metadata": {},
   "outputs": [
    {
     "data": {
      "text/plain": [
       "Index             6640\n",
       "duration          6640\n",
       "use_type         50338\n",
       "network          52282\n",
       "network_type     52151\n",
       "call_date         6640\n",
       "call_time        51362\n",
       "usage_minutes     6640\n",
       "dtype: int64"
      ]
     },
     "execution_count": 7,
     "metadata": {},
     "output_type": "execute_result"
    }
   ],
   "source": [
    "(df\n",
    " .memory_usage(deep=True)\n",
    " #.sum()\n",
    ")"
   ]
  },
  {
   "cell_type": "code",
   "execution_count": 8,
   "id": "5b751701",
   "metadata": {},
   "outputs": [
    {
     "data": {
      "text/plain": [
       "duration         0\n",
       "use_type         0\n",
       "network          0\n",
       "network_type     0\n",
       "call_date        0\n",
       "call_time        0\n",
       "usage_minutes    0\n",
       "dtype: int64"
      ]
     },
     "execution_count": 8,
     "metadata": {},
     "output_type": "execute_result"
    }
   ],
   "source": [
    "df.isna().sum()"
   ]
  },
  {
   "cell_type": "code",
   "execution_count": 9,
   "id": "39f946de",
   "metadata": {},
   "outputs": [
    {
     "data": {
      "text/plain": [
       "['data', 'call', 'sms']"
      ]
     },
     "execution_count": 9,
     "metadata": {},
     "output_type": "execute_result"
    }
   ],
   "source": [
    "list(df.use_type.unique())"
   ]
  },
  {
   "cell_type": "code",
   "execution_count": 10,
   "id": "5c06d795",
   "metadata": {},
   "outputs": [
    {
     "name": "stdout",
     "output_type": "stream",
     "text": [
      "The total hours of phone use in the dataset is 27.16 Hrs and the avergae is 1.96 Minutes.\n"
     ]
    }
   ],
   "source": [
    "print(f'The total hours of phone use in the dataset is {(df.usage_minutes.sum()/60).round(2)} Hrs and the avergae is {df.usage_minutes.mean().round(2)} Minutes.')"
   ]
  },
  {
   "cell_type": "code",
   "execution_count": 11,
   "id": "943b023b",
   "metadata": {},
   "outputs": [
    {
     "data": {
      "text/plain": [
       "<AxesSubplot:title={'center':'Total Call Durations for Networks'}, xlabel='call duration (in seconds)', ylabel='Network'>"
      ]
     },
     "execution_count": 11,
     "metadata": {},
     "output_type": "execute_result"
    },
    {
     "data": {
      "image/png": "[encoded data removed]",
      "text/plain": [
       "<Figure size 576x288 with 1 Axes>"
      ]
     },
     "metadata": {
      "needs_background": "light"
     },
     "output_type": "display_data"
    }
   ],
   "source": [
    "df.query('use_type == \"call\"').groupby('network')['duration'].sum().sort_values().plot.barh(\n",
    "    plt.figure(figsize=(8,4)),\n",
    "    title='Total Call Durations for Networks',\n",
    "    xlabel='call duration (in seconds)',\n",
    "    ylabel='Network'\n",
    "    )"
   ]
  },
  {
   "cell_type": "code",
   "execution_count": 12,
   "id": "76bcc49b",
   "metadata": {},
   "outputs": [
    {
     "data": {
      "text/plain": [
       "vodafone     215\n",
       "three        215\n",
       "data         150\n",
       "meteor        87\n",
       "tesco         84\n",
       "landline      42\n",
       "voicemail     27\n",
       "world          7\n",
       "special        3\n",
       "Name: network, dtype: int64"
      ]
     },
     "execution_count": 12,
     "metadata": {},
     "output_type": "execute_result"
    }
   ],
   "source": [
    "df.network.value_counts()"
   ]
  },
  {
   "cell_type": "code",
   "execution_count": 13,
   "id": "8b69bbe6",
   "metadata": {},
   "outputs": [
    {
     "data": {
      "text/plain": [
       "[2014, 2015]"
      ]
     },
     "execution_count": 13,
     "metadata": {},
     "output_type": "execute_result"
    }
   ],
   "source": [
    "list(df.call_date.dt.year.unique())"
   ]
  },
  {
   "cell_type": "code",
   "execution_count": 14,
   "id": "8d9f3e1d",
   "metadata": {},
   "outputs": [
    {
     "data": {
      "text/plain": [
       "Index(['duration', 'use_type', 'network', 'network_type', 'call_date',\n",
       "       'call_time', 'usage_minutes'],\n",
       "      dtype='object')"
      ]
     },
     "execution_count": 14,
     "metadata": {},
     "output_type": "execute_result"
    }
   ],
   "source": [
    "df.columns"
   ]
  },
  {
   "cell_type": "code",
   "execution_count": 15,
   "id": "a01f9beb",
   "metadata": {},
   "outputs": [
    {
     "data": {
      "text/plain": [
       "<AxesSubplot:title={'center':'Phone Use'}, xlabel='Period', ylabel='Time of Use (in minutes)'>"
      ]
     },
     "execution_count": 15,
     "metadata": {},
     "output_type": "execute_result"
    },
    {
     "data": {
      "image/png": "[encoded data removed]",
      "text/plain": [
       "<Figure size 576x288 with 1 Axes>"
      ]
     },
     "metadata": {},
     "output_type": "display_data"
    }
   ],
   "source": [
    "(df\n",
    ".groupby(pd.Grouper(key='call_date', freq='1M'))['usage_minutes'].sum().plot.line(\n",
    "    plt.style.use('seaborn'),\n",
    "    plt.figure(figsize=(8,4)),\n",
    "    title='Phone Use',\n",
    "    ylabel='Time of Use (in minutes)',\n",
    "    xlabel='Period'\n",
    "))"
   ]
  },
  {
   "cell_type": "code",
   "execution_count": 16,
   "id": "88a59045",
   "metadata": {},
   "outputs": [
    {
     "ename": "TypeError",
     "evalue": "'Series' object is not callable",
     "output_type": "error",
     "traceback": [
      "\u001b[1;31m---------------------------------------------------------------------------\u001b[0m",
      "\u001b[1;31mTypeError\u001b[0m                                 Traceback (most recent call last)",
      "\u001b[1;32mc:\\Users\\FatherMammoth\\Documents\\PortfolioPorjects\\weekly_practice\\15_11_22\\15-11-22_phone_data_analysis.ipynb Cell 17\u001b[0m in \u001b[0;36m<cell line: 1>\u001b[1;34m()\u001b[0m\n\u001b[0;32m      <a href='vscode-notebook-cell:/c%3A/Users/FatherMammoth/Documents/PortfolioPorjects/weekly_practice/15_11_22/15-11-22_phone_data_analysis.ipynb#X22sZmlsZQ%3D%3D?line=0'>1</a>\u001b[0m (pd\n\u001b[0;32m      <a href='vscode-notebook-cell:/c%3A/Users/FatherMammoth/Documents/PortfolioPorjects/weekly_practice/15_11_22/15-11-22_phone_data_analysis.ipynb#X22sZmlsZQ%3D%3D?line=1'>2</a>\u001b[0m  \u001b[39m.\u001b[39mpivot_table(df, \u001b[39m'\u001b[39m\u001b[39musage_minutes\u001b[39m\u001b[39m'\u001b[39m,\n\u001b[0;32m      <a href='vscode-notebook-cell:/c%3A/Users/FatherMammoth/Documents/PortfolioPorjects/weekly_practice/15_11_22/15-11-22_phone_data_analysis.ipynb#X22sZmlsZQ%3D%3D?line=2'>3</a>\u001b[0m               index\u001b[39m=\u001b[39mdf[\u001b[39m'\u001b[39m\u001b[39mnetwork\u001b[39m\u001b[39m'\u001b[39m]\u001b[39m.\u001b[39munique(),\n\u001b[1;32m----> <a href='vscode-notebook-cell:/c%3A/Users/FatherMammoth/Documents/PortfolioPorjects/weekly_practice/15_11_22/15-11-22_phone_data_analysis.ipynb#X22sZmlsZQ%3D%3D?line=3'>4</a>\u001b[0m               columns\u001b[39m=\u001b[39mdf[\u001b[39m'\u001b[39;49m\u001b[39mcall_date\u001b[39;49m\u001b[39m'\u001b[39;49m]\u001b[39m.\u001b[39;49mdt\u001b[39m.\u001b[39;49myear(),\n\u001b[0;32m      <a href='vscode-notebook-cell:/c%3A/Users/FatherMammoth/Documents/PortfolioPorjects/weekly_practice/15_11_22/15-11-22_phone_data_analysis.ipynb#X22sZmlsZQ%3D%3D?line=4'>5</a>\u001b[0m               aggfunc\u001b[39m=\u001b[39mnp\u001b[39m.\u001b[39msum)\n\u001b[0;32m      <a href='vscode-notebook-cell:/c%3A/Users/FatherMammoth/Documents/PortfolioPorjects/weekly_practice/15_11_22/15-11-22_phone_data_analysis.ipynb#X22sZmlsZQ%3D%3D?line=5'>6</a>\u001b[0m  \u001b[39m#.style.format()\u001b[39;00m\n\u001b[0;32m      <a href='vscode-notebook-cell:/c%3A/Users/FatherMammoth/Documents/PortfolioPorjects/weekly_practice/15_11_22/15-11-22_phone_data_analysis.ipynb#X22sZmlsZQ%3D%3D?line=6'>7</a>\u001b[0m  \u001b[39m#.set_caption('Monthly Call Durations For Each Newtork')\u001b[39;00m\n\u001b[0;32m      <a href='vscode-notebook-cell:/c%3A/Users/FatherMammoth/Documents/PortfolioPorjects/weekly_practice/15_11_22/15-11-22_phone_data_analysis.ipynb#X22sZmlsZQ%3D%3D?line=7'>8</a>\u001b[0m  \u001b[39m#.highlight_min(color='red')\u001b[39;00m\n\u001b[0;32m      <a href='vscode-notebook-cell:/c%3A/Users/FatherMammoth/Documents/PortfolioPorjects/weekly_practice/15_11_22/15-11-22_phone_data_analysis.ipynb#X22sZmlsZQ%3D%3D?line=8'>9</a>\u001b[0m  \u001b[39m#.highlight_max(color='green')\u001b[39;00m\n\u001b[0;32m     <a href='vscode-notebook-cell:/c%3A/Users/FatherMammoth/Documents/PortfolioPorjects/weekly_practice/15_11_22/15-11-22_phone_data_analysis.ipynb#X22sZmlsZQ%3D%3D?line=9'>10</a>\u001b[0m )\n",
      "\u001b[1;31mTypeError\u001b[0m: 'Series' object is not callable"
     ]
    }
   ],
   "source": [
    "(pd\n",
    " .pivot_table(df, 'usage_minutes',\n",
    "              index=df['network'].unique(),\n",
    "              columns=df['call_date'].dt.year(),\n",
    "              aggfunc=np.sum)\n",
    " #.style.format()\n",
    " #.set_caption('Monthly Call Durations For Each Newtork')\n",
    " #.highlight_min(color='red')\n",
    " #.highlight_max(color='green')\n",
    ")"
   ]
  },
  {
   "cell_type": "code",
   "execution_count": null,
   "id": "934d7f73",
   "metadata": {},
   "outputs": [],
   "source": []
  }
 ],
 "metadata": {
  "kernelspec": {
   "display_name": "Python 3 (ipykernel)",
   "language": "python",
   "name": "python3"
  },
  "language_info": {
   "codemirror_mode": {
    "name": "ipython",
    "version": 3
   },
   "file_extension": ".py",
   "mimetype": "text/x-python",
   "name": "python",
   "nbconvert_exporter": "python",
   "pygments_lexer": "ipython3",
   "version": "3.10.4"
  },
  "vscode": {
   "interpreter": {
    "hash": "f3d5247997b242e2ee84c3d630eeeccac3e67b2682a45443aeb85a33b102e51d"
   }
  }
 },
 "nbformat": 4,
 "nbformat_minor": 5
}
