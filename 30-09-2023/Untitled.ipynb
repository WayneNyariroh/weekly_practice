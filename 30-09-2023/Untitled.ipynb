{
 "cells": [
  {
   "cell_type": "markdown",
   "id": "8989da37-4deb-4a1a-83df-33a90b1113b2",
   "metadata": {},
   "source": [
    "Slacked off with my weekly practice, time to get back and it and what's better way than with a timeseries dataset"
   ]
  },
  {
   "cell_type": "code",
   "execution_count": 1,
   "id": "9a5cdfe5-b7ca-425e-b942-789657b7ad55",
   "metadata": {},
   "outputs": [],
   "source": [
    "import pandas as pd\n",
    "import numpy as np\n",
    "import altair as alt\n",
    "import datetime\n",
    "import matplotlib.pyplot as plt\n",
    "import seaborn as sns"
   ]
  },
  {
   "cell_type": "code",
   "execution_count": 2,
   "id": "707f7954-be0a-424e-a592-f813a3bd28c1",
   "metadata": {},
   "outputs": [],
   "source": [
    "import warnings\n",
    "warnings.filterwarnings(\"ignore\")"
   ]
  },
  {
   "cell_type": "code",
   "execution_count": 3,
   "id": "622254f9-60e4-41da-949e-cb7740bc5213",
   "metadata": {
    "tags": []
   },
   "outputs": [
    {
     "name": "stdout",
     "output_type": "stream",
     "text": [
      "<class 'pandas.core.frame.DataFrame'>\n",
      "RangeIndex: 253 entries, 0 to 252\n",
      "Data columns (total 7 columns):\n",
      " #   Column     Non-Null Count  Dtype  \n",
      "---  ------     --------------  -----  \n",
      " 0   Date       253 non-null    object \n",
      " 1   Open       253 non-null    float64\n",
      " 2   High       253 non-null    float64\n",
      " 3   Low        253 non-null    float64\n",
      " 4   Close      253 non-null    float64\n",
      " 5   Adj Close  253 non-null    float64\n",
      " 6   Volume     253 non-null    int64  \n",
      "dtypes: float64(5), int64(1), object(1)\n",
      "memory usage: 14.0+ KB\n"
     ]
    }
   ],
   "source": [
    "data = \"FB_data.csv\"\n",
    "tseries_df = pd.read_csv(data)\n",
    "\n",
    "tseries_df.info()"
   ]
  },
  {
   "cell_type": "code",
   "execution_count": 4,
   "id": "f18bf98b-0b47-4f8c-bbf2-6b0268305ff1",
   "metadata": {
    "tags": []
   },
   "outputs": [
    {
     "data": {
      "text/html": [
       "<div>\n",
       "<style scoped>\n",
       "    .dataframe tbody tr th:only-of-type {\n",
       "        vertical-align: middle;\n",
       "    }\n",
       "\n",
       "    .dataframe tbody tr th {\n",
       "        vertical-align: top;\n",
       "    }\n",
       "\n",
       "    .dataframe thead th {\n",
       "        text-align: right;\n",
       "    }\n",
       "</style>\n",
       "<table border=\"1\" class=\"dataframe\">\n",
       "  <thead>\n",
       "    <tr style=\"text-align: right;\">\n",
       "      <th></th>\n",
       "      <th>Date</th>\n",
       "      <th>Open</th>\n",
       "      <th>High</th>\n",
       "      <th>Low</th>\n",
       "      <th>Close</th>\n",
       "      <th>Adj Close</th>\n",
       "      <th>Volume</th>\n",
       "    </tr>\n",
       "  </thead>\n",
       "  <tbody>\n",
       "    <tr>\n",
       "      <th>69</th>\n",
       "      <td>9/27/2019</td>\n",
       "      <td>180.490005</td>\n",
       "      <td>180.759995</td>\n",
       "      <td>175.660004</td>\n",
       "      <td>177.100006</td>\n",
       "      <td>177.100006</td>\n",
       "      <td>14656200</td>\n",
       "    </tr>\n",
       "    <tr>\n",
       "      <th>218</th>\n",
       "      <td>5/1/2020</td>\n",
       "      <td>201.600006</td>\n",
       "      <td>207.279999</td>\n",
       "      <td>199.050003</td>\n",
       "      <td>202.270004</td>\n",
       "      <td>202.270004</td>\n",
       "      <td>30415600</td>\n",
       "    </tr>\n",
       "    <tr>\n",
       "      <th>185</th>\n",
       "      <td>3/16/2020</td>\n",
       "      <td>152.320007</td>\n",
       "      <td>159.130005</td>\n",
       "      <td>143.100006</td>\n",
       "      <td>146.009995</td>\n",
       "      <td>146.009995</td>\n",
       "      <td>39120400</td>\n",
       "    </tr>\n",
       "    <tr>\n",
       "      <th>247</th>\n",
       "      <td>6/12/2020</td>\n",
       "      <td>229.899994</td>\n",
       "      <td>231.660004</td>\n",
       "      <td>224.500000</td>\n",
       "      <td>228.580002</td>\n",
       "      <td>228.580002</td>\n",
       "      <td>22071700</td>\n",
       "    </tr>\n",
       "    <tr>\n",
       "      <th>21</th>\n",
       "      <td>7/22/2019</td>\n",
       "      <td>199.910004</td>\n",
       "      <td>202.570007</td>\n",
       "      <td>198.809998</td>\n",
       "      <td>202.320007</td>\n",
       "      <td>202.320007</td>\n",
       "      <td>13589000</td>\n",
       "    </tr>\n",
       "  </tbody>\n",
       "</table>\n",
       "</div>"
      ],
      "text/plain": [
       "          Date        Open        High         Low       Close   Adj Close  \\\n",
       "69   9/27/2019  180.490005  180.759995  175.660004  177.100006  177.100006   \n",
       "218   5/1/2020  201.600006  207.279999  199.050003  202.270004  202.270004   \n",
       "185  3/16/2020  152.320007  159.130005  143.100006  146.009995  146.009995   \n",
       "247  6/12/2020  229.899994  231.660004  224.500000  228.580002  228.580002   \n",
       "21   7/22/2019  199.910004  202.570007  198.809998  202.320007  202.320007   \n",
       "\n",
       "       Volume  \n",
       "69   14656200  \n",
       "218  30415600  \n",
       "185  39120400  \n",
       "247  22071700  \n",
       "21   13589000  "
      ]
     },
     "execution_count": 4,
     "metadata": {},
     "output_type": "execute_result"
    }
   ],
   "source": [
    "tseries_df.sample(5)"
   ]
  },
  {
   "cell_type": "code",
   "execution_count": 5,
   "id": "dd226fac-6538-4886-9a44-7adafef789fd",
   "metadata": {
    "tags": []
   },
   "outputs": [
    {
     "data": {
      "text/plain": [
       "0"
      ]
     },
     "execution_count": 5,
     "metadata": {},
     "output_type": "execute_result"
    }
   ],
   "source": [
    "tseries_df.duplicated().sum()"
   ]
  },
  {
   "cell_type": "code",
   "execution_count": 6,
   "id": "6e067326-7edf-4a8c-a903-b294163d9fa6",
   "metadata": {
    "tags": []
   },
   "outputs": [
    {
     "data": {
      "text/plain": [
       "Date         0\n",
       "Open         0\n",
       "High         0\n",
       "Low          0\n",
       "Close        0\n",
       "Adj Close    0\n",
       "Volume       0\n",
       "dtype: int64"
      ]
     },
     "execution_count": 6,
     "metadata": {},
     "output_type": "execute_result"
    }
   ],
   "source": [
    "tseries_df.isna().sum()"
   ]
  },
  {
   "cell_type": "code",
   "execution_count": 7,
   "id": "3e748fdc-a53b-4089-82d4-d63f5ce3bde9",
   "metadata": {},
   "outputs": [],
   "source": [
    "tseries_df['Date'] = pd.to_datetime(tseries_df['Date'])"
   ]
  },
  {
   "cell_type": "code",
   "execution_count": 8,
   "id": "f31d6932-8edc-42b7-b9e3-6f25af70aa75",
   "metadata": {
    "tags": []
   },
   "outputs": [
    {
     "name": "stdout",
     "output_type": "stream",
     "text": [
      "<class 'pandas.core.frame.DataFrame'>\n",
      "RangeIndex: 253 entries, 0 to 252\n",
      "Data columns (total 7 columns):\n",
      " #   Column     Non-Null Count  Dtype         \n",
      "---  ------     --------------  -----         \n",
      " 0   Date       253 non-null    datetime64[ns]\n",
      " 1   Open       253 non-null    float64       \n",
      " 2   High       253 non-null    float64       \n",
      " 3   Low        253 non-null    float64       \n",
      " 4   Close      253 non-null    float64       \n",
      " 5   Adj Close  253 non-null    float64       \n",
      " 6   Volume     253 non-null    int64         \n",
      "dtypes: datetime64[ns](1), float64(5), int64(1)\n",
      "memory usage: 14.0 KB\n"
     ]
    }
   ],
   "source": [
    "tseries_df.info()"
   ]
  },
  {
   "cell_type": "code",
   "execution_count": 9,
   "id": "8423bcbc-4e0f-42bd-aead-6564b70a9560",
   "metadata": {},
   "outputs": [
    {
     "data": {
      "text/plain": [
       "<Axes: xlabel='Date'>"
      ]
     },
     "execution_count": 9,
     "metadata": {},
     "output_type": "execute_result"
    },
    {
     "data": {
      "image/png": "[encoded data removed]",
      "text/plain": [
       "<Figure size 1400x400 with 1 Axes>"
      ]
     },
     "metadata": {},
     "output_type": "display_data"
    }
   ],
   "source": [
    "(tseries_df.set_index('Date')).loc['10/10/2019':'12/18/2019'][['Open', 'Close']].plot.line(figsize=(14,4))"
   ]
  },
  {
   "cell_type": "code",
   "execution_count": 10,
   "id": "3d97501c-c2e3-4c61-b1c9-3aaeea3bacff",
   "metadata": {},
   "outputs": [
    {
     "data": {
      "text/plain": [
       "<Axes: ylabel='Date'>"
      ]
     },
     "execution_count": 10,
     "metadata": {},
     "output_type": "execute_result"
    },
    {
     "data": {
      "image/png": "[encoded data removed]",
      "text/plain": [
       "<Figure size 640x480 with 1 Axes>"
      ]
     },
     "metadata": {},
     "output_type": "display_data"
    }
   ],
   "source": [
    "(tseries_df.groupby(pd.Grouper(key='Date', freq='3m'))[['Volume']].sum().plot.barh())"
   ]
  },
  {
   "cell_type": "code",
   "execution_count": 16,
   "id": "5fa01569-2b82-4f6c-9541-390fe29add87",
   "metadata": {},
   "outputs": [
    {
     "data": {
      "text/html": [
       "<div>\n",
       "<style scoped>\n",
       "    .dataframe tbody tr th:only-of-type {\n",
       "        vertical-align: middle;\n",
       "    }\n",
       "\n",
       "    .dataframe tbody tr th {\n",
       "        vertical-align: top;\n",
       "    }\n",
       "\n",
       "    .dataframe thead th {\n",
       "        text-align: right;\n",
       "    }\n",
       "</style>\n",
       "<table border=\"1\" class=\"dataframe\">\n",
       "  <thead>\n",
       "    <tr style=\"text-align: right;\">\n",
       "      <th>Date</th>\n",
       "      <th>2019-06-30</th>\n",
       "      <th>2019-09-30</th>\n",
       "      <th>2019-12-31</th>\n",
       "      <th>2020-03-31</th>\n",
       "      <th>2020-06-30</th>\n",
       "    </tr>\n",
       "    <tr>\n",
       "      <th>Date</th>\n",
       "      <th></th>\n",
       "      <th></th>\n",
       "      <th></th>\n",
       "      <th></th>\n",
       "      <th></th>\n",
       "    </tr>\n",
       "  </thead>\n",
       "  <tbody>\n",
       "    <tr>\n",
       "      <th>Friday</th>\n",
       "      <td>39130100</td>\n",
       "      <td>191429300</td>\n",
       "      <td>180897700</td>\n",
       "      <td>269175900</td>\n",
       "      <td>264289300</td>\n",
       "    </tr>\n",
       "    <tr>\n",
       "      <th>Monday</th>\n",
       "      <td>15509000</td>\n",
       "      <td>169801300</td>\n",
       "      <td>156649700</td>\n",
       "      <td>242144400</td>\n",
       "      <td>194459300</td>\n",
       "    </tr>\n",
       "    <tr>\n",
       "      <th>Thursday</th>\n",
       "      <td>25794700</td>\n",
       "      <td>183779400</td>\n",
       "      <td>181979300</td>\n",
       "      <td>284439600</td>\n",
       "      <td>304636600</td>\n",
       "    </tr>\n",
       "    <tr>\n",
       "      <th>Tuesday</th>\n",
       "      <td>16750300</td>\n",
       "      <td>171917300</td>\n",
       "      <td>179287800</td>\n",
       "      <td>278467500</td>\n",
       "      <td>263421100</td>\n",
       "    </tr>\n",
       "    <tr>\n",
       "      <th>Wednesday</th>\n",
       "      <td>12808600</td>\n",
       "      <td>193368600</td>\n",
       "      <td>161953700</td>\n",
       "      <td>240090900</td>\n",
       "      <td>320975100</td>\n",
       "    </tr>\n",
       "  </tbody>\n",
       "</table>\n",
       "</div>"
      ],
      "text/plain": [
       "Date       2019-06-30  2019-09-30  2019-12-31  2020-03-31  2020-06-30\n",
       "Date                                                                 \n",
       "Friday       39130100   191429300   180897700   269175900   264289300\n",
       "Monday       15509000   169801300   156649700   242144400   194459300\n",
       "Thursday     25794700   183779400   181979300   284439600   304636600\n",
       "Tuesday      16750300   171917300   179287800   278467500   263421100\n",
       "Wednesday    12808600   193368600   161953700   240090900   320975100"
      ]
     },
     "execution_count": 16,
     "metadata": {},
     "output_type": "execute_result"
    }
   ],
   "source": [
    "(pd.pivot_table(tseries_df,\n",
    "            'Volume',\n",
    "            index=tseries_df['Date'].dt.day_name(),\n",
    "            columns=pd.Grouper(key='Date', freq='3M'),\n",
    "            aggfunc='sum',\n",
    "            fill_value=0))"
   ]
  },
  {
   "cell_type": "code",
   "execution_count": 12,
   "id": "7b68fe87-67f2-4192-b53d-1f5d4e761e52",
   "metadata": {},
   "outputs": [
    {
     "data": {
      "text/html": [
       "<div>\n",
       "<style scoped>\n",
       "    .dataframe tbody tr th:only-of-type {\n",
       "        vertical-align: middle;\n",
       "    }\n",
       "\n",
       "    .dataframe tbody tr th {\n",
       "        vertical-align: top;\n",
       "    }\n",
       "\n",
       "    .dataframe thead th {\n",
       "        text-align: right;\n",
       "    }\n",
       "</style>\n",
       "<table border=\"1\" class=\"dataframe\">\n",
       "  <thead>\n",
       "    <tr style=\"text-align: right;\">\n",
       "      <th></th>\n",
       "      <th>Open</th>\n",
       "      <th>High</th>\n",
       "      <th>Low</th>\n",
       "      <th>Close</th>\n",
       "      <th>Adj Close</th>\n",
       "      <th>Volume</th>\n",
       "    </tr>\n",
       "    <tr>\n",
       "      <th>Date</th>\n",
       "      <th></th>\n",
       "      <th></th>\n",
       "      <th></th>\n",
       "      <th></th>\n",
       "      <th></th>\n",
       "      <th></th>\n",
       "    </tr>\n",
       "  </thead>\n",
       "  <tbody>\n",
       "    <tr>\n",
       "      <th>2019-06-20</th>\n",
       "      <td>190.949997</td>\n",
       "      <td>191.160004</td>\n",
       "      <td>187.639999</td>\n",
       "      <td>189.529999</td>\n",
       "      <td>189.529999</td>\n",
       "      <td>14635700</td>\n",
       "    </tr>\n",
       "    <tr>\n",
       "      <th>2019-06-21</th>\n",
       "      <td>188.750000</td>\n",
       "      <td>192.000000</td>\n",
       "      <td>188.750000</td>\n",
       "      <td>191.139999</td>\n",
       "      <td>191.139999</td>\n",
       "      <td>22751200</td>\n",
       "    </tr>\n",
       "    <tr>\n",
       "      <th>2019-06-24</th>\n",
       "      <td>192.419998</td>\n",
       "      <td>193.979996</td>\n",
       "      <td>191.570007</td>\n",
       "      <td>192.600006</td>\n",
       "      <td>192.600006</td>\n",
       "      <td>15509000</td>\n",
       "    </tr>\n",
       "    <tr>\n",
       "      <th>2019-06-25</th>\n",
       "      <td>192.880005</td>\n",
       "      <td>193.139999</td>\n",
       "      <td>188.130005</td>\n",
       "      <td>188.839996</td>\n",
       "      <td>188.839996</td>\n",
       "      <td>16750300</td>\n",
       "    </tr>\n",
       "    <tr>\n",
       "      <th>2019-06-26</th>\n",
       "      <td>189.539993</td>\n",
       "      <td>190.759995</td>\n",
       "      <td>187.309998</td>\n",
       "      <td>187.660004</td>\n",
       "      <td>187.660004</td>\n",
       "      <td>12808600</td>\n",
       "    </tr>\n",
       "    <tr>\n",
       "      <th>...</th>\n",
       "      <td>...</td>\n",
       "      <td>...</td>\n",
       "      <td>...</td>\n",
       "      <td>...</td>\n",
       "      <td>...</td>\n",
       "      <td>...</td>\n",
       "    </tr>\n",
       "    <tr>\n",
       "      <th>2020-06-15</th>\n",
       "      <td>225.089996</td>\n",
       "      <td>233.770004</td>\n",
       "      <td>224.800003</td>\n",
       "      <td>232.500000</td>\n",
       "      <td>232.500000</td>\n",
       "      <td>15340300</td>\n",
       "    </tr>\n",
       "    <tr>\n",
       "      <th>2020-06-16</th>\n",
       "      <td>237.139999</td>\n",
       "      <td>238.460007</td>\n",
       "      <td>233.000000</td>\n",
       "      <td>235.649994</td>\n",
       "      <td>235.649994</td>\n",
       "      <td>15236700</td>\n",
       "    </tr>\n",
       "    <tr>\n",
       "      <th>2020-06-17</th>\n",
       "      <td>235.000000</td>\n",
       "      <td>237.589996</td>\n",
       "      <td>231.729996</td>\n",
       "      <td>235.529999</td>\n",
       "      <td>235.529999</td>\n",
       "      <td>19552800</td>\n",
       "    </tr>\n",
       "    <tr>\n",
       "      <th>2020-06-18</th>\n",
       "      <td>234.990005</td>\n",
       "      <td>236.139999</td>\n",
       "      <td>232.149994</td>\n",
       "      <td>235.940002</td>\n",
       "      <td>235.940002</td>\n",
       "      <td>15782500</td>\n",
       "    </tr>\n",
       "    <tr>\n",
       "      <th>2020-06-19</th>\n",
       "      <td>237.789993</td>\n",
       "      <td>240.830002</td>\n",
       "      <td>235.550003</td>\n",
       "      <td>238.789993</td>\n",
       "      <td>238.789993</td>\n",
       "      <td>30069700</td>\n",
       "    </tr>\n",
       "  </tbody>\n",
       "</table>\n",
       "<p>253 rows × 6 columns</p>\n",
       "</div>"
      ],
      "text/plain": [
       "                  Open        High         Low       Close   Adj Close  \\\n",
       "Date                                                                     \n",
       "2019-06-20  190.949997  191.160004  187.639999  189.529999  189.529999   \n",
       "2019-06-21  188.750000  192.000000  188.750000  191.139999  191.139999   \n",
       "2019-06-24  192.419998  193.979996  191.570007  192.600006  192.600006   \n",
       "2019-06-25  192.880005  193.139999  188.130005  188.839996  188.839996   \n",
       "2019-06-26  189.539993  190.759995  187.309998  187.660004  187.660004   \n",
       "...                ...         ...         ...         ...         ...   \n",
       "2020-06-15  225.089996  233.770004  224.800003  232.500000  232.500000   \n",
       "2020-06-16  237.139999  238.460007  233.000000  235.649994  235.649994   \n",
       "2020-06-17  235.000000  237.589996  231.729996  235.529999  235.529999   \n",
       "2020-06-18  234.990005  236.139999  232.149994  235.940002  235.940002   \n",
       "2020-06-19  237.789993  240.830002  235.550003  238.789993  238.789993   \n",
       "\n",
       "              Volume  \n",
       "Date                  \n",
       "2019-06-20  14635700  \n",
       "2019-06-21  22751200  \n",
       "2019-06-24  15509000  \n",
       "2019-06-25  16750300  \n",
       "2019-06-26  12808600  \n",
       "...              ...  \n",
       "2020-06-15  15340300  \n",
       "2020-06-16  15236700  \n",
       "2020-06-17  19552800  \n",
       "2020-06-18  15782500  \n",
       "2020-06-19  30069700  \n",
       "\n",
       "[253 rows x 6 columns]"
      ]
     },
     "execution_count": 12,
     "metadata": {},
     "output_type": "execute_result"
    }
   ],
   "source": [
    "(tseries_df.set_index('Date'))"
   ]
  },
  {
   "cell_type": "code",
   "execution_count": null,
   "id": "79a94023-0cc8-45da-b7c0-5f7759cc7532",
   "metadata": {},
   "outputs": [],
   "source": []
  }
 ],
 "metadata": {
  "kernelspec": {
   "display_name": "Python 3.11.5 ('gisenv')",
   "language": "python",
   "name": "python3"
  },
  "language_info": {
   "codemirror_mode": {
    "name": "ipython",
    "version": 3
   },
   "file_extension": ".py",
   "mimetype": "text/x-python",
   "name": "python",
   "nbconvert_exporter": "python",
   "pygments_lexer": "ipython3",
   "version": "3.11.5"
  },
  "vscode": {
   "interpreter": {
    "hash": "acb79f9043e5b1c1529c64d2303b516ef5142c2511b32d722fdcb807fd03c767"
   }
  }
 },
 "nbformat": 4,
 "nbformat_minor": 5
}
